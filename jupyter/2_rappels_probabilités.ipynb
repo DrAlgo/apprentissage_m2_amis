{
 "cells": [
  {
   "cell_type": "markdown",
   "metadata": {
    "slideshow": {
     "slide_type": "slide"
    }
   },
   "source": [
    "# Rappels de Probabilités\n",
    "## espaces de probabilités"
   ]
  },
  {
   "cell_type": "markdown",
   "metadata": {
    "slideshow": {
     "slide_type": "subslide"
    }
   },
   "source": [
    "**Définition**\n",
    "On définit un **espace de probabilité** en donnant :\n",
    "1.  Un ensemble $\\Omega$, l'ensemble des *événements élémentaires*, dont les parties sont appelées les *événements*. On note $\\cal E$ l'ensemble des événements.\n",
    "2. Une *probabilité* $P$, c'est-à-dire une application $P$ qui associe à chaque événement $A$ un nombre réel  \n",
    "  * (i)   $\\forall A \\in {\\cal E}, 0 \\leq P(A) \\leq 1$  \n",
    "  * (ii)  $P(\\Omega) = 1$\n",
    "  * (iii) Si $A_1, A_2, \\dots$ dont des événements disjoints deux à deux alors\n",
    "  $$P(\\bigcup_{i=1}^\\infty A_i) = \\sum_{i=0}^{+\\infty} P(A_i)$$ \n"
   ]
  },
  {
   "cell_type": "markdown",
   "metadata": {
    "slideshow": {
     "slide_type": "subslide"
    }
   },
   "source": [
    "Un cas particulier de (iii) est le cas\n",
    "$$P(A \\cup B) = P(A) + P(B)$$\n",
    "pour deux événements $A$ et $B$ disjoints"
   ]
  },
  {
   "cell_type": "markdown",
   "metadata": {
    "slideshow": {
     "slide_type": "fragment"
    }
   },
   "source": [
    "Si $A$ et $B$ ne sont pas disjoints on peut écrire\n",
    "$$P(A \\cup B) = P(A) + P(B) - P(A \\cap B)$$\n",
    "<img src=\"images/inter.gif\" width=400>"
   ]
  },
  {
   "cell_type": "markdown",
   "metadata": {
    "slideshow": {
     "slide_type": "subslide"
    }
   },
   "source": [
    "Si $A_1, A_2, \\dots, A_n$ forment une *partition* de l'ensemble des événements on peut écrire que\n",
    "$$P(A) = P(A \\cap A_1) +  P(A \\cap A_2) + \\dots + P(A \\cap A_n)$$\n",
    "<img src=\"images/partition.png\" width=300>\n",
    "(**loi des probabilités totales**)"
   ]
  },
  {
   "cell_type": "markdown",
   "metadata": {
    "slideshow": {
     "slide_type": "fragment"
    }
   },
   "source": [
    "Remarque : techniquement quand $\\Omega$ est non dénombrable on ne peut pas définir $P$ sur toutes les parties \n",
    "de $\\Omega$ mais nous ferons abstraction de cette difficulté dans ce cours et \n",
    "supposerons toujours que tout est *mesurable*."
   ]
  },
  {
   "cell_type": "markdown",
   "metadata": {
    "slideshow": {
     "slide_type": "slide"
    }
   },
   "source": [
    "**Exemples** Dans chaque cas on définit un ensemble $\\Omega$ et une probabilité $P$ qui satisfont les conditions ci-dessus de sorte à modéliser une expérience aléatoire.\n",
    "\n",
    "**Exemple 1.**\n",
    "On veut jeter un dé à six faces bien équilibré. Pour modéliser cette expérience aléatoire on définit $\\Omega = \\{1,2,3,4,5, 6\\}$ et on pose $P(\\{i\\}) = \\frac1{6}$ pour chaque $1 \\leq i \\leq 6$.\n"
   ]
  },
  {
   "cell_type": "markdown",
   "metadata": {
    "slideshow": {
     "slide_type": "fragment"
    }
   },
   "source": [
    "Un événement est par exemple $A$ : \"on obtient un résultat pair\".  \n",
    "Formellement $A = \\{2,4,6\\}$ et\n",
    "$$P(A) = P(\\{2,4,6\\}) = P(\\{2\\}) + P(\\{4\\}) + P(\\{6\\}) = \\frac1{6} + \\frac1{6} + \\frac1{6} = \\frac1{2}$$"
   ]
  },
  {
   "cell_type": "markdown",
   "metadata": {
    "slideshow": {
     "slide_type": "subslide"
    }
   },
   "source": [
    "**Exemple 2.**\n",
    "On veut jeter deux dés à six faces bien équilibrés de couleur différentes. Pour modéliser cette expérience aléatoire on définit $\\Omega = \\{ (1,1), (1,2) , \\dots (i,j) ,\\dots, (6,6)\\}$  (36 éléments) et on pose $P(\\{(i,j)\\}) = \\frac1{36}$ pour chaque $1 \\leq i,j \\leq 6$."
   ]
  },
  {
   "cell_type": "markdown",
   "metadata": {
    "slideshow": {
     "slide_type": "subslide"
    }
   },
   "source": [
    "**Exemple 3**. On lance un dé jusqu'à obtenir $6$ et on veut compter le nombre $n$ de tirages nécessaires. Pour modéliser cette expérience aléatoire \n",
    "on définit  $\\Omega= \\mathbb N^*$  et on pose  $P({n}) = (\\frac5{6})^{n-1} \\cdot\\frac1{6}$  pour chaque $n \\geq 1$.\n",
    "Comme $\\sum_{n=1}^{\\infty} (\\frac5{6})^{n-1} = 6$ on a bien $P(\\Omega) = 1$."
   ]
  },
  {
   "cell_type": "markdown",
   "metadata": {
    "slideshow": {
     "slide_type": "fragment"
    }
   },
   "source": [
    "La probabilité de l'événement B: \"le nombre de tirages nécessaires jusqu'à obtenir 6 est impair\" est \n",
    "$$P(B) = P(\\{1,3,5,\\cdots\\}) = \\sum_{n=0}^{+\\infty} P(\\{2n+1\\})$$"
   ]
  },
  {
   "cell_type": "markdown",
   "metadata": {
    "slideshow": {
     "slide_type": "fragment"
    }
   },
   "source": [
    "$$P(B) = \\sum_{n=1}^{+\\infty} (\\frac5{6})^{2n} \\cdot \\frac1{6} = \\frac1{6}  \\sum_{n=0}^{+\\infty} ((\\frac5{6})^2)^{n}$$ \n",
    "$$P(B) = \\frac1{6} \\cdot \\frac1{1 - (\\frac5{6})^2} = \\frac6{11} \\approx 0.54$$"
   ]
  },
  {
   "cell_type": "markdown",
   "metadata": {
    "slideshow": {
     "slide_type": "subslide"
    }
   },
   "source": [
    "**Exemple 4.** On désire cette fois ci tirer au hasard un nombre réel dans $[0,+\\infty[$. \n",
    "On pose pour tout ensemble (mesurable) $A \\subset [0,+\\infty[$\n",
    "$$P(A) = \\int_A \\lambda e^{-\\lambda x} dx$$ \n",
    "où $\\lambda$ est un paramètre $>0$.\n",
    "On appelle cette probabilité la *loi exponentielle de paramètre $\\lambda$* et elle correspond à la probabilité temporelle d'advenir pour des événements sans mémoire, comme par exemple la désintégration d'un atome ou le claquage d'une ampoule.\n",
    "\n",
    "Notez que pour tout instant $t$ on a $P(\\{t\\})=0$ mais que si $0 \\leq t_1 < t_2$ alors \n",
    "$$P([t_1,t_2]) = \\int_{t_1}^{t_2}  \\lambda e^{-\\lambda x} dx > 0$$ "
   ]
  },
  {
   "cell_type": "markdown",
   "metadata": {
    "slideshow": {
     "slide_type": "slide"
    }
   },
   "source": [
    "## Variables aléatoires\n",
    "Une *variable aléatoire* est une application \n",
    "$$ X : \\Omega \\rightarrow \\mathbb R$$\n",
    "(ou parfois dans d'autres ensembles d'arrivée)."
   ]
  },
  {
   "cell_type": "markdown",
   "metadata": {
    "slideshow": {
     "slide_type": "fragment"
    }
   },
   "source": [
    "Si $B$ est une partie de $\\mathbb R$ on note \n",
    "$$P(X \\in B) \\text{ pour } P(X^{-1}(B))$$\n",
    "-- c'est la mesure de l'ensemble des événements élémentaires $\\omega$ tels que $X(\\omega ) \\in B$\n",
    "et on dit *la probabilité que $X$ appartienne à $B$*"
   ]
  },
  {
   "cell_type": "markdown",
   "metadata": {
    "slideshow": {
     "slide_type": "fragment"
    }
   },
   "source": [
    "On peut de la même façon écrire $P(X > 2)$ pour $P(X \\in ]2 ,+ \\infty[)$ par exemple."
   ]
  },
  {
   "cell_type": "markdown",
   "metadata": {
    "slideshow": {
     "slide_type": "slide"
    }
   },
   "source": [
    "La *loi* de la variable aléatoire $X$ est la probabilité $\\mu$ définie sur $\\mathbb R$ par\n",
    "$$\\mu(A) = P( X \\in A )$$"
   ]
  },
  {
   "cell_type": "markdown",
   "metadata": {
    "slideshow": {
     "slide_type": "fragment"
    }
   },
   "source": [
    "**exemple** On reprend l'exemple du lancer des deux dés à 6 faces avec $\\Omega = \\{(i,j), 1 \\leq i,j \\leq 6 \\}$  \n",
    "On définit $X : \\Omega \\rightarrow \\mathbb R$ par $X(i,j) = i + j$.  \n",
    "$X$ est une variable aléatoire qui correspond à la somme des deux dés.  \n",
    "La *loi* de $X$ est la probabilité sur $\\mathbb R$ (et non sur $\\Omega$) qui a une masse non nulle sur les entiers de $2$ à $12$.\n",
    "On a par exemple \n",
    "$$\\mu_X(\\{5\\}) = P(X=5) = P(\\{(1,4)\\}) + P(\\{(2,3)\\}) + P(\\{(3,2)\\}) + P(\\{(4,1)\\}) =  \\frac4{36} = \\frac1{9}$$\n"
   ]
  },
  {
   "cell_type": "markdown",
   "metadata": {
    "slideshow": {
     "slide_type": "subslide"
    }
   },
   "source": [
    "**Définition** (**indépendance**) Deux variables aléatoires $X$ et $Y$ (définies sur le même espace $\\Omega$) sont dites indépendantes si pour tous les coupes d'événements $(A,B)$ de $\\mathbb R$ on a\n",
    "$$P(\\{X \\in A\\} \\cap \\{Y \\in B\\}) = P(X \\in A) \\cdot P(Y \\in B) $$"
   ]
  },
  {
   "cell_type": "markdown",
   "metadata": {
    "slideshow": {
     "slide_type": "fragment"
    }
   },
   "source": [
    "**exemple** Dans l'exemple des deux dés, on peut vérifier que les v.a. définies par $X_1(i,j) = i$ et $X_2(i,j) = j$ sont indépendantes."
   ]
  },
  {
   "cell_type": "markdown",
   "metadata": {
    "slideshow": {
     "slide_type": "subslide"
    }
   },
   "source": [
    "NB : **en pratique** quand on veut étudier des variables aléaoires $X$, $Y$, $Z$ étant indépendantes\n",
    "    ou autre conditions de ce type, nous avons un théorème (Kolmogorov 1932) qui nous permet de donner l'existence d'un espace probabilisé $(\\Omega, P)$ sur lequel ces variables aléatoires sont définies et satisfont les propriété requises. Il suffit de savoir que cet espace existe mais ensuite il n'intervient pas et on considère les lois sur $\\mathbb R$."
   ]
  },
  {
   "cell_type": "markdown",
   "metadata": {
    "slideshow": {
     "slide_type": "fragment"
    }
   },
   "source": [
    "**exemple** Je veux considérer de façon indépendante le lancer d'un dé (variable aléatoire $D$ à valeurs dans $\\{1,2,3,4,5,6\\} \\subset \\mathbb R$ et l'instant $T$ de désintégration d'un atome (loi exponentielle de paramètre $\\lambda$, voir ci-dessus).  \n",
    "Le théorème nous assure l'existence d'un $\\Omega$ et de $P$ sur lesquel on peut définir $D$ et $T$ ayant les lois prescrites  et étant indépendantes. En pratique on écrit des probabilités comme\n",
    "$$P( D=3 \\text{ et } T > 3)$$\n",
    "dans lequel $\\Omega$ n'intervient plus de façon explicite."
   ]
  },
  {
   "cell_type": "markdown",
   "metadata": {
    "slideshow": {
     "slide_type": "slide"
    }
   },
   "source": [
    "## Espérance, variance, covariance"
   ]
  },
  {
   "cell_type": "markdown",
   "metadata": {
    "slideshow": {
     "slide_type": "fragment"
    }
   },
   "source": [
    "L'**espérance** d'une variable aléatoire $X$ définie sur $(\\Omega,P)$ est sa moyenne:\n",
    "$$E(X) = \\int_\\Omega X dP$$"
   ]
  },
  {
   "cell_type": "markdown",
   "metadata": {
    "slideshow": {
     "slide_type": "fragment"
    }
   },
   "source": [
    "Si $\\Omega$ est fini ou dénombrable, $\\Omega = \\{\\omega_1, \\omega_2, \\dots\\}$ alors l'intégrale s'écrit plus simplement\n",
    "$$E(X) = \\sum_{n=0}^\\infty X(\\omega) P(\\{\\omega\\})$$ "
   ]
  },
  {
   "cell_type": "markdown",
   "metadata": {
    "slideshow": {
     "slide_type": "subslide"
    }
   },
   "source": [
    "De même si $X$ prend un nombre fini ou dénombrable de valeurs $x_1, x_2, \\cdots$ on peut écrire \n",
    "$$E(X) = \\sum_{n=0}^\\infty x_i \\cdot P(X = x_i)$$ "
   ]
  },
  {
   "cell_type": "markdown",
   "metadata": {
    "slideshow": {
     "slide_type": "fragment"
    }
   },
   "source": [
    "**exemple** Si $X$ correspond au lancement d'un seul dé bien équilibré alors\n",
    "$$E(X) = 1\\cdot P(X=1) + 2\\cdot P(X=2) + 3\\cdot P(X=3) + 4\\cdot P(X=4) + 5\\cdot P(X=5) + 6\\cdot P(X=6) $$  \n",
    "$$ = \\frac{1+2+3+4+5+6}{6} = 3,5$$"
   ]
  },
  {
   "cell_type": "markdown",
   "metadata": {
    "slideshow": {
     "slide_type": "subslide"
    }
   },
   "source": [
    "Si $X$ est définie par sa loi de probabilité à densité $f$ sur $\\mathbb R$, c'est à dire\n",
    "$$P(X \\in A) =  \\int_{\\mathbb R} xd\\mu_X(x) =  \\int_A f(x)dx$$\n",
    "alors\n",
    "$$E(X) = \\int_A x \\cdot f(x)dx$$"
   ]
  },
  {
   "cell_type": "markdown",
   "metadata": {
    "slideshow": {
     "slide_type": "fragment"
    }
   },
   "source": [
    "**exemple** Si T suit une loi exponentielle de paramètre $\\lambda$ alors\n",
    "$$E(T) =  \\int_{\\mathbb R} x d\\mu_T(x) = \\int_{-\\infty}^{+ \\infty} x \\lambda e^{-\\lambda x} dx = \\frac1{\\lambda}$$"
   ]
  },
  {
   "cell_type": "markdown",
   "metadata": {
    "slideshow": {
     "slide_type": "subslide"
    }
   },
   "source": [
    "**Linéarité de l'espérance**\n",
    "L'espérance est linéaire, si $a$ et $b$ sont des constantes alors\n",
    "$$E(aX+bY)=aE(X)+bE(Y)$$"
   ]
  },
  {
   "cell_type": "markdown",
   "metadata": {
    "slideshow": {
     "slide_type": "fragment"
    }
   },
   "source": [
    "**Propriété** (admis) Si $X$ et $Y$ sont des v.a. indépendantes alors\n",
    "$$E(X\\cdot Y)=E(X)\\cdot E(Y)$$\n",
    "Attention la réciproque est fausse."
   ]
  },
  {
   "cell_type": "markdown",
   "metadata": {
    "slideshow": {
     "slide_type": "subslide"
    }
   },
   "source": [
    "La **variance** d'une variable aléatoire $X$ est\n",
    "$$V(X) = E( (X-E(X))^2 )$$ \n",
    "C'est la moyenne du carré des écarts à la moyenne.  \n",
    "L**'écart type** de $X$ est défini par $\\sqrt{V(X)}$"
   ]
  },
  {
   "cell_type": "markdown",
   "metadata": {
    "slideshow": {
     "slide_type": "fragment"
    }
   },
   "source": [
    "**Propriété** (preuve:exo)\n",
    "$$V(X) = E(X^2) - (E(X))^2$$"
   ]
  },
  {
   "cell_type": "markdown",
   "metadata": {
    "slideshow": {
     "slide_type": "subslide"
    }
   },
   "source": [
    "**Propriété** Si $X$ et $Y$ sont indépendantes alors $V(X+Y) = V(X) + V(Y)$\n",
    "\n",
    "Faux si les variables ne sont pas indépendantes !"
   ]
  },
  {
   "cell_type": "markdown",
   "metadata": {
    "slideshow": {
     "slide_type": "fragment"
    }
   },
   "source": [
    "La **covariance** de deux variables aléatoires $X$ et $Y$ est la quantité\n",
    "$$Cov(X,Y) = E( (X-E(X))(Y-E(Y)))$$\n",
    "La Covariance mesure une corrélation entre $X$ et $Y$ (quand $X>E(X)$ est au dessus de sa moyenne, \n",
    "est-ce que $Y>E(Y)$, etc.)  \n",
    "Si $X$ et $Y$ sont indépendantes alors $Cov(X,Y)=0$ mais la réciproque est fausse (indépendance implique pas de corrélation mais pas l'inverse)."
   ]
  },
  {
   "cell_type": "markdown",
   "metadata": {
    "slideshow": {
     "slide_type": "slide"
    }
   },
   "source": [
    "## Lois de probabilités classiques\n",
    "Ce sont des lois de variables aléatoires sur $\\mathbb R$  \n",
    "On tire des échantillons aléatoires avec numpy  \n",
    "https://docs.scipy.org/doc/numpy-1.15.0/reference/routines.random.html"
   ]
  },
  {
   "cell_type": "markdown",
   "metadata": {
    "slideshow": {
     "slide_type": "slide"
    }
   },
   "source": [
    "### loi de Bernouilli B(p) \n",
    "ex : succès $1$ avec probabilité $p$, échec $0$ avec probabilité $1-p$  (lancer d'une pièce)\n",
    "Espérance : $p$  \n",
    "Variance $p(1-p)$"
   ]
  },
  {
   "cell_type": "code",
   "execution_count": 1,
   "metadata": {
    "slideshow": {
     "slide_type": "subslide"
    }
   },
   "outputs": [
    {
     "data": {
      "text/plain": [
       "array([1, 0, 1, 1, 1, 0, 1, 1, 0, 1, 1, 1, 1, 1, 1, 1, 1, 1, 0, 0, 0, 1,\n",
       "       1, 1, 0, 1, 1, 1, 0, 1, 0, 0, 0, 1, 0, 1, 1, 1, 0, 1, 1, 1, 1, 1,\n",
       "       0, 1, 1, 0, 1, 1, 1, 1, 1, 1, 1, 1, 1, 0, 0, 0, 0, 1, 1, 0, 0, 1,\n",
       "       1, 0, 1, 1, 0, 0, 1, 1, 0, 1, 1, 1, 0, 0, 1, 0, 1, 1, 1, 1, 1, 1,\n",
       "       1, 1, 0, 1, 1, 1, 1, 1, 1, 1, 0, 1])"
      ]
     },
     "execution_count": 1,
     "metadata": {},
     "output_type": "execute_result"
    }
   ],
   "source": [
    "#tirage de 100 bernouilli de paramètre p avec numpy\n",
    "import numpy as np\n",
    "p = 0.7\n",
    "np.random.binomial(1,p,100)"
   ]
  },
  {
   "cell_type": "markdown",
   "metadata": {
    "slideshow": {
     "slide_type": "subslide"
    }
   },
   "source": [
    "### loi binomiale B(n,p)\n",
    "Somme de $n$ variables indépendantes de loi $B(p)$, ou bien nombre de succès dans une expérience aléatoire de type Bernouilli de paramètre $p$, répétée $n$ fois indépendamment.\n",
    "\n",
    "Une variable $X$ de loi B(n,p) prend donc des valeurs de $0$ à $n$ et\n",
    "$$P(X=k) = \\frac{{n\\choose k}}{2^n}$$"
   ]
  },
  {
   "cell_type": "code",
   "execution_count": 2,
   "metadata": {
    "slideshow": {
     "slide_type": "fragment"
    }
   },
   "outputs": [
    {
     "name": "stdout",
     "output_type": "stream",
     "text": [
      "[17 14 15 13 14 16 11 13 13 12 14 16 17 11 12 14 12 13 11 15 11 13 13 14\n",
      " 15 17 15 13 15 13 18 14 15 14 11 11 14 15 12 13 15 14 11 12 14 18 10 11\n",
      " 12 14 17 14 14 13 17 13  9 12 11 13 13 12 16 14 18 14 14 16 16 14 16 12\n",
      " 13 15 10 10 12 12 12 18 16 15 11 15 13 18 17 12 16 13 13  9 16 13 13 15\n",
      " 15 15 15 18]\n"
     ]
    }
   ],
   "source": [
    "#tirage de 100 échantillons de type binomiale B(20,p)\n",
    "y = np.random.binomial(20,p,100)\n",
    "print(y)"
   ]
  },
  {
   "cell_type": "code",
   "execution_count": 3,
   "metadata": {
    "slideshow": {
     "slide_type": "subslide"
    }
   },
   "outputs": [
    {
     "data": {
      "text/plain": [
       "(array([ 2.,  3., 10., 13., 19., 17., 15.,  9.,  6.,  6.]),\n",
       " array([ 9. ,  9.9, 10.8, 11.7, 12.6, 13.5, 14.4, 15.3, 16.2, 17.1, 18. ]),\n",
       " <BarContainer object of 10 artists>)"
      ]
     },
     "execution_count": 3,
     "metadata": {},
     "output_type": "execute_result"
    },
    {
     "data": {
      "image/png": "[encoded data removed]",
      "text/plain": [
       "<Figure size 432x288 with 1 Axes>"
      ]
     },
     "metadata": {
      "needs_background": "light"
     },
     "output_type": "display_data"
    }
   ],
   "source": [
    "import matplotlib.pyplot as plt\n",
    "plt.hist(y) #histogramme des valeurs obtenues"
   ]
  },
  {
   "cell_type": "markdown",
   "metadata": {
    "slideshow": {
     "slide_type": "subslide"
    }
   },
   "source": [
    "### Loi Uniforme sur un intervalle $[a,b]$  \n",
    "Correspond au tirage aléatoire de façon uniforme d'un réel dans l'intervalle $[a,b]$  \n",
    "C'est une loi donnée par la densité de probabilité $\\frac{1}{b-a} \\cdot 1_{[a,b]}$ (fonction indicatrice de l'intervalle)\n",
    "Espérance : (a+b)/2"
   ]
  },
  {
   "cell_type": "code",
   "execution_count": 3,
   "metadata": {
    "slideshow": {
     "slide_type": "fragment"
    }
   },
   "outputs": [
    {
     "name": "stdout",
     "output_type": "stream",
     "text": [
      "[0.26520552 0.29493849 0.39617302 0.37274886 0.67353912 0.92910729\n",
      " 0.27922651 0.61849453 0.68904481 0.68533823 0.28189498 0.82939795\n",
      " 0.65672928 0.86481953 0.84377913 0.04265778 0.09336401 0.76562246\n",
      " 0.86442017 0.06305429 0.56231989 0.25104557 0.97419316 0.42451209\n",
      " 0.58454841 0.41330833 0.37329258 0.19694366 0.55098755 0.64752687\n",
      " 0.27585555 0.60713612 0.83710862 0.88655851 0.12774881 0.4906659\n",
      " 0.67046682 0.89332934 0.94317659 0.13591223 0.28849263 0.33477618\n",
      " 0.80600828 0.78829453 0.58491573 0.07723831 0.97568749 0.46976891\n",
      " 0.76323101 0.14930175]\n"
     ]
    }
   ],
   "source": [
    "# loi uniforme sur [0,1]\n",
    "#tirage de 100 réels\n",
    "y = np.random.random_sample(1000)\n",
    "print(y[:50]) #les 50 premiers"
   ]
  },
  {
   "cell_type": "code",
   "execution_count": 4,
   "metadata": {
    "slideshow": {
     "slide_type": "subslide"
    }
   },
   "outputs": [
    {
     "ename": "NameError",
     "evalue": "name 'plt' is not defined",
     "output_type": "error",
     "traceback": [
      "\u001b[0;31m---------------------------------------------------------------------------\u001b[0m",
      "\u001b[0;31mNameError\u001b[0m                                 Traceback (most recent call last)",
      "\u001b[0;32m<ipython-input-4-72c86cf8025b>\u001b[0m in \u001b[0;36m<module>\u001b[0;34m\u001b[0m\n\u001b[0;32m----> 1\u001b[0;31m \u001b[0mplt\u001b[0m\u001b[0;34m.\u001b[0m\u001b[0mhist\u001b[0m\u001b[0;34m(\u001b[0m\u001b[0my\u001b[0m\u001b[0;34m,\u001b[0m \u001b[0mbins\u001b[0m\u001b[0;34m=\u001b[0m\u001b[0;36m20\u001b[0m\u001b[0;34m)\u001b[0m\u001b[0;34m\u001b[0m\u001b[0;34m\u001b[0m\u001b[0m\n\u001b[0m",
      "\u001b[0;31mNameError\u001b[0m: name 'plt' is not defined"
     ]
    }
   ],
   "source": [
    "plt.hist(y, bins=20)"
   ]
  },
  {
   "cell_type": "markdown",
   "metadata": {
    "slideshow": {
     "slide_type": "subslide"
    }
   },
   "source": [
    "Comment obtenir des samples sur l'intervalle $[a,b]$ (par exemple $[50,75]$) ?   \n",
    "[0,1] --> [50,75] ???"
   ]
  },
  {
   "cell_type": "code",
   "execution_count": 5,
   "metadata": {
    "slideshow": {
     "slide_type": "fragment"
    }
   },
   "outputs": [
    {
     "data": {
      "text/plain": [
       "array([56.63013792, 57.37346235, 59.90432556, 59.31872154, 66.83847792,\n",
       "       73.22768214, 56.98066286, 65.46236319, 67.2261203 , 67.13345566,\n",
       "       57.04737458, 70.73494872, 66.4182319 , 71.62048833, 71.09447829,\n",
       "       51.06644444, 52.33410016, 69.14056154, 71.61050426, 51.57635715,\n",
       "       64.05799717, 56.27613918, 74.35482898, 60.61280215, 64.61371023,\n",
       "       60.33270819, 59.33231459, 54.92359154, 63.77468887, 66.18817171,\n",
       "       56.89638887, 65.1784031 , 70.92771546, 72.16396275, 53.1937203 ,\n",
       "       62.26664752, 66.76167053, 72.3332335 , 73.57941464, 53.39780582,\n",
       "       57.21231574, 58.36940458, 70.15020695, 69.70736336, 64.62289326,\n",
       "       51.93095779, 74.39218724, 61.74422281, 69.08077532, 53.73254375])"
      ]
     },
     "execution_count": 5,
     "metadata": {},
     "output_type": "execute_result"
    }
   ],
   "source": [
    "50 + 25*y[:50]"
   ]
  },
  {
   "cell_type": "markdown",
   "metadata": {
    "slideshow": {
     "slide_type": "subslide"
    }
   },
   "source": [
    "### Loi normale\n",
    "La loi normale centrée réduite ${\\cal N}(0,1)$ (espérance 0, écart-type 1) est la loi ayant pour densité sur $\\mathbb R$ la fonction\n",
    "$$\\frac1{\\sqrt{2\\pi}} e^{-\\frac{x^2}{2}} $$"
   ]
  },
  {
   "cell_type": "code",
   "execution_count": 9,
   "metadata": {
    "slideshow": {
     "slide_type": "fragment"
    }
   },
   "outputs": [
    {
     "name": "stdout",
     "output_type": "stream",
     "text": [
      "<class 'numpy.ndarray'>\n"
     ]
    },
    {
     "data": {
      "image/png": "[encoded data removed]",
      "text/plain": [
       "<Figure size 432x288 with 1 Axes>"
      ]
     },
     "metadata": {
      "needs_background": "light"
     },
     "output_type": "display_data"
    }
   ],
   "source": [
    "import matplotlib.pyplot as plt\n",
    "x = np.linspace(-3, 3, 1000)\n",
    "print(type(x))\n",
    "plt.plot(x, 1/np.sqrt(2*3.14) * np.exp(- x**2 / 2 ), color='red')\n",
    "plt.show()"
   ]
  },
  {
   "cell_type": "markdown",
   "metadata": {
    "slideshow": {
     "slide_type": "subslide"
    }
   },
   "source": [
    "Le terme en $\\sqrt{2\\pi}$ sert à normaliser puisque\n",
    "$$\\int_{-\\infty}^{+\\infty} e^{-\\frac{x^2}{2}} dx = \\sqrt{2\\pi}  $$"
   ]
  },
  {
   "cell_type": "markdown",
   "metadata": {
    "slideshow": {
     "slide_type": "fragment"
    }
   },
   "source": [
    "Plus généralement la loi normale d'espérance $\\mu$ et d'écart-type $\\sigma$ notée ${\\cal N}(\\mu,\\sigma)$ a pour densité\n",
    "$$\\frac1{\\sigma \\sqrt{2\\pi}} e^{-\\frac{(x-\\mu)^2}{2\\sigma^2}} $$"
   ]
  },
  {
   "cell_type": "markdown",
   "metadata": {
    "slideshow": {
     "slide_type": "slide"
    }
   },
   "source": [
    "On admet le résultat suivant : Si $X_1$ et $X_2$ sont indépendantes et suivent respectivement des lois normales ${\\cal N}(\\mu_1,\\sigma_1)$ et ${\\cal N}(\\mu_2,\\sigma_2)$ alors $X_1 + X_2$ suit une loi normale\n",
    "${\\cal N}(\\mu_1 + \\mu_2, \\sqrt{\\sigma_1^2 + \\sigma_2^2})$"
   ]
  },
  {
   "cell_type": "code",
   "execution_count": 7,
   "metadata": {
    "slideshow": {
     "slide_type": "subslide"
    }
   },
   "outputs": [
    {
     "data": {
      "image/png": "[encoded data removed]",
      "text/plain": [
       "<Figure size 432x288 with 1 Axes>"
      ]
     },
     "metadata": {
      "needs_background": "light"
     },
     "output_type": "display_data"
    }
   ],
   "source": [
    "#ex loi normale N(50,20)\n",
    "x = np.linspace(10, 90, 1000)\n",
    "plt.plot(x, 1/(20*np.sqrt(2*3.14)) * np.exp(- (x-50)**2 / (2*20**2) ), color='red')\n",
    "plt.show()"
   ]
  },
  {
   "cell_type": "code",
   "execution_count": 8,
   "metadata": {
    "slideshow": {
     "slide_type": "subslide"
    }
   },
   "outputs": [
    {
     "name": "stdout",
     "output_type": "stream",
     "text": [
      "[39.48584569 55.21066794 49.27338391 13.24726571 56.72003965 42.95848867\n",
      " 32.01271022 41.62836921 46.59716302 84.48663286 75.34881638 47.1894048\n",
      " 83.62871718 75.58792887 17.58239551 29.16181277 70.23326466 67.70072122\n",
      " 64.80351151 23.33666283 84.89092223 56.82215718 72.79583294 67.84297639\n",
      " 65.08237825 43.12941515 57.89327919 51.50840456 30.10733114 35.53568053\n",
      " 32.09242673 29.67454465 67.14943255 10.59982322 40.78777802 22.71296061\n",
      " 42.26338863 35.60569027 70.7011707  37.62456271 55.71814221 45.01594448\n",
      " 50.53072935 67.44598999 14.88153626 33.70569666 49.54613091 92.47027523\n",
      " 36.68905416 71.28230243]\n"
     ]
    }
   ],
   "source": [
    "#echantillon de loi normale N(50,20)\n",
    "Y = np.random.normal(loc=50, scale=20, size=1000)\n",
    "print(Y[:50])\n"
   ]
  },
  {
   "cell_type": "code",
   "execution_count": 9,
   "metadata": {
    "slideshow": {
     "slide_type": "subslide"
    }
   },
   "outputs": [
    {
     "data": {
      "image/png": "[encoded data removed]",
      "text/plain": [
       "<Figure size 432x288 with 1 Axes>"
      ]
     },
     "metadata": {
      "needs_background": "light"
     },
     "output_type": "display_data"
    }
   ],
   "source": [
    "x = np.linspace(0, 100, 1000)\n",
    "plt.plot(x, 1/(20*np.sqrt(2*3.14)) * np.exp(- (x-50)**2 / (2*20**2) ), color='red')\n",
    "plt.hist(Y, density=True, bins=100)\n",
    "plt.show()\n"
   ]
  },
  {
   "cell_type": "markdown",
   "metadata": {
    "slideshow": {
     "slide_type": "slide"
    }
   },
   "source": [
    "## Probabilités conditionnelles\n",
    "\n",
    "Soient $A$ et $B$ deux événements.\n",
    "La probabilité conditionnelle  de $A$ sachant $B$ (sachant que $B$ s'est réalisé) est définie dans\n",
    "le cas où $P(B) >0$.\n",
    "\n",
    "$$P(A \\vert B) = \\frac{P(A \\cap B)}{P(B)}$$"
   ]
  },
  {
   "cell_type": "markdown",
   "metadata": {
    "slideshow": {
     "slide_type": "fragment"
    }
   },
   "source": [
    "**exemple** sur le lancé d'un dé : \n",
    "B : \"le résultat est différent de 1\"  et A : \"le résultat est impair\"  \n",
    "alors $$P(A \\vert B) =\\frac{P(\\{3, 5\\})}{P(\\{2,3,4,5,6\\})} = \\frac{2/6}{5/6} = \\frac{2}{5} $$\n",
    "\n"
   ]
  },
  {
   "cell_type": "markdown",
   "metadata": {
    "slideshow": {
     "slide_type": "fragment"
    }
   },
   "source": [
    "Attention : quand on considère une probabilité conditionnelle, on définit une nouvelle probabilité $P_B$ sur $\\Omega$, c'est-à-dire qu'on change l'expérience aléatoire.  "
   ]
  },
  {
   "cell_type": "markdown",
   "metadata": {
    "slideshow": {
     "slide_type": "subslide"
    }
   },
   "source": [
    "**formule de Bayes**\n",
    "On suppose $A,B$ deux événements de probabilité strictement positive.\n",
    "On peut écrire $$P(A \\cap B) = P(A \\vert B) \\cdot P(B) =  P(B \\vert A) \\cdot P(A)$$\n",
    "On en déduit que\n",
    "$$P(A \\vert B) = \\frac{ P(B \\vert A) \\cdot P(B)  }{P(A) }$$\n",
    "qui est la formule de Bayes.\n"
   ]
  },
  {
   "cell_type": "markdown",
   "metadata": {
    "slideshow": {
     "slide_type": "slide"
    }
   },
   "source": [
    "**exemple** \n",
    "Considérons une expérience aléatoire où on tire une personne au hasard dans une population et on fait un test pour détecter la présence d'un virus. On suppose que le virus infecte 0,01% des gens. Le test lui, donne une mauvaise réponse 1% des fois sur les personnes ayant le virus et 0.1% des fois sur les personnes n'ayant pas le virus.\n",
    "\n",
    "$V$ : \"la personne est atteinte par le virus\" et $T$ : \"le test est positif\".\n",
    "\n",
    "Sachant que le test est positif sur la personne tirée aléatoirement, quelle est la probabilité qu'elle porte le virus ?\n",
    "\n",
    "-> exercice"
   ]
  },
  {
   "cell_type": "markdown",
   "metadata": {
    "slideshow": {
     "slide_type": "slide"
    }
   },
   "source": [
    "**version de la loi des probabilités totales avec probabilités conditionnelles**\n",
    "\n",
    "Si $A_1, A_2, \\dots, A_n$ forment une *partition* de l'ensemble des événements on peut écrire que\n",
    "$$P(A) = P(A \\cap A_1) +  P(A \\cap A_2) + \\dots + P(A \\cap A_n)$$\n",
    "donc\n",
    "$$P(A) = P(A | A_1)\\cdot P(A_1) +  P(A | A_2)\\cdot P(A_2) + \\dots + P(A | A_n)\\cdot P(A_n) $$"
   ]
  },
  {
   "cell_type": "markdown",
   "metadata": {
    "slideshow": {
     "slide_type": "slide"
    }
   },
   "source": [
    "## Loi des grands nombres\n",
    "**Théorème** Soient $X_1, X_2, \\cdots X_n, \\cdots$ des variables aléatoires *indépendantes et de même loi* avec de plus $E(|X_1|) < + \\infty$. Alors on a convergence presque partout\n",
    "$$ \\lim_{n \\rightarrow \\infty} \\frac1{n} \\sum_{i=1}^n X_i = E(X_1) $$\n",
    "En particulier on a pout tout $\\epsilon > 0$\n",
    "$$ \\lim_{n \\rightarrow \\infty} P\\left( E(X_1) - \\epsilon < \\frac1{n} \\sum_{i=1}^n X_i < E(X_1) + \\epsilon \\right) = 1 $$"
   ]
  },
  {
   "cell_type": "markdown",
   "metadata": {
    "slideshow": {
     "slide_type": "fragment"
    }
   },
   "source": [
    "La loi des grands nombres dit que quand $n$ devient grand la moyenne empirique $\\frac{1}{n} \\sum_{i=1}^n X_i$\n",
    "des variables aléatoires devient de plus en plus proche de l'espérance. L'hypothèse d'indépendance des variables aléatoires est fondamentale."
   ]
  },
  {
   "cell_type": "markdown",
   "metadata": {
    "slideshow": {
     "slide_type": "slide"
    }
   },
   "source": [
    "## Théorème central limite\n",
    "**Théorème** Soient $X_1, X_2, \\cdots X_n, \\cdots$ des variables aléatoires *indépendantes et de même loi* avec de plus $E(|X_1|) < + \\infty$ et $E(|X_1|^2) < + \\infty$. On note alors $\\mu$ l'espérance commune de ces variables aléatoires et $\\sigma = \\sqrt{var(X_1)}$ leur écart type.\n",
    "On pose $S_n = \\sum_{i=1}^n X_i$. Alors la suite de variables aléatoires $(Z_n)$ définie pour $n \\geq 1$ par\n",
    "$$Z_n = \\frac{S_n - n\\mu}{\\sqrt{n} \\sigma}$$\n",
    "*converge en loi* vers une loi normale ${\\cal N}(0,1)$, autrement dit pour tout intervalle réel $[a,b]$ on a\n",
    "$$\\lim_{n \\to \\infty} P(Z_n \\in [a,b]) = \\frac1{\\sqrt{2\\pi}} \\int_a^b e^{-\\frac{x^2}{2}} dx$$"
   ]
  },
  {
   "cell_type": "markdown",
   "metadata": {
    "slideshow": {
     "slide_type": "subslide"
    }
   },
   "source": [
    "*Remarques*  \n",
    "* La moyenne de $S_n$ est $n\\mu$ et son écart type est $\\sqrt{n}\\sigma$ donc $Z_n$ est une normalisation de $S_n$, on se ramène à une variable d'espérance 0 et d'écart-type 1.\n",
    "* On peut aussi écrire $Z_n$ sous la forme \n",
    "$$Z_n = \\frac{\\frac{S_n}{n} - \\mu}{\\frac{\\sigma}{\\sqrt{n} }}$$\n",
    "et le voir comme une normalisation de $\\frac{S_n}{n} = \\frac1{n} \\sum_{i=1}^n X_i$, qui a une moyenne $\\mu$ et un écart-type $\\frac{\\sigma}{\\sqrt{n} }$\n",
    "* On peut dire ainsi que quand $n$ est grand, $\\frac{S_n}{n}$ suit approximativement une loi normale \n",
    "$$\\frac{S_n}{n} \\sim {\\cal N}(\\mu, \\frac{\\sigma}{\\sqrt{n} } )$$"
   ]
  },
  {
   "cell_type": "markdown",
   "metadata": {
    "slideshow": {
     "slide_type": "subslide"
    }
   },
   "source": [
    "*demo numérique*"
   ]
  },
  {
   "cell_type": "code",
   "execution_count": 12,
   "metadata": {
    "slideshow": {
     "slide_type": "fragment"
    }
   },
   "outputs": [
    {
     "name": "stdout",
     "output_type": "stream",
     "text": [
      "[7033 6975 7040 6972 6954 6937 6981 7038 6993 7018 6954 6984 7065 6953\n",
      " 7017 7049 6959 6993 6915 6985 7027 7068 7017 6928 6971 6952 7016 6967\n",
      " 7025 7038 6991 7024 7016 6987 7031 7062 6991 7004 7017 6985 7024 6957\n",
      " 6984 7054 6931 7004 6986 6988 7024 7002 7005 7029 7047 6899 6929 6949\n",
      " 7018 7008 6981 6984 6960 6924 7001 7058 7013 6898 7033 7054 6946 6994\n",
      " 6950 7051 7005 7007 6890 7038 6976 7083 7037 6989 7031 6980 6973 7013\n",
      " 6919 6945 6960 7040 6966 6993 6954 7076 7066 6962 6941 6900 6958 6958\n",
      " 7002 6961]\n"
     ]
    }
   ],
   "source": [
    "import numpy as np\n",
    "n = 10000 ; p = 0.7\n",
    "Y = np.random.binomial(n,p,10000) \n",
    "print(Y[:100])"
   ]
  },
  {
   "cell_type": "code",
   "execution_count": 14,
   "metadata": {
    "slideshow": {
     "slide_type": "subslide"
    }
   },
   "outputs": [
    {
     "data": {
      "image/png": "[encoded data removed]",
      "text/plain": [
       "<Figure size 432x288 with 1 Axes>"
      ]
     },
     "metadata": {
      "needs_background": "light"
     },
     "output_type": "display_data"
    }
   ],
   "source": [
    "import matplotlib.pyplot as plt\n",
    "%matplotlib inline\n",
    "plt.hist(Y, density=True, bins=100)\n",
    "x = np.linspace(n*p/2, n*p*1.5, 1000)\n",
    "plt.plot(x, 1/np.sqrt(p*(1-p)*n*2*3.14) * np.exp(-(x-n*p)**2 / (2*n*p*(1-p)) ), color='red')\n",
    "plt.show()"
   ]
  },
  {
   "cell_type": "code",
   "execution_count": 15,
   "metadata": {
    "slideshow": {
     "slide_type": "subslide"
    }
   },
   "outputs": [],
   "source": [
    "#même chose avec normalisation comme dans l'énoncé du théorème\n",
    "Y = np.random.binomial(n,p,1000) \n",
    "Y = (Y -n*p)/np.sqrt(p*(1-p)*n)"
   ]
  },
  {
   "cell_type": "code",
   "execution_count": 16,
   "metadata": {
    "scrolled": true,
    "slideshow": {
     "slide_type": "fragment"
    }
   },
   "outputs": [
    {
     "data": {
      "image/png": "[encoded data removed]",
      "text/plain": [
       "<Figure size 432x288 with 1 Axes>"
      ]
     },
     "metadata": {
      "needs_background": "light"
     },
     "output_type": "display_data"
    }
   ],
   "source": [
    "#sns.displot(Y, stat=\"density\", bins=100)\n",
    "plt.hist(Y, density=True, bins=100)\n",
    "x = np.linspace(-3, 3, 1000)\n",
    "plt.plot(x, 1/np.sqrt(2*3.14) * np.exp(- x**2 / 2 ), color='red')\n",
    "plt.show()"
   ]
  },
  {
   "cell_type": "markdown",
   "metadata": {
    "slideshow": {
     "slide_type": "slide"
    }
   },
   "source": [
    "## Exercices"
   ]
  },
  {
   "cell_type": "markdown",
   "metadata": {},
   "source": [
    "### ex\n",
    "Définir un espace de probabilité permettant de modéliser le fait de jeter 5 pièces bien équilibrées de façon indépendantes. Calculer la probabilité de l'événement \"le nombre de résultats pile est supérieur ou égal à 2\"."
   ]
  },
  {
   "cell_type": "markdown",
   "metadata": {},
   "source": [
    "### ex\n",
    "Définir un espace de probabilité permettant de modéliser le fait de jeter une pièce bien équilibrée (tirages indépendants) jusqu'à obtenir pile. Calculer la probabilité de l'événement \"il faut 10 tirages ou plus pour obtenir pile\"."
   ]
  },
  {
   "cell_type": "markdown",
   "metadata": {},
   "source": [
    "### ex\n",
    "Définir un espace de probabilité permettant de modéliser indépendamment l'expérience consistant à jeter 3 dés bien équilibrés. On définit les variables aléatoires $U$ : \"nombre de 1 obtenus\" et $S$: \"somme des trois dés\". Déterminer les lois de $U$ et $S$, calculer leur espérances, leurs variances. Calculer la covariance entre $U$ et $S$."
   ]
  },
  {
   "cell_type": "markdown",
   "metadata": {},
   "source": [
    "### ex\n",
    "Soient $D_1, D_2, \\cdots ,D_n$ des variables aléatoires de loi uniforme sur $\\{1,2,3,4,5,6\\}$ et indépendantes (jets de dés). On pose $X_n$ le maximum des $D_i$ de 1 à $n$ et $Y_n$ leur minimum. Calculer les lois de $X$ et $Y$."
   ]
  },
  {
   "cell_type": "markdown",
   "metadata": {},
   "source": [
    "### ex\n",
    "Montrer que si $X$ est une variable aléatoire suivant une loi exponentielle de paramètre $\\lambda$ alors pour tous les $t_1, t_2 >0$ on a\n",
    "$$P( X > t_1 + t_2 | X > t_1) = P(X >  t_1)$$\n",
    "et interpréter ce résultat"
   ]
  },
  {
   "cell_type": "markdown",
   "metadata": {},
   "source": [
    "### ex\n",
    "Démontrer que si $X$ est une variable aléatoire bornée alors \n",
    "$$V(X) = E(X^2) - (E(X))^2$$"
   ]
  },
  {
   "cell_type": "markdown",
   "metadata": {},
   "source": [
    "### ex\n",
    "Démontrer sur si $X$ et $Y$ sont indépendantes (et admettent une variance finie) alors \n",
    "$$V(X+Y) = V(X) + V(Y)$$"
   ]
  },
  {
   "cell_type": "markdown",
   "metadata": {},
   "source": [
    "### ex\n",
    "On lance deux dés, non truqués, un rouge et un bleu, dont les faces sont numérotées de 1 à 6.\n",
    "Quelle est la probabilité que la somme des faces obtenues soit égale à 6 sachant qu'on a obtenu\n",
    "1 avec au moins un des 2 dés ? (modélisez)"
   ]
  },
  {
   "cell_type": "markdown",
   "metadata": {},
   "source": [
    "### ex\n",
    "Dans une classe, 80% des élèves ont un téléphone portable. Parmi eux, 60% ont une connexion internet sur leur téléphone. Quelle est la probabilité qu'un élève choisi au hasard ait un portable sans connexion internet ? Modélisez."
   ]
  },
  {
   "cell_type": "markdown",
   "metadata": {
    "slideshow": {
     "slide_type": "fragment"
    }
   },
   "source": [
    "### prog\n",
    "En utilisant numpy, tirez aléatoirement un dé $n$ fois de façon indépendante et vérifiez la loi des grands nombres. Répétez l'expérience de sorte à obtenir une vitesse moyenne de convergence de la moyenne vers l'espérance ; faites un graphique avec les résultats obtenus."
   ]
  },
  {
   "cell_type": "markdown",
   "metadata": {},
   "source": [
    "## prog\n",
    "Vérifiez expérimentalement :  si $X_1$ et $X_2$ sont indépendantes et suivent respectivement des lois normales ${\\cal N}(\\mu_1,\\sigma_1)$ et ${\\cal N}(\\mu_2,\\sigma_2)$ alors $X_1 + X_2$ suit une loi normale\n",
    "${\\cal N}(\\mu_1 + \\mu_2, \\sqrt{\\sigma_1^2 + \\sigma_2^2})$."
   ]
  },
  {
   "cell_type": "code",
   "execution_count": null,
   "metadata": {},
   "outputs": [],
   "source": []
  }
 ],
 "metadata": {
  "celltoolbar": "Diaporama",
  "kernelspec": {
   "display_name": "Python 3",
   "language": "python",
   "name": "python3"
  },
  "language_info": {
   "codemirror_mode": {
    "name": "ipython",
    "version": 3
   },
   "file_extension": ".py",
   "mimetype": "text/x-python",
   "name": "python",
   "nbconvert_exporter": "python",
   "pygments_lexer": "ipython3",
   "version": "3.8.5"
  },
  "toc": {
   "base_numbering": 1,
   "nav_menu": {},
   "number_sections": true,
   "sideBar": true,
   "skip_h1_title": true,
   "title_cell": "Table of Contents",
   "title_sidebar": "Contents",
   "toc_cell": false,
   "toc_position": {
    "height": "calc(100% - 180px)",
    "left": "10px",
    "top": "150px",
    "width": "349.091px"
   },
   "toc_section_display": true,
   "toc_window_display": false
  }
 },
 "nbformat": 4,
 "nbformat_minor": 4
}
