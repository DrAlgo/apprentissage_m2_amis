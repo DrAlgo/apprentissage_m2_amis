{
 "cells": [
  {
   "cell_type": "code",
   "execution_count": 51,
   "metadata": {},
   "outputs": [],
   "source": [
    "import numpy as np\n",
    "import time\n",
    "import matplotlib.pyplot as plt\n",
    "from sklearn.linear_model import LinearRegression"
   ]
  },
  {
   "cell_type": "markdown",
   "metadata": {},
   "source": [
    "Ex 4/ 7.3"
   ]
  },
  {
   "cell_type": "code",
   "execution_count": 42,
   "metadata": {},
   "outputs": [],
   "source": [
    "def test_reg_lin(d):\n",
    "    X = np.random.rand(100,d)\n",
    "    col1 = np.ones((100,1))\n",
    "    X = np.concatenate(   (col1, X), axis=1)\n",
    "    Y = np.random.rand(100,1 )\n",
    "    debut = time.time()\n",
    "    a = np.linalg.inv(X.T.dot(X)).dot(X.T).dot(Y)\n",
    "    duree = time.time() - debut\n",
    "    return duree"
   ]
  },
  {
   "cell_type": "code",
   "execution_count": 48,
   "metadata": {},
   "outputs": [
    {
     "name": "stdout",
     "output_type": "stream",
     "text": [
      "[0.0006844997406005859, 0.0010311603546142578, 0.006634950637817383, 0.00887918472290039, 0.01955890655517578, 0.023357152938842773, 0.02353215217590332, 0.03271675109863281, 0.045627593994140625, 0.06350970268249512, 0.08223628997802734, 0.10907959938049316, 0.12970185279846191, 0.15563058853149414, 0.20399093627929688, 0.2521986961364746, 0.2907226085662842, 0.34002137184143066, 0.3978447914123535, 0.45891642570495605, 0.5326364040374756, 0.6038985252380371, 0.6848199367523193, 0.7700023651123047, 0.8608074188232422, 0.9518444538116455, 1.062091588973999, 1.174393653869629, 1.306480884552002, 1.434192180633545, 1.575423002243042, 1.773155927658081, 1.8581678867340088, 2.012524366378784, 2.199533462524414, 2.376040458679199, 2.665196657180786, 3.000101327896118, 3.1494545936584473, 3.3849480152130127, 3.5738298892974854, 3.7874226570129395, 4.000653028488159, 4.380621671676636, 4.655105352401733, 4.847900390625, 5.14140772819519, 5.555249214172363, 5.864054441452026]\n"
     ]
    }
   ],
   "source": [
    "durees = []\n",
    "dimensions = range(100,5000,100)\n",
    "for d in dimensions:\n",
    "    durees.append( test_reg_lin(d) )\n",
    "print(durees)"
   ]
  },
  {
   "cell_type": "code",
   "execution_count": 49,
   "metadata": {},
   "outputs": [
    {
     "data": {
      "image/png": "[encoded data removed]",
      "text/plain": [
       "<Figure size 432x288 with 1 Axes>"
      ]
     },
     "metadata": {
      "needs_background": "light"
     },
     "output_type": "display_data"
    }
   ],
   "source": [
    "plt.plot(dimensions, durees)\n",
    "plt.show()"
   ]
  },
  {
   "cell_type": "code",
   "execution_count": null,
   "metadata": {},
   "outputs": [],
   "source": []
  },
  {
   "cell_type": "code",
   "execution_count": null,
   "metadata": {},
   "outputs": [],
   "source": []
  },
  {
   "cell_type": "code",
   "execution_count": null,
   "metadata": {},
   "outputs": [],
   "source": []
  },
  {
   "cell_type": "code",
   "execution_count": 58,
   "metadata": {},
   "outputs": [],
   "source": [
    "#SKLEARN ira beaucoup plus vite\n",
    "linreg = LinearRegression()\n",
    "#generer donnees avec d = 50000\n",
    "d = 100000\n",
    "X = np.random.rand(100,d)\n",
    "Y = np.random.rand(100,1)"
   ]
  },
  {
   "cell_type": "code",
   "execution_count": 59,
   "metadata": {},
   "outputs": [
    {
     "data": {
      "text/plain": [
       "LinearRegression(copy_X=True, fit_intercept=True, n_jobs=None, normalize=False)"
      ]
     },
     "execution_count": 59,
     "metadata": {},
     "output_type": "execute_result"
    }
   ],
   "source": [
    "linreg.fit(X,Y)"
   ]
  },
  {
   "cell_type": "code",
   "execution_count": null,
   "metadata": {},
   "outputs": [],
   "source": []
  }
 ],
 "metadata": {
  "kernelspec": {
   "display_name": "Python 3",
   "language": "python",
   "name": "python3"
  },
  "language_info": {
   "codemirror_mode": {
    "name": "ipython",
    "version": 3
   },
   "file_extension": ".py",
   "mimetype": "text/x-python",
   "name": "python",
   "nbconvert_exporter": "python",
   "pygments_lexer": "ipython3",
   "version": "3.7.6"
  },
  "toc": {
   "base_numbering": 1,
   "nav_menu": {},
   "number_sections": true,
   "sideBar": true,
   "skip_h1_title": false,
   "title_cell": "Table of Contents",
   "title_sidebar": "Contents",
   "toc_cell": false,
   "toc_position": {},
   "toc_section_display": true,
   "toc_window_display": false
  }
 },
 "nbformat": 4,
 "nbformat_minor": 4
}
