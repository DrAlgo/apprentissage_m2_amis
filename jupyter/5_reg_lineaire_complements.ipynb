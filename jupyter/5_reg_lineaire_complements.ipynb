{
 "cells": [
  {
   "cell_type": "markdown",
   "metadata": {
    "slideshow": {
     "slide_type": "skip"
    }
   },
   "source": [
    "macros latex\n",
    "$$ \n",
    "\\def\\R{{\\mathbb R}} \n",
    "\\def\\x{{\\bf x}}\n",
    "\\def\\y{{\\bf y}}\n",
    "\\def\\a{{\\bf a}}\n",
    "$$"
   ]
  },
  {
   "cell_type": "code",
   "execution_count": 81,
   "metadata": {
    "slideshow": {
     "slide_type": "skip"
    }
   },
   "outputs": [],
   "source": [
    "import numpy as np\n",
    "from matplotlib import pyplot as plt\n",
    "import pandas as pd\n",
    "from sklearn.linear_model import LinearRegression\n",
    "from sklearn.metrics import mean_squared_error"
   ]
  },
  {
   "cell_type": "markdown",
   "metadata": {
    "slideshow": {
     "slide_type": "slide"
    }
   },
   "source": [
    "# Régression linéaire : compléments"
   ]
  },
  {
   "cell_type": "markdown",
   "metadata": {
    "slideshow": {
     "slide_type": "fragment"
    }
   },
   "source": [
    "## Descente de gradient stochastique\n",
    "*Rappel* : pour une régression linéaire, le gradient de l'EQM s'écrit en fonction des poids $\\a \\in \\R^{d+1}$\n",
    "$$\\nabla_{EQM}(\\a) = \\frac{2}{m} X^T (X\\a-\\y)$$\n",
    "où $X$ est la matrice $(m,d+1)$ de l'échantillon des données et $\\y \\in \\R^m$ le vecteur des étiquettes cibles. Si le nombre de données $m$ est grand, le calcul du gradient en $O(m^2)$ peut s'avérer long (ou soucis de mémoire/temps d'accès aux données). On peut alors utiliser  la technique du *gradient stochastique*."
   ]
  },
  {
   "cell_type": "markdown",
   "metadata": {
    "slideshow": {
     "slide_type": "subslide"
    }
   },
   "source": [
    "### descente stochastique\n",
    "A l'origine, une technique de descente de gradient stochastique signifie faire un pas de gradient dans une direction $d$ aléatoire de sorte que l'espérance de $d$ soit une direction de descente.  \n",
    "Par exemple, *si l'on tire à une étape au hasard uniformément $i_\\omega$ dans $\\{1,2,\\cdots,m\\}$* et que l'on considère l'erreur quadratique par rapport à $x^i$ uniquement \n",
    "$$ EQ^i(\\a) = (\\sum_{j=0}^d a_j x^i_j - y^i)^2 =  (\\x^i \\cdot \\a - \\y^i)^2 $$\n",
    "où $\\x^i$ est le vecteur ligne de la $i$-ème donnée\n",
    "alors $i_\\omega$ étant une variable aléatoire on a\n",
    "$$ E[EQ^{i_\\omega}(a)] = \\frac{1}{m} \\sum_{j=1}^m EQ^j(\\a) = EQM(\\a) $$"
   ]
  },
  {
   "cell_type": "markdown",
   "metadata": {
    "slideshow": {
     "slide_type": "subslide"
    }
   },
   "source": [
    "Donc par linéarité en faisant un pas de gradient pour la fonction $EQ^i(m)$ déterminée uniformément au hasard, on fait en moyenne un pas de gradient pour la fonction $EQM(\\a)$. Or \n",
    "$$\\nabla_{EQ^i}(\\a) = 2( \\x^i \\cdot \\a - \\y^i) \\x^i$$\n",
    "est simple à calculer.  \n",
    "Remarquer que\n",
    "$$ ( \\x^i \\cdot \\a - \\y^i) (x^i)^T $$\n",
    "Consiste à avancer dans la direction de $\\x^i$ mutliplié par l'erreur de prédiction."
   ]
  },
  {
   "cell_type": "markdown",
   "metadata": {
    "slideshow": {
     "slide_type": "subslide"
    }
   },
   "source": [
    "### descente itérative\n",
    "En pratique, on ne va pas tirer au hasard $i$ à chaque étape, on va plutôt itérer sur les $i$ de $1$ à $m$ de façon circulaire à chaque pas de gradient. Cette descente s'oppose à la descente déterministe standard où on considère tous les $x^i$, qui est la descente par *batch* (paquet)."
   ]
  },
  {
   "cell_type": "code",
   "execution_count": 122,
   "metadata": {
    "slideshow": {
     "slide_type": "fragment"
    }
   },
   "outputs": [],
   "source": [
    "def descente_gradient_stochastique_RL(X, Y, alpha, a0, max_iter=10000):\n",
    "    \"\"\" Minimise l'EQM par descente de gradient stochastique\n",
    "    X matrice des données\n",
    "    y vecteur des cibles\n",
    "    alpha pas d'apprentissage\n",
    "    epsilon tolérance\n",
    "    a0 point initial\"\"\"\n",
    "    a = a0\n",
    "    k = 0\n",
    "    points = [a0]\n",
    "    m = len(X)\n",
    "    \n",
    "    #calcul du gradient de EQ^i pour le poids a\n",
    "    grad = lambda a,i : 2*(X[i,:].dot(a)-Y[i])*(X[i,:].reshape(-1,1))\n",
    "    \n",
    "    i = 0\n",
    "    \n",
    "    while  k<max_iter:\n",
    "        a = a - alpha*grad(a,i)\n",
    "        k +=1\n",
    "        points.append(a)\n",
    "        i = (i+1)%m\n",
    "\n",
    "    return k, points"
   ]
  },
  {
   "cell_type": "code",
   "execution_count": 234,
   "metadata": {
    "slideshow": {
     "slide_type": "subslide"
    }
   },
   "outputs": [
    {
     "data": {
      "image/png": "[encoded data removed]",
      "text/plain": [
       "<Figure size 432x288 with 1 Axes>"
      ]
     },
     "metadata": {
      "needs_background": "light"
     },
     "output_type": "display_data"
    }
   ],
   "source": [
    "#generations de données sur lesquelles on va faire une descente de gradient stochastique\n",
    "import matplotlib.pyplot as plt\n",
    "Xr_plot = 2 * np.random.rand(100, 1)\n",
    "Yr = 5 * Xr_plot + 7 + np.random.randn(100, 1)\n",
    "plt.plot(Xr_plot,Yr,'o')\n",
    "plt.show()"
   ]
  },
  {
   "cell_type": "code",
   "execution_count": 131,
   "metadata": {
    "slideshow": {
     "slide_type": "subslide"
    }
   },
   "outputs": [],
   "source": [
    "Xr = Xr_plot.reshape(-1,1)\n",
    "Xra = np.concatenate( (np.ones((len(Xr),1)), Xr), axis=1)  #Xr augmenté−"
   ]
  },
  {
   "cell_type": "code",
   "execution_count": 135,
   "metadata": {
    "slideshow": {
     "slide_type": "fragment"
    }
   },
   "outputs": [
    {
     "name": "stdout",
     "output_type": "stream",
     "text": [
      "[[6.98278946]\n",
      " [5.09536647]]\n",
      "1.2585435568273093\n"
     ]
    }
   ],
   "source": [
    "A01 = np.array([0,0]).reshape(-1,1)\n",
    "k, points = descente_gradient_stochastique_RL(Xra,Yr,alpha=0.05, a0=A01, max_iter=1000)\n",
    "#print(k,points[100],points[-1])\n",
    "a_final = points[-1]\n",
    "print(a_final)\n",
    "print(mean_squared_error(Xra.dot(points[-1]),Yr))"
   ]
  },
  {
   "cell_type": "code",
   "execution_count": 235,
   "metadata": {
    "slideshow": {
     "slide_type": "subslide"
    }
   },
   "outputs": [
    {
     "name": "stdout",
     "output_type": "stream",
     "text": [
      "[12.1516396] [[-0.27933518]]\n",
      "9.930954835442854\n"
     ]
    }
   ],
   "source": [
    "#comparaison des résultats\n",
    "lin_reg = LinearRegression()\n",
    "lin_reg.fit(Xr,Yr)\n",
    "print(lin_reg.intercept_,lin_reg.coef_, )\n",
    "print(mean_squared_error(lin_reg.predict(Xr),Yr))"
   ]
  },
  {
   "cell_type": "markdown",
   "metadata": {
    "slideshow": {
     "slide_type": "slide"
    }
   },
   "source": [
    "### Descente par \"mini-batchs\"\n",
    "Une méthode intermédiaire consiste à répartir les données en \"mini-batchs\" (mini-paquets) de taille $k$ fixée. On update alors par le gradient de l'erreur quadratique moyenne sur un mini-paquet fixé. Cette méthode permet d'avoir à la fois une complexité algorithmique raisonnable sur les updates et nécessite un accès aux données moins fréquent."
   ]
  },
  {
   "cell_type": "markdown",
   "metadata": {
    "slideshow": {
     "slide_type": "slide"
    }
   },
   "source": [
    "## Regression polynomiale\n",
    "Considérons des données situées approximativement sur une courbe de degré 2, par exemple $y=2x^2 - x +3$."
   ]
  },
  {
   "cell_type": "code",
   "execution_count": 174,
   "metadata": {
    "slideshow": {
     "slide_type": "fragment"
    }
   },
   "outputs": [
    {
     "data": {
      "image/png": "[encoded data removed]",
      "text/plain": [
       "<Figure size 432x288 with 1 Axes>"
      ]
     },
     "metadata": {
      "needs_background": "light"
     },
     "output_type": "display_data"
    }
   ],
   "source": [
    "Xq = 2 * np.random.rand(100, 1)\n",
    "Yq = 2 * Xq**2 - 2*Xq + 3 + 0.3*np.random.randn(100, 1)\n",
    "plt.plot(Xq,Yq,'o')\n",
    "plt.show()"
   ]
  },
  {
   "cell_type": "markdown",
   "metadata": {
    "slideshow": {
     "slide_type": "slide"
    }
   },
   "source": [
    "Une droite est un mauvais approximateur pour ces données\n"
   ]
  },
  {
   "cell_type": "code",
   "execution_count": 179,
   "metadata": {
    "slideshow": {
     "slide_type": "subslide"
    }
   },
   "outputs": [
    {
     "data": {
      "image/png": "[encoded data removed]",
      "text/plain": [
       "<Figure size 432x288 with 1 Axes>"
      ]
     },
     "metadata": {
      "needs_background": "light"
     },
     "output_type": "display_data"
    },
    {
     "name": "stdout",
     "output_type": "stream",
     "text": [
      "EQM 0.4337818112997018\n"
     ]
    }
   ],
   "source": [
    "lin_reg = LinearRegression()\n",
    "lin_reg.fit(Xq,Yq)\n",
    "plt.plot(Xq,Yq,'o')\n",
    "X = np.linspace(0,2,200)\n",
    "prediction_X = lin_reg.predict(X.reshape(-1,1))\n",
    "plt.plot(X,prediction_X)\n",
    "plt.show()\n",
    "prediction_Xq = lin_reg.predict(Xq.reshape(-1,1))\n",
    "print(\"EQM\", mean_squared_error(prediction_Xq,Yq))"
   ]
  },
  {
   "cell_type": "markdown",
   "metadata": {
    "slideshow": {
     "slide_type": "slide"
    }
   },
   "source": [
    "Pour approcher les données par une courbe quadratique, l'idée est de donner l'accès à la régression linéaire à la valeur de $x^2$ pour chaque donnée $x$. On ajoute à chaque donnée $x^i$ une colonne contenant $(x^i)^2$"
   ]
  },
  {
   "cell_type": "code",
   "execution_count": 183,
   "metadata": {
    "slideshow": {
     "slide_type": "subslide"
    }
   },
   "outputs": [
    {
     "data": {
      "image/png": "[encoded data removed]",
      "text/plain": [
       "<Figure size 432x288 with 1 Axes>"
      ]
     },
     "metadata": {
      "needs_background": "light"
     },
     "output_type": "display_data"
    },
    {
     "name": "stdout",
     "output_type": "stream",
     "text": [
      "EQM 0.08700241026733282\n"
     ]
    }
   ],
   "source": [
    "Xqa = np.concatenate( (Xq, Xq**2), axis=1) #Xadv augmenté\n",
    "lin_reg.fit(Xqa,Yq)\n",
    "plt.plot(Xq,Yq,'o')\n",
    "X = np.linspace(0,2,200).reshape(-1,1)\n",
    "Xa = np.concatenate( (X, X**2), axis=1)\n",
    "plt.plot(X,lin_reg.predict(Xa))\n",
    "plt.show()\n",
    "prediction_Xq = lin_reg.predict(Xqa)\n",
    "print(\"EQM\", mean_squared_error(prediction_Xq,Yq))"
   ]
  },
  {
   "cell_type": "markdown",
   "metadata": {
    "slideshow": {
     "slide_type": "slide"
    }
   },
   "source": [
    "### Régression quadratique en dimension $d$"
   ]
  },
  {
   "cell_type": "markdown",
   "metadata": {
    "slideshow": {
     "slide_type": "subslide"
    }
   },
   "source": [
    "En dimension $d$, l'expression totale d'un polynôme quadratique est de la forme \n",
    "$$f(x) = \\sum_k a_k x_k^2 + \\sum_{k \\neq \\ell} b_{k,\\ell} x_k x_\\ell + \\sum_k c_k x_k + d $$\n",
    "Il faut transformer les données en associant à la donnée \n",
    "$$x=(x_1,x_2,\\cdots,x_d)$$ \n",
    "la donnée\n",
    "$$\\Phi(x) = (1,x_1,x_2,\\cdots,x_d, (x_1)^2, \\cdots,(x_d)^2,x_1 \\cdot x_2, x_1 \\cdot x_3, \\dots, x_{d-1} \\cdot x_d) $$ \n",
    "(on ajoute tous les carrés et les produits de coordonnées).\n",
    "\n",
    "On opère ensuite une regression linéaire sur $(\\Phi(X),Y)$."
   ]
  },
  {
   "cell_type": "markdown",
   "metadata": {
    "slideshow": {
     "slide_type": "slide"
    }
   },
   "source": [
    "## Régression polynomiale en dimension 1"
   ]
  },
  {
   "cell_type": "markdown",
   "metadata": {
    "slideshow": {
     "slide_type": "subslide"
    }
   },
   "source": [
    "Plus généralement, on peut augmenter les données en ajoutant les puissances nécessaires \n",
    "et augmenter ainsi la complexité du modèle (davantage de paramètres = davantage de complexité)."
   ]
  },
  {
   "cell_type": "code",
   "execution_count": 191,
   "metadata": {
    "slideshow": {
     "slide_type": "fragment"
    }
   },
   "outputs": [],
   "source": [
    "def augmenter_donnees(X, puissance, dim_zero=False):\n",
    "    Xf = X\n",
    "    if dim_zero:\n",
    "        Xf = np.concatenate( (np.ones((len(X),1)), X), axis=1) \n",
    "    for i in range(2,puissance+1):\n",
    "        Xf = np.concatenate( (Xf, X**i), axis=1)\n",
    "    return Xf"
   ]
  },
  {
   "cell_type": "code",
   "execution_count": 192,
   "metadata": {
    "slideshow": {
     "slide_type": "subslide"
    }
   },
   "outputs": [
    {
     "name": "stdout",
     "output_type": "stream",
     "text": [
      "[[  1   2   3   1   4   9   1   8  27]\n",
      " [  4   5   6  16  25  36  64 125 216]]\n"
     ]
    }
   ],
   "source": [
    "X = np.array([[1,2,3],[4,5,6]])\n",
    "print(augmenter_donnees(X,3))"
   ]
  },
  {
   "cell_type": "code",
   "execution_count": 220,
   "metadata": {
    "slideshow": {
     "slide_type": "fragment"
    }
   },
   "outputs": [
    {
     "data": {
      "image/png": "[encoded data removed]",
      "text/plain": [
       "<Figure size 432x288 with 1 Axes>"
      ]
     },
     "metadata": {
      "needs_background": "light"
     },
     "output_type": "display_data"
    }
   ],
   "source": [
    "X = 2 * np.random.rand(20, 1)\n",
    "Y = np.random.randn(20, 1)\n",
    "plt.plot(X,Y,'o')\n",
    "plt.show()"
   ]
  },
  {
   "cell_type": "code",
   "execution_count": 228,
   "metadata": {
    "slideshow": {
     "slide_type": "subslide"
    }
   },
   "outputs": [],
   "source": [
    "def reg_poly_avec_plot(X, Y, k, plot = True):\n",
    "    Xa = augmenter_donnees(X, k)\n",
    "    lin_reg.fit(Xa,Y)\n",
    "    Xlin = np.linspace(0,2,200).reshape(-1,1)\n",
    "    Xlina = augmenter_donnees(Xlin, k)\n",
    "    #print(lin_reg.predict(Xlina))\n",
    "    if plot:\n",
    "        plt.plot(X,Y,'o')\n",
    "        plt.plot(Xlin, lin_reg.predict(Xlina))\n",
    "        plt.show()\n",
    "    prediction_Xa = lin_reg.predict(Xa)\n",
    "    return mean_squared_error(prediction_Xa,Y)"
   ]
  },
  {
   "cell_type": "code",
   "execution_count": 236,
   "metadata": {
    "slideshow": {
     "slide_type": "subslide"
    }
   },
   "outputs": [
    {
     "data": {
      "image/png": "[encoded data removed]",
      "text/plain": [
       "<Figure size 432x288 with 1 Axes>"
      ]
     },
     "metadata": {
      "needs_background": "light"
     },
     "output_type": "display_data"
    },
    {
     "data": {
      "text/plain": [
       "0.1320728526661607"
      ]
     },
     "execution_count": 236,
     "metadata": {},
     "output_type": "execute_result"
    }
   ],
   "source": [
    "reg_poly_avec_plot(X,Y,15)"
   ]
  },
  {
   "cell_type": "code",
   "execution_count": 232,
   "metadata": {
    "slideshow": {
     "slide_type": "subslide"
    }
   },
   "outputs": [
    {
     "data": {
      "image/png": "[encoded data removed]",
      "text/plain": [
       "<Figure size 432x288 with 1 Axes>"
      ]
     },
     "metadata": {
      "needs_background": "light"
     },
     "output_type": "display_data"
    }
   ],
   "source": [
    "x = [reg_poly_avec_plot(X,Y,i,plot=False) for i in range(2,15)]\n",
    "plt.plot(x)\n",
    "plt.show()"
   ]
  },
  {
   "cell_type": "markdown",
   "metadata": {
    "slideshow": {
     "slide_type": "subslide"
    }
   },
   "source": [
    "## Exercices"
   ]
  },
  {
   "cell_type": "markdown",
   "metadata": {},
   "source": [
    "### (prog)\n",
    "Effectuer une descente de gradient stochastique sur le jeu de données *iris*, et sur le jeu de données *advertising*.\n",
    "Vérifiez vos résultats avec sklearn."
   ]
  },
  {
   "cell_type": "markdown",
   "metadata": {},
   "source": [
    "### (maths & prog)\n",
    "Programmez et effectuez une descente par mini-batchs pour différentes valeurs de $k$. Comparez les temps de convergence à pas fixé."
   ]
  },
  {
   "cell_type": "markdown",
   "metadata": {},
   "source": [
    "### (prog)\n",
    "Implémentez une régression quadratique pour le jeu de données *advertising*. Compérez l'EQM minimale avec celle obtenue par regression linéaire."
   ]
  },
  {
   "cell_type": "code",
   "execution_count": null,
   "metadata": {},
   "outputs": [],
   "source": []
  }
 ],
 "metadata": {
  "celltoolbar": "Diaporama",
  "kernelspec": {
   "display_name": "Python 3",
   "language": "python",
   "name": "python3"
  },
  "language_info": {
   "codemirror_mode": {
    "name": "ipython",
    "version": 3
   },
   "file_extension": ".py",
   "mimetype": "text/x-python",
   "name": "python",
   "nbconvert_exporter": "python",
   "pygments_lexer": "ipython3",
   "version": "3.7.6"
  },
  "toc": {
   "base_numbering": 1,
   "nav_menu": {},
   "number_sections": true,
   "sideBar": true,
   "skip_h1_title": true,
   "title_cell": "Table of Contents",
   "title_sidebar": "Contents",
   "toc_cell": false,
   "toc_position": {},
   "toc_section_display": true,
   "toc_window_display": false
  }
 },
 "nbformat": 4,
 "nbformat_minor": 4
}
