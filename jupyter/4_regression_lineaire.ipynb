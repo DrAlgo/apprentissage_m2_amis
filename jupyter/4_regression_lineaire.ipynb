{
 "cells": [
  {
   "cell_type": "code",
   "execution_count": 2,
   "metadata": {
    "slideshow": {
     "slide_type": "subslide"
    }
   },
   "outputs": [],
   "source": [
    "import numpy as np\n",
    "from matplotlib import pyplot as plt"
   ]
  },
  {
   "cell_type": "markdown",
   "metadata": {},
   "source": [
    "macros latex\n",
    "$$ \n",
    "\\def\\R{{\\mathbb R}} \n",
    "\\def\\x{{\\bf x}}\n",
    "\\def\\y{{\\bf y}}\n",
    "\\def\\a{{\\bf a}}\n",
    "$$"
   ]
  },
  {
   "cell_type": "markdown",
   "metadata": {
    "slideshow": {
     "slide_type": "slide"
    }
   },
   "source": [
    "# Regression linéaire"
   ]
  },
  {
   "cell_type": "markdown",
   "metadata": {
    "slideshow": {
     "slide_type": "fragment"
    }
   },
   "source": [
    "## introduction n°1 : approximation par une constante"
   ]
  },
  {
   "cell_type": "markdown",
   "metadata": {
    "slideshow": {
     "slide_type": "fragment"
    }
   },
   "source": [
    "On dispose d'un ensemble de relevés de $m$ mesures sur une grandeur $Y$ lors d'une expérience scientifique répétée plusieurs fois. Par exemple, la mesure du pH d'une solution   après une réaction chimique.\n",
    " $$ y^1=5.7, y^2=5.8, y^3=5.7, y^4=5.6, y^5=5.85, \\dots $$\n",
    "  Par quelle valeur constante $b$ **prédire** la véritable mesure ?"
   ]
  },
  {
   "cell_type": "code",
   "execution_count": 5,
   "metadata": {
    "slideshow": {
     "slide_type": "subslide"
    }
   },
   "outputs": [],
   "source": [
    "Y = np.array([5.7, 5.8, 5.7, 5.6, 5.85, 5.91, 5.73])"
   ]
  },
  {
   "cell_type": "code",
   "execution_count": 10,
   "metadata": {
    "slideshow": {
     "slide_type": "fragment"
    }
   },
   "outputs": [
    {
     "data": {
      "image/png": "[encoded data removed]",
      "text/plain": [
       "<Figure size 432x288 with 1 Axes>"
      ]
     },
     "metadata": {
      "needs_background": "light"
     },
     "output_type": "display_data"
    }
   ],
   "source": [
    "plt.ylim(5,6.5) ; plt.xlabel('i') ; plt.ylabel('yi')\n",
    "plt.plot(list(range(1,1+len(Y))),Y,'o')\n",
    "plt.show()"
   ]
  },
  {
   "cell_type": "markdown",
   "metadata": {
    "slideshow": {
     "slide_type": "subslide"
    }
   },
   "source": [
    "On mesure l'erreur d'une prédiction $b$ entre la mesure prédite et les mesures observées par l'**erreur quadratique moyenne**\n",
    "$$\\text{EQM}(b) = \\frac1{m} \\sum_{i=1}^m (b-y^i)^2$$"
   ]
  },
  {
   "cell_type": "markdown",
   "metadata": {
    "slideshow": {
     "slide_type": "subslide"
    }
   },
   "source": [
    "Représentation de l'EQM en fonction de $b$"
   ]
  },
  {
   "cell_type": "code",
   "execution_count": 15,
   "metadata": {
    "slideshow": {
     "slide_type": "fragment"
    }
   },
   "outputs": [],
   "source": [
    "b = 5\n",
    "m = len(Y)\n",
    "EQM = lambda b: sum([(b-yi)**2 for yi in Y])"
   ]
  },
  {
   "cell_type": "code",
   "execution_count": 19,
   "metadata": {
    "slideshow": {
     "slide_type": "fragment"
    }
   },
   "outputs": [
    {
     "data": {
      "image/png": "[encoded data removed]",
      "text/plain": [
       "<Figure size 432x288 with 1 Axes>"
      ]
     },
     "metadata": {
      "needs_background": "light"
     },
     "output_type": "display_data"
    }
   ],
   "source": [
    "X = np.arange(3,7,0.01)\n",
    "Z = EQM(X)\n",
    "plt.plot(X,Z,'r') ; plt.show()"
   ]
  },
  {
   "cell_type": "markdown",
   "metadata": {
    "slideshow": {
     "slide_type": "subslide"
    }
   },
   "source": [
    "L'EQM est une fonction strictement convexe de $b$, dont le minimum peut être déterminé par l'annulation de la dérivée"
   ]
  },
  {
   "cell_type": "markdown",
   "metadata": {
    "slideshow": {
     "slide_type": "fragment"
    }
   },
   "source": [
    "$$ \\frac{d}{db}( \\frac1{m} \\sum_{i=1}^m (b-y^i)^2 ) = 0$$\n",
    "$$\\frac1{m} \\sum_{i=1}^m 2(b - y^i ) = 0 $$\n",
    "$$ 2b - 2 \\frac1{m} \\sum_{i=1}^m y^i  = 0$$\n",
    "$$ b =  \\frac1{m} \\sum_{i=1}^m y^i $$\n",
    "\n",
    "\n"
   ]
  },
  {
   "cell_type": "markdown",
   "metadata": {
    "slideshow": {
     "slide_type": "subslide"
    }
   },
   "source": [
    "La moyenne arithmétique $$\\bar{y} = \\frac1{m} \\sum_{i=1}^m y^i $$ minimise donc l'erreur quadratique moyenne.  \n",
    "Parmi toutes les prédictions constantes possibles, celle qui approche le mieux au sens de l'EQM les données est la moyenne arithmétique."
   ]
  },
  {
   "cell_type": "markdown",
   "metadata": {
    "slideshow": {
     "slide_type": "slide"
    }
   },
   "source": [
    "## Approximation par une fonction linéaire"
   ]
  },
  {
   "cell_type": "markdown",
   "metadata": {
    "slideshow": {
     "slide_type": "fragment"
    }
   },
   "source": [
    "On a cette fois ci des données de la forme $(x^i,y^i)$ pour $i$ de 1 à $m$ où $y^i$ est l'image de $x^i$ par une fonction inconnue que l'on cherche à approximer. On suppose que les points sont situés presque alignés sur une droite passant par l'origine, et on cherche donc une fonction de la forme $g(x) = ax$ pour l'approximation."
   ]
  },
  {
   "cell_type": "markdown",
   "metadata": {
    "slideshow": {
     "slide_type": "subslide"
    }
   },
   "source": [
    "exemple :"
   ]
  },
  {
   "cell_type": "code",
   "execution_count": 23,
   "metadata": {
    "slideshow": {
     "slide_type": "fragment"
    }
   },
   "outputs": [
    {
     "data": {
      "image/png": "[encoded data removed]",
      "text/plain": [
       "<Figure size 432x288 with 1 Axes>"
      ]
     },
     "metadata": {
      "needs_background": "light"
     },
     "output_type": "display_data"
    }
   ],
   "source": [
    "X = np.array([0.5, 1.2, 1.4, 2.5, 4, 4.2])\n",
    "Y = np.array([1.1 ,  2.41,  3.26,  6.1  ,  9.92 , 10.2])\n",
    "plt.plot(X,Y,'o') ; plt.show()"
   ]
  },
  {
   "cell_type": "markdown",
   "metadata": {
    "slideshow": {
     "slide_type": "subslide"
    }
   },
   "source": [
    "On mesure de nouveau la qualité de l'approximation par l'erreur quadratique moyenne :\n",
    "$$EQM = \\frac1{m} \\sum_{i=1}^m (a x^i - y^i)^2$$"
   ]
  },
  {
   "cell_type": "code",
   "execution_count": 51,
   "metadata": {
    "slideshow": {
     "slide_type": "fragment"
    }
   },
   "outputs": [
    {
     "data": {
      "image/png": "[encoded data removed]",
      "text/plain": [
       "<Figure size 432x288 with 1 Axes>"
      ]
     },
     "metadata": {
      "needs_background": "light"
     },
     "output_type": "display_data"
    }
   ],
   "source": [
    "EMQ2 = lambda a: ((a*X-Y)**2).sum()\n",
    "A = np.arange(0,7,0.01)\n",
    "plt.plot(A,[EMQ2(a) for a in A],'r') ; plt.show()"
   ]
  },
  {
   "cell_type": "markdown",
   "metadata": {
    "slideshow": {
     "slide_type": "subslide"
    }
   },
   "source": [
    "L'EMQ est minimale quand sa dérivée s'annule :\n",
    "$$ \\frac{d}{da}( \\frac1{m} \\sum_{i=1}^m (ax^i-y^i)^2 ) = 0$$\n",
    "$$\\frac1{m} \\sum_{i=1}^m 2x^i(ax^i - y^i ) = 0 $$\n",
    "$$ \\frac2{m} \\sum_{i=1}^m a (x^i)^2 - \\frac2{m} \\sum_{i=1}^m x^i y^i  = 0$$\n",
    "$$ \\boxed{a_\\min =  \\frac{\\frac1{m} \\sum_{i=1}^m x^i y^i}{\\frac1{m} \\sum_{i=1}^m (x^i)^2}} $$\n",
    "\n"
   ]
  },
  {
   "cell_type": "code",
   "execution_count": 52,
   "metadata": {
    "slideshow": {
     "slide_type": "fragment"
    }
   },
   "outputs": [
    {
     "data": {
      "text/plain": [
       "2.4293982544786403"
      ]
     },
     "execution_count": 52,
     "metadata": {},
     "output_type": "execute_result"
    }
   ],
   "source": [
    "amin = sum(X*Y) / sum(X*X) ; amin"
   ]
  },
  {
   "cell_type": "markdown",
   "metadata": {
    "slideshow": {
     "slide_type": "subslide"
    }
   },
   "source": [
    "Vérification expérimentale de la formule obtenue"
   ]
  },
  {
   "cell_type": "code",
   "execution_count": 62,
   "metadata": {
    "slideshow": {
     "slide_type": "fragment"
    }
   },
   "outputs": [
    {
     "data": {
      "image/png": "[encoded data removed]",
      "text/plain": [
       "<Figure size 432x288 with 1 Axes>"
      ]
     },
     "metadata": {
      "needs_background": "light"
     },
     "output_type": "display_data"
    }
   ],
   "source": [
    "A = np.arange(amin-0.5,amin+0.5,0.01)\n",
    "plt.plot(A, [EMQ2(a) for a in A],'r') ; plt.plot(amin,EMQ2(amin),'o')\n",
    "plt.show()"
   ]
  },
  {
   "cell_type": "markdown",
   "metadata": {
    "slideshow": {
     "slide_type": "subslide"
    }
   },
   "source": [
    "Droite de régression *linéaire* (non affine) obtenue"
   ]
  },
  {
   "cell_type": "code",
   "execution_count": 64,
   "metadata": {
    "slideshow": {
     "slide_type": "fragment"
    }
   },
   "outputs": [
    {
     "data": {
      "image/png": "[encoded data removed]",
      "text/plain": [
       "<Figure size 432x288 with 1 Axes>"
      ]
     },
     "metadata": {
      "needs_background": "light"
     },
     "output_type": "display_data"
    }
   ],
   "source": [
    "dr = lambda x:amin*x\n",
    "X2 = np.arange(0,5,0.01)\n",
    "plt.plot(X,Y,'o',X2,dr(X2),'k') ; plt.show()"
   ]
  },
  {
   "cell_type": "markdown",
   "metadata": {
    "slideshow": {
     "slide_type": "slide"
    }
   },
   "source": [
    "## Regression linéaire simple\n",
    "C'est le terme utilisé pour la regression linéaire en dimension 1. Attention on emploie le terme linéaire mais il s'agit en fait d'une regression affine en dimension 1 (qui revient à une reg. linéaire en dim 2, voir plus tard)."
   ]
  },
  {
   "cell_type": "markdown",
   "metadata": {
    "slideshow": {
     "slide_type": "fragment"
    }
   },
   "source": [
    "### Le problème\n",
    "On a toujours des couples de données de dimension 1, sous la forme $(x^i,y^i)$ pour $1 \\leq i \\leq m$, mais on cherche maintenant une approximation de ces données par une droite qui ne passe pas forcément par l'origine. Plus précisément, on cherche à approximer la fonction inconnue $f$ telle que $f(x^i)=y^i$ par une fonction $g$ de la forme $g(x) = ax+b$."
   ]
  },
  {
   "cell_type": "code",
   "execution_count": 72,
   "metadata": {
    "slideshow": {
     "slide_type": "subslide"
    }
   },
   "outputs": [
    {
     "data": {
      "image/png": "[encoded data removed]",
      "text/plain": [
       "<Figure size 432x288 with 1 Axes>"
      ]
     },
     "metadata": {
      "needs_background": "light"
     },
     "output_type": "display_data"
    }
   ],
   "source": [
    "X = np.array([0.5, 1.2, 1.4, 2.5, 3.1, 4, 4.2, 2.1, 3.7])\n",
    "Y = np.array([ 9.5, 13.4, 14.7, 20.4, 23.3, 28 , 29.51, 18.1, 26.71])\n",
    "plt.ylim(0,30)\n",
    "plt.plot(X,Y,'o') ; plt.show()"
   ]
  },
  {
   "cell_type": "markdown",
   "metadata": {
    "slideshow": {
     "slide_type": "fragment"
    }
   },
   "source": [
    "On va chercher les paramètres $a$ et $b$ qui minimisent l'erreur quadratique moyenne :\n",
    "$$ \\boxed{EQM = \\frac1{m} \\sum_{i=1}^m (a x^i  + b - y^i)^2}$$\n",
    "\n",
    "note : ceci revient à minimiser la distance entre les vecteur $a {\\bf x}+b \\mathbb{1} $ et \n",
    "$y$ au sens de la norme 2."
   ]
  },
  {
   "cell_type": "code",
   "execution_count": 97,
   "metadata": {
    "slideshow": {
     "slide_type": "subslide"
    }
   },
   "outputs": [],
   "source": [
    "a1 = np.arange(3,7,0.05)\n",
    "b1 = np.arange(5,8,0.05)\n",
    "A, B = np.meshgrid(a1,b1)"
   ]
  },
  {
   "cell_type": "code",
   "execution_count": 98,
   "metadata": {},
   "outputs": [
    {
     "data": {
      "image/png": "[encoded data removed]",
      "text/plain": [
       "<Figure size 576x576 with 2 Axes>"
      ]
     },
     "metadata": {
      "needs_background": "light"
     },
     "output_type": "display_data"
    }
   ],
   "source": [
    "EQN3 = lambda a,b: sum([(a*X[i]+b-Y[i])**2 for i in range(len(X))])\n",
    "Z = EQN3(A,B) ; levels = [0.0, 1.0, 2.0, 3.0,]\n",
    "plt.figure(figsize=(8,8))\n",
    "cp = plt.contourf(A, B, Z, levels)\n",
    "plt.colorbar(cp) ; plt.show()"
   ]
  },
  {
   "cell_type": "markdown",
   "metadata": {
    "slideshow": {
     "slide_type": "subslide"
    }
   },
   "source": [
    "### Résolution\n",
    "$$ \\boxed{EQM = \\frac1{m} \\sum_{i=1}^m (a x^i  + b - y^i)^2}$$\n",
    "EQM est maintenant une fonction quadratique convexe de deux variables $a$ et $b$. Cette fonction admet un minimum où son gradient $\\nabla_{EQM}$ s'annule, soit\n",
    "$$ \\frac{\\partial EQM(a,b)}{\\partial a} = \\frac{\\partial}{\\partial a}( \\frac1{m} \\sum_{i=1}^m (ax^i+b-y^i)^2 ) = 0 $$\n",
    "$$\\text{ et }  \\frac{\\partial EQM(a,b)}{\\partial b}=\\frac{\\partial}{\\partial b}( \\frac1{m} \\sum_{i=1}^m (ax^i+b-y^i)^2 ) = 0$$"
   ]
  },
  {
   "cell_type": "markdown",
   "metadata": {
    "slideshow": {
     "slide_type": "subslide"
    }
   },
   "source": [
    "$$\n",
    "\\begin{align}\n",
    "\\begin{cases}\n",
    "\\frac{\\partial}{\\partial a}( \\frac1{m} \\sum_{i=1}^m (ax^i+b-y^i)^2 ) = 0\\\\\n",
    " \\frac{\\partial}{\\partial b}( \\frac1{m} \\sum_{i=1}^m (ax^i+b-y^i)^2 ) = 0\\\\\n",
    "\\end{cases}\n",
    "\\end{align}\n",
    "$$\n",
    "\n",
    "$$\n",
    "\\begin{align}\n",
    "\\begin{cases}\n",
    " \\frac1{m} \\sum_{i=1}^m 2x^i(ax^i+b-y^i) = 0\\\\\n",
    " \\frac1{m} \\sum_{i=1}^m 2(ax^i+b-y^i) = 0\\\\\n",
    "\\end{cases}\n",
    "\\end{align}\n",
    "$$"
   ]
  },
  {
   "cell_type": "markdown",
   "metadata": {
    "slideshow": {
     "slide_type": "fragment"
    }
   },
   "source": [
    "(on simplifie par 2)\n",
    "$$\n",
    "\\begin{align}\n",
    "\\begin{cases}\n",
    " a \\frac1{m} \\sum_{i=1}^m (x^i)^2 + b \\frac1{m} \\sum_{i=1}^m x^i - \\frac1{m} \\sum_{i=1}^m x^i y^i = 0\\\\\n",
    " a \\frac1{m} \\sum_{i=1}^m x^i + b - \\frac1{m} \\sum_{i=1}^m y^i = 0\\\\\n",
    "\\end{cases}\n",
    "\\end{align}\n",
    "$$"
   ]
  },
  {
   "cell_type": "markdown",
   "metadata": {
    "slideshow": {
     "slide_type": "subslide"
    }
   },
   "source": [
    "(reprise)\n",
    "$$\n",
    "\\begin{align}\n",
    "\\begin{cases}\n",
    " a \\frac1{m} \\sum_{i=1}^m (x^i)^2 + b \\frac1{m} \\sum_{i=1}^m x^i - \\frac1{m} \\sum_{i=1}^m x^i y^i = 0\\\\\n",
    " a \\frac1{m} \\sum_{i=1}^m x^i + b - \\frac1{m} \\sum_{i=1}^m y^i = 0\\\\\n",
    "\\end{cases}\n",
    "\\end{align}\n",
    "$$"
   ]
  },
  {
   "cell_type": "markdown",
   "metadata": {
    "slideshow": {
     "slide_type": "fragment"
    }
   },
   "source": [
    "qui peut se noter plus simplement\n",
    "$$\n",
    "\\begin{align}\n",
    "\\begin{cases}\n",
    " a \\cdot \\overline{x^2} + b \\cdot \\overline{x} - \\overline{xy} = 0\\\\\n",
    " a \\cdot \\overline{x} + b - \\overline{y} = 0\\\\\n",
    "\\end{cases}\n",
    "\\end{align}\n",
    "$$\n",
    "où la barre désigne la moyenne d'une série de termes $(x^i)^2, (x^i)$ ou $(x^i y^i)$."
   ]
  },
  {
   "cell_type": "markdown",
   "metadata": {
    "slideshow": {
     "slide_type": "subslide"
    }
   },
   "source": [
    "On vérifie (exercice) que \n",
    "$$\\overline{x^2} = var(x) + (\\overline{x})^2$$\n",
    "où\n",
    "$$var(x) = \\overline{(x-\\overline{x})^2}= \\frac1{m} \\sum_{i=1}^m (x_i - \\overline{x})^2$$\n",
    "est la variance de $m$ c'est à dire *la moyenne des carrés des écarts de $x$ à sa moyenne*"
   ]
  },
  {
   "cell_type": "markdown",
   "metadata": {
    "slideshow": {
     "slide_type": "fragment"
    }
   },
   "source": [
    "On vérifie de même que\n",
    "$$\\overline{xy} = cov(x,y) + \\overline{x}\\cdot\\overline{y}$$\n",
    "où\n",
    "$$cov(x,y)=\\overline{(x-\\bar{x})(y-\\bar{y})} = \\frac1{m} \\sum_{i=1}^m (x_i - \\overline{x})(y_i - \\overline{y}) $$\n",
    "est la covariance de $x$ et $y$.\n",
    "(Remarquer $var(x)=cov(x,x)$)"
   ]
  },
  {
   "cell_type": "markdown",
   "metadata": {
    "slideshow": {
     "slide_type": "subslide"
    }
   },
   "source": [
    "Le système peut alors s'écrire\n",
    "$$\n",
    "\\begin{align}\n",
    "\\begin{cases}\n",
    " a \\cdot (var(x) + (\\overline{x})^2) + b \\cdot \\overline{x} - (cov(x,y) + \\overline{x} \\overline{y}) = 0\\\\\n",
    " a \\cdot \\overline{x} + b - \\overline{y} = 0\\\\\n",
    "\\end{cases}\n",
    "\\end{align}\n",
    "$$\n",
    " "
   ]
  },
  {
   "cell_type": "markdown",
   "metadata": {
    "slideshow": {
     "slide_type": "fragment"
    }
   },
   "source": [
    "En remplaçant dans la première équation $b$ par $\\overline{y} - a \\cdot \\overline{x} $ on obtient\n",
    "$$a \\cdot (var(x) + (\\overline{x})^2) + ((\\overline{y} - a \\cdot \\overline{x}) \\cdot \\overline{x} - (cov(x,y) + \\overline{x} \\overline{y}) = 0 $$\n"
   ]
  },
  {
   "cell_type": "markdown",
   "metadata": {
    "slideshow": {
     "slide_type": "subslide"
    }
   },
   "source": [
    "qui se simplifie en\n",
    "$$ a \\cdot var(x) - cov(x,y) = 0$$\n",
    "On obient donc comme solutions\n",
    "$$\\boxed{\n",
    "\\begin{align}\n",
    "\\begin{cases}\n",
    " a^* = \\frac{cov(x,y)}{var(x)}\\\\\n",
    " b^* = \\overline{y} - a^* \\overline{x} \\\\\n",
    "\\end{cases}\n",
    "\\end{align}}\n",
    "$$\n",
    " "
   ]
  },
  {
   "cell_type": "markdown",
   "metadata": {
    "slideshow": {
     "slide_type": "subslide"
    }
   },
   "source": [
    "### Vérification expérimentale\n",
    "$$\n",
    "\\begin{align}\n",
    "\\begin{cases}\n",
    " a^* = \\frac{cov(x,y)}{var(x)}\\\\\n",
    " b^* = \\overline{y} - a^* \\overline{x} \\\\\n",
    "\\end{cases}\n",
    "\\end{align}\n",
    "$$"
   ]
  },
  {
   "cell_type": "code",
   "execution_count": 95,
   "metadata": {
    "slideshow": {
     "slide_type": "fragment"
    }
   },
   "outputs": [
    {
     "data": {
      "text/plain": [
       "(5.308010479517307, 7.014240234995237)"
      ]
     },
     "execution_count": 95,
     "metadata": {},
     "output_type": "execute_result"
    }
   ],
   "source": [
    "a = ((X-X.mean())*(Y-Y.mean())).mean() / ((X-X.mean())**2).mean() \n",
    "b = Y.mean() - a*X.mean()\n",
    "a,b"
   ]
  },
  {
   "cell_type": "code",
   "execution_count": 102,
   "metadata": {
    "slideshow": {
     "slide_type": "subslide"
    }
   },
   "outputs": [
    {
     "data": {
      "image/png": "[encoded data removed]",
      "text/plain": [
       "<Figure size 432x288 with 1 Axes>"
      ]
     },
     "metadata": {
      "needs_background": "light"
     },
     "output_type": "display_data"
    }
   ],
   "source": [
    "plt.ylim(0,50)\n",
    "dr = lambda x:a*x+b\n",
    "X2 = np.arange(0,6,0.01)\n",
    "plt.plot(X,Y,'o',X2,dr(X2),'k') ; plt.show()"
   ]
  },
  {
   "cell_type": "markdown",
   "metadata": {
    "slideshow": {
     "slide_type": "subslide"
    }
   },
   "source": [
    "**Autre exemple**\n",
    "On génère des points au hasard d'abscisse dans $[0;2]$ situés sur la droite d'équation $y = 5x+7$ plus un \"bruit\" suivant la loi normale centrée réduite."
   ]
  },
  {
   "cell_type": "code",
   "execution_count": 7,
   "metadata": {
    "slideshow": {
     "slide_type": "fragment"
    }
   },
   "outputs": [
    {
     "data": {
      "text/plain": [
       "[<matplotlib.lines.Line2D at 0x7fb400d12190>]"
      ]
     },
     "execution_count": 7,
     "metadata": {},
     "output_type": "execute_result"
    },
    {
     "data": {
      "image/png": "[encoded data removed]",
      "text/plain": [
       "<Figure size 432x288 with 1 Axes>"
      ]
     },
     "metadata": {
      "needs_background": "light"
     },
     "output_type": "display_data"
    }
   ],
   "source": [
    "X = 2 * np.random.rand(100, 1)\n",
    "Y = 5 * X + 7 + np.random.randn(100, 1)\n",
    "plt.plot(X,Y,'o')"
   ]
  },
  {
   "cell_type": "code",
   "execution_count": 8,
   "metadata": {
    "slideshow": {
     "slide_type": "subslide"
    }
   },
   "outputs": [
    {
     "data": {
      "text/plain": [
       "(4.820800267745469, 7.12702604425506)"
      ]
     },
     "execution_count": 8,
     "metadata": {},
     "output_type": "execute_result"
    }
   ],
   "source": [
    "# calcul des coefficients de régression\n",
    "a = ((X-X.mean())*(Y-Y.mean())).mean() / ((X-X.mean())**2).mean() \n",
    "b = Y.mean() - a*X.mean()\n",
    "a,b"
   ]
  },
  {
   "cell_type": "markdown",
   "metadata": {
    "slideshow": {
     "slide_type": "fragment"
    }
   },
   "source": [
    "On n'obtient pas exactement 5 et 7 à cause du bruit aléatoire"
   ]
  },
  {
   "cell_type": "code",
   "execution_count": 11,
   "metadata": {
    "slideshow": {
     "slide_type": "fragment"
    }
   },
   "outputs": [
    {
     "data": {
      "image/png": "[encoded data removed]",
      "text/plain": [
       "<Figure size 432x288 with 1 Axes>"
      ]
     },
     "metadata": {
      "needs_background": "light"
     },
     "output_type": "display_data"
    }
   ],
   "source": [
    "plt.plot(X,Y,'o')\n",
    "plt.plot(X,a*X+b,'r-')\n",
    "#plt.plot(X,5*X+7)\n",
    "plt.show()"
   ]
  },
  {
   "cell_type": "markdown",
   "metadata": {
    "slideshow": {
     "slide_type": "slide"
    }
   },
   "source": [
    "## Regression linéaire en dimension $d$"
   ]
  },
  {
   "cell_type": "markdown",
   "metadata": {
    "slideshow": {
     "slide_type": "fragment"
    }
   },
   "source": [
    "On passe au cas général. $$\\def \\bx{{\\bf x}}$$\n",
    "Les données sont de la forme $(\\bx^i,y^i)$ mais les $\\bx^i$ sont des vecteurs de dimension $d$\n",
    "$$\\bx^i = (x^i_1,x^i_2,\\cdots,x^i_d) \\in \\mathbb{R}^d$$"
   ]
  },
  {
   "cell_type": "markdown",
   "metadata": {
    "slideshow": {
     "slide_type": "fragment"
    }
   },
   "source": [
    "On cherche à approximer une fonction inconnue $f$ telle que\n",
    "$$y_i = f(x^i_1,x^i_2,\\cdots,x^i_d)$$\n",
    "par une fonction multilinéaire (affine) de la forme\n",
    "$$g(\\bx) = a_0 + a_1 x_1 + a_2 x_2 + \\dots a_d x_d$$"
   ]
  },
  {
   "cell_type": "markdown",
   "metadata": {
    "slideshow": {
     "slide_type": "subslide"
    }
   },
   "source": [
    "### exemple : jeu de données *Advertising*\n",
    "Données commerciales sur les ventes d'un produit dans différents points de vente en fonction du budget dépensé en publicité dans trois medias différents."
   ]
  },
  {
   "cell_type": "code",
   "execution_count": 131,
   "metadata": {
    "slideshow": {
     "slide_type": "fragment"
    }
   },
   "outputs": [
    {
     "data": {
      "text/html": [
       "<div>\n",
       "<style scoped>\n",
       "    .dataframe tbody tr th:only-of-type {\n",
       "        vertical-align: middle;\n",
       "    }\n",
       "\n",
       "    .dataframe tbody tr th {\n",
       "        vertical-align: top;\n",
       "    }\n",
       "\n",
       "    .dataframe thead th {\n",
       "        text-align: right;\n",
       "    }\n",
       "</style>\n",
       "<table border=\"1\" class=\"dataframe\">\n",
       "  <thead>\n",
       "    <tr style=\"text-align: right;\">\n",
       "      <th></th>\n",
       "      <th>TV</th>\n",
       "      <th>Radio</th>\n",
       "      <th>Newspaper</th>\n",
       "      <th>Sales</th>\n",
       "    </tr>\n",
       "  </thead>\n",
       "  <tbody>\n",
       "    <tr>\n",
       "      <th>0</th>\n",
       "      <td>230.1</td>\n",
       "      <td>37.8</td>\n",
       "      <td>69.2</td>\n",
       "      <td>22.1</td>\n",
       "    </tr>\n",
       "    <tr>\n",
       "      <th>1</th>\n",
       "      <td>44.5</td>\n",
       "      <td>39.3</td>\n",
       "      <td>45.1</td>\n",
       "      <td>10.4</td>\n",
       "    </tr>\n",
       "    <tr>\n",
       "      <th>2</th>\n",
       "      <td>17.2</td>\n",
       "      <td>45.9</td>\n",
       "      <td>69.3</td>\n",
       "      <td>12.0</td>\n",
       "    </tr>\n",
       "    <tr>\n",
       "      <th>3</th>\n",
       "      <td>151.5</td>\n",
       "      <td>41.3</td>\n",
       "      <td>58.5</td>\n",
       "      <td>16.5</td>\n",
       "    </tr>\n",
       "    <tr>\n",
       "      <th>4</th>\n",
       "      <td>180.8</td>\n",
       "      <td>10.8</td>\n",
       "      <td>58.4</td>\n",
       "      <td>17.9</td>\n",
       "    </tr>\n",
       "    <tr>\n",
       "      <th>...</th>\n",
       "      <td>...</td>\n",
       "      <td>...</td>\n",
       "      <td>...</td>\n",
       "      <td>...</td>\n",
       "    </tr>\n",
       "    <tr>\n",
       "      <th>195</th>\n",
       "      <td>38.2</td>\n",
       "      <td>3.7</td>\n",
       "      <td>13.8</td>\n",
       "      <td>7.6</td>\n",
       "    </tr>\n",
       "    <tr>\n",
       "      <th>196</th>\n",
       "      <td>94.2</td>\n",
       "      <td>4.9</td>\n",
       "      <td>8.1</td>\n",
       "      <td>14.0</td>\n",
       "    </tr>\n",
       "    <tr>\n",
       "      <th>197</th>\n",
       "      <td>177.0</td>\n",
       "      <td>9.3</td>\n",
       "      <td>6.4</td>\n",
       "      <td>14.8</td>\n",
       "    </tr>\n",
       "    <tr>\n",
       "      <th>198</th>\n",
       "      <td>283.6</td>\n",
       "      <td>42.0</td>\n",
       "      <td>66.2</td>\n",
       "      <td>25.5</td>\n",
       "    </tr>\n",
       "    <tr>\n",
       "      <th>199</th>\n",
       "      <td>232.1</td>\n",
       "      <td>8.6</td>\n",
       "      <td>8.7</td>\n",
       "      <td>18.4</td>\n",
       "    </tr>\n",
       "  </tbody>\n",
       "</table>\n",
       "<p>200 rows × 4 columns</p>\n",
       "</div>"
      ],
      "text/plain": [
       "        TV  Radio  Newspaper  Sales\n",
       "0    230.1   37.8       69.2   22.1\n",
       "1     44.5   39.3       45.1   10.4\n",
       "2     17.2   45.9       69.3   12.0\n",
       "3    151.5   41.3       58.5   16.5\n",
       "4    180.8   10.8       58.4   17.9\n",
       "..     ...    ...        ...    ...\n",
       "195   38.2    3.7       13.8    7.6\n",
       "196   94.2    4.9        8.1   14.0\n",
       "197  177.0    9.3        6.4   14.8\n",
       "198  283.6   42.0       66.2   25.5\n",
       "199  232.1    8.6        8.7   18.4\n",
       "\n",
       "[200 rows x 4 columns]"
      ]
     },
     "execution_count": 131,
     "metadata": {},
     "output_type": "execute_result"
    }
   ],
   "source": [
    "import sklearn as sk\n",
    "import pandas as pd\n",
    "data_adv = pd.read_csv(\"datasets/advertising.csv\")\n",
    "data_adv"
   ]
  },
  {
   "cell_type": "markdown",
   "metadata": {
    "slideshow": {
     "slide_type": "subslide"
    }
   },
   "source": [
    "Peut-on prédire les ventes en fonction de la publicité dépensée ? Quel est l'investissement le plus rentable ?\n",
    "On va chercher à écrire une relation\n",
    "$$ S \\approx a_0 + a_1 TV + a_2 Rad + a_3 News $$"
   ]
  },
  {
   "cell_type": "markdown",
   "metadata": {
    "slideshow": {
     "slide_type": "subslide"
    }
   },
   "source": [
    "### Résolution\n",
    "Pour l'analyse il est plus facile d'ajouter une $(d+1)$-ième coordonnée à l'indice 0 aux vecteurs $x^i$, qui vaut toujours $1$, de sorte qu'on puisse écrire $g(x)$ sous la forme\n",
    "$$g(\\bx) = \\sum_{j=0}^d a_j x_j$$ \n",
    "et se ramener à la recherche d'une fonction sans terme constant."
   ]
  },
  {
   "cell_type": "markdown",
   "metadata": {
    "slideshow": {
     "slide_type": "fragment"
    }
   },
   "source": [
    "L'erreur quadratique moyenne est donnée par\n",
    "$$\n",
    "\\begin{align}\n",
    "EQM &= \\frac1{m} \\sum_{i=1}^m (\\sum_{j=0}^d a_j x^i_j - y^i)^2 \\\\\n",
    "    &= \\frac1{m} \\sum_{i=1}^m (g(\\x^i) - y^i)^2\n",
    "\\end{align}$$"
   ]
  },
  {
   "cell_type": "markdown",
   "metadata": {
    "slideshow": {
     "slide_type": "subslide"
    }
   },
   "source": [
    "La fonction EQM admet un minimum par convexité, une condition nécessaire est que le gradient soit nul\n",
    "$$\\forall 0 \\leq k \\leq m, \\frac{\\partial}{\\partial a_k} \\left( \\sum_{i=1}^m (\\sum_{j=0}^d a_j x^i_j - y^i)^2 \\right) = 0$$"
   ]
  },
  {
   "cell_type": "markdown",
   "metadata": {
    "slideshow": {
     "slide_type": "fragment"
    }
   },
   "source": [
    "soit\n",
    "$$\\forall 0 \\leq k \\leq m, \\sum_{i=1}^m x_k^i \\left(\\sum_{j=0}^d a_j x^i_j - y^i \\right) = 0$$"
   ]
  },
  {
   "cell_type": "markdown",
   "metadata": {
    "slideshow": {
     "slide_type": "fragment"
    }
   },
   "source": [
    "$$\\forall 0 \\leq k \\leq m, \\sum_{i=1}^m \\sum_{j=0}^d x_k^i  x^i_j a_j = \\sum_{i=1}^m x_k^i y^i $$"
   ]
  },
  {
   "cell_type": "markdown",
   "metadata": {
    "slideshow": {
     "slide_type": "subslide"
    }
   },
   "source": [
    "On introduit les notations : $$\\def\\ba{{\\bf a}} \\def\\by{{\\bf y}}$$\n",
    "- matrice $X$ avec $X_{i,j}=x^i_j$ pour $1 \\leq i \\leq m$ et $0 \\leq j \\leq d$. La matrice $X$ contient donc chacun des vecteurs de données sur ses lignes et les colonnes correspondent aux caractéristiques des données. \n",
    "- vecteur $\\ba$ avec $\\ba_j = a_j$ pour $0 \\leq j \\leq d$\n",
    "- vecteur $\\by$ avec $\\by_i = y^i$ pour $1 \\leq i \\leq m$\n"
   ]
  },
  {
   "cell_type": "markdown",
   "metadata": {
    "slideshow": {
     "slide_type": "subslide"
    }
   },
   "source": [
    "à $k$ fixé \n",
    "$$\\sum_{i=1}^m \\sum_{j=0}^d x_k^i  x^i_j a_j = \\sum_{i=1}^m x_k^i y^i $$\n",
    "s'écrit\n",
    "$$(X^T X \\cdot \\a)_k = (X^T \\cdot \\y)_k$$  \n",
    "et l'ensemble de ces relations est donc\n",
    "$$\\boxed{X^T X \\cdot \\a = X^T \\cdot \\y}$$\n",
    "dimension \n",
    "$$(d+1,m)(m,d+1)(d+1,1) = (d+1,m)(m,1) = (d+1,1)$$\n",
    "(vecteur colonne)  \n",
    "Cette équation connue sous le nom d'**equation normale**."
   ]
  },
  {
   "cell_type": "markdown",
   "metadata": {
    "slideshow": {
     "slide_type": "subslide"
    }
   },
   "source": [
    "La matrice $X^T X$ est une matrice carrée $(d+1) \\times (d+1)$. En pratique elle est souvent inversible et on trouve une solution unique à cette équation qui est\n",
    "$$ \\boxed{\\a = (X^T X \\cdot )^{-1} X^T \\cdot \\y}$$"
   ]
  },
  {
   "cell_type": "markdown",
   "metadata": {
    "slideshow": {
     "slide_type": "fragment"
    }
   },
   "source": [
    "Si $X^T X$ n'est pas inversible on peut montrer qu'il existe toujours une solution à cette équation, mais elle n'est pas forcément unique (dans ce cas il existe plusieurs vecteurs $\\ba$ donnant le minimum de l'EQM -- c'est un signe que les caractéristiques des données sont redondantes)."
   ]
  },
  {
   "cell_type": "markdown",
   "metadata": {
    "slideshow": {
     "slide_type": "subslide"
    }
   },
   "source": [
    "### Retour sur l'exemple *Advertising*"
   ]
  },
  {
   "cell_type": "code",
   "execution_count": 160,
   "metadata": {
    "slideshow": {
     "slide_type": "fragment"
    }
   },
   "outputs": [
    {
     "name": "stdout",
     "output_type": "stream",
     "text": [
      "[[230.1  37.8  69.2]\n",
      " [ 44.5  39.3  45.1]\n",
      " [ 17.2  45.9  69.3]\n",
      " [151.5  41.3  58.5]\n",
      " [180.8  10.8  58.4]] [22.1 10.4 12.  16.5 17.9]\n",
      "(200, 3) (200,)\n"
     ]
    }
   ],
   "source": [
    "X = data_adv.to_numpy()[:,0:3] ; y = data_adv.to_numpy()[:,3]\n",
    "print(X[:5], Y[:5])\n",
    "print(X.shape,Y.shape)"
   ]
  },
  {
   "cell_type": "markdown",
   "metadata": {
    "slideshow": {
     "slide_type": "subslide"
    }
   },
   "source": [
    "On ajoute une colonne de 1"
   ]
  },
  {
   "cell_type": "code",
   "execution_count": 161,
   "metadata": {
    "slideshow": {
     "slide_type": "fragment"
    }
   },
   "outputs": [
    {
     "name": "stdout",
     "output_type": "stream",
     "text": [
      "[[  1.  230.1  37.8  69.2]\n",
      " [  1.   44.5  39.3  45.1]\n",
      " [  1.   17.2  45.9  69.3]\n",
      " [  1.  151.5  41.3  58.5]\n",
      " [  1.  180.8  10.8  58.4]]\n",
      "(200, 4)\n"
     ]
    }
   ],
   "source": [
    "X = np.concatenate( (np.ones((200,1)), X), axis=1)\n",
    "print(X[:5])\n",
    "print(X.shape)"
   ]
  },
  {
   "cell_type": "markdown",
   "metadata": {
    "slideshow": {
     "slide_type": "subslide"
    }
   },
   "source": [
    "$$ \\boxed{\\a = (X^T X \\cdot )^{-1} X^T \\cdot \\y}$$"
   ]
  },
  {
   "cell_type": "code",
   "execution_count": 128,
   "metadata": {
    "slideshow": {
     "slide_type": "fragment"
    }
   },
   "outputs": [
    {
     "name": "stdout",
     "output_type": "stream",
     "text": [
      "[4.62512408e+00 5.44457803e-02 1.07001228e-01 3.35657922e-04]\n"
     ]
    }
   ],
   "source": [
    "a = np.linalg.inv(X.T.dot(X)).dot(X.T).dot(y)\n",
    "print(a)"
   ]
  },
  {
   "cell_type": "code",
   "execution_count": 139,
   "metadata": {
    "slideshow": {
     "slide_type": "fragment"
    }
   },
   "outputs": [
    {
     "name": "stdout",
     "output_type": "stream",
     "text": [
      "2.706006147627315 1.6449942697855562\n"
     ]
    }
   ],
   "source": [
    "erreur = X.dot(a) - y\n",
    "#erreur moyenne quadratique\n",
    "eqm_adv = (erreur**2).mean()\n",
    "print(eqm_adv, np.sqrt(eqm_adv))"
   ]
  },
  {
   "cell_type": "markdown",
   "metadata": {
    "slideshow": {
     "slide_type": "slide"
    }
   },
   "source": [
    "### Même exemple en utilisant la bibliothèque sklearn"
   ]
  },
  {
   "cell_type": "code",
   "execution_count": 146,
   "metadata": {
    "slideshow": {
     "slide_type": "fragment"
    }
   },
   "outputs": [],
   "source": [
    "import sklearn as sk\n",
    "from sklearn.linear_model import LinearRegression\n",
    "lin_reg = LinearRegression()"
   ]
  },
  {
   "cell_type": "code",
   "execution_count": 165,
   "metadata": {
    "slideshow": {
     "slide_type": "fragment"
    }
   },
   "outputs": [
    {
     "data": {
      "text/plain": [
       "LinearRegression()"
      ]
     },
     "execution_count": 165,
     "metadata": {},
     "output_type": "execute_result"
    }
   ],
   "source": [
    "X = data_adv.to_numpy()[:,0:3] #on elimine la colonne de zeros\n",
    "lin_reg.fit(X2,y)"
   ]
  },
  {
   "cell_type": "code",
   "execution_count": 166,
   "metadata": {
    "slideshow": {
     "slide_type": "fragment"
    }
   },
   "outputs": [
    {
     "data": {
      "text/plain": [
       "array([0.05444578, 0.10700123, 0.00033566])"
      ]
     },
     "execution_count": 166,
     "metadata": {},
     "output_type": "execute_result"
    }
   ],
   "source": [
    "lin_reg.coef_"
   ]
  },
  {
   "cell_type": "code",
   "execution_count": 167,
   "metadata": {
    "slideshow": {
     "slide_type": "fragment"
    }
   },
   "outputs": [
    {
     "data": {
      "text/plain": [
       "4.625124078808653"
      ]
     },
     "execution_count": 167,
     "metadata": {},
     "output_type": "execute_result"
    }
   ],
   "source": [
    "lin_reg.intercept_"
   ]
  },
  {
   "cell_type": "markdown",
   "metadata": {
    "slideshow": {
     "slide_type": "subslide"
    }
   },
   "source": [
    "Comparaison de valeurs prédites aux cibles/étiquettes données"
   ]
  },
  {
   "cell_type": "code",
   "execution_count": 168,
   "metadata": {
    "slideshow": {
     "slide_type": "fragment"
    }
   },
   "outputs": [
    {
     "name": "stdout",
     "output_type": "stream",
     "text": [
      "[21.22097209 11.26824775 10.49620897 17.31244651 15.64413685 10.35633677\n",
      " 11.2732847  13.27062458  5.31839603 15.78871013]\n",
      "[22.1 10.4 12.  16.5 17.9  7.2 11.8 13.2  4.8 15.6]\n"
     ]
    }
   ],
   "source": [
    "print(lin_reg.predict(X2)[:10])\n",
    "print(y[:10])"
   ]
  },
  {
   "cell_type": "code",
   "execution_count": 169,
   "metadata": {
    "slideshow": {
     "slide_type": "fragment"
    }
   },
   "outputs": [
    {
     "data": {
      "text/plain": [
       "2.706006147627315"
      ]
     },
     "execution_count": 169,
     "metadata": {},
     "output_type": "execute_result"
    }
   ],
   "source": [
    "from sklearn.metrics import mean_squared_error\n",
    "mean_squared_error(lin_reg.predict(X2),y)"
   ]
  }
 ],
 "metadata": {
  "celltoolbar": "Diaporama",
  "kernelspec": {
   "display_name": "Python 3",
   "language": "python",
   "name": "python3"
  },
  "language_info": {
   "codemirror_mode": {
    "name": "ipython",
    "version": 3
   },
   "file_extension": ".py",
   "mimetype": "text/x-python",
   "name": "python",
   "nbconvert_exporter": "python",
   "pygments_lexer": "ipython3",
   "version": "3.8.5"
  },
  "livereveal": {
   "theme": "sky"
  },
  "toc": {
   "base_numbering": 1,
   "nav_menu": {},
   "number_sections": true,
   "sideBar": true,
   "skip_h1_title": true,
   "title_cell": "Table of Contents",
   "title_sidebar": "Contents",
   "toc_cell": false,
   "toc_position": {},
   "toc_section_display": true,
   "toc_window_display": false
  }
 },
 "nbformat": 4,
 "nbformat_minor": 4
}
