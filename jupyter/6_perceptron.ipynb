{
 "cells": [
  {
   "cell_type": "markdown",
   "metadata": {},
   "source": [
    "macros latex\n",
    "$$ \n",
    "\\def\\R{{\\mathbb R}} \n",
    "\\def\\x{{\\bf x}}\n",
    "\\def\\y{{\\bf y}}\n",
    "\\def\\a{{\\bf a}}\n",
    "\\def\\w{{\\bf w}}\n",
    "$$"
   ]
  },
  {
   "cell_type": "code",
   "execution_count": 12,
   "metadata": {},
   "outputs": [],
   "source": [
    "import numpy as np\n",
    "from matplotlib import pyplot as plt\n",
    "from matplotlib.colors import ListedColormap"
   ]
  },
  {
   "cell_type": "markdown",
   "metadata": {
    "slideshow": {
     "slide_type": "slide"
    }
   },
   "source": [
    "# Perceptron : modèle et algorithme"
   ]
  },
  {
   "cell_type": "markdown",
   "metadata": {
    "slideshow": {
     "slide_type": "fragment"
    }
   },
   "source": [
    "## Le modèle"
   ]
  },
  {
   "cell_type": "markdown",
   "metadata": {
    "slideshow": {
     "slide_type": "fragment"
    }
   },
   "source": [
    "L'algorithme du Perceptron (Rosenblatt 1957) est un algorithme de *classification linéaire* qui est un modèle élémentaire de neurone.\n",
    "\n",
    "<img src=\"images/neurone_bio.png\" width=500 alt=\"neurone biologique\">\n"
   ]
  },
  {
   "cell_type": "markdown",
   "metadata": {
    "slideshow": {
     "slide_type": "subslide"
    }
   },
   "source": [
    "<img src=\"images/neurone_bio.png\" width=200 alt=\"neurone biologique\">\n",
    "<img src=\"images/neurone_art.png\" width=500 alt=\"neurone artificiel\">"
   ]
  },
  {
   "cell_type": "markdown",
   "metadata": {
    "slideshow": {
     "slide_type": "subslide"
    }
   },
   "source": [
    "Le perceptron est un modèle (et un algorithme) pour la classification. On a des données de la forme $(x^i,y^i)$ pour $i$ de 1 à $m$ où $y^i \\in \\{+1, -1\\} $ est l'image de $x^i \\in \\R^d$ par une fonction inconnue que l'on cherche à approximer.  \n",
    "Les données appartiennent donc à deux *classes* notées $+1$ et $-1$ et le perceptron doit apprendre à prédire cette classe $y^i$ en fonction de $x^i$."
   ]
  },
  {
   "cell_type": "markdown",
   "metadata": {},
   "source": [
    "Le modèle du perceptron, comme la régression linéaire, est *paramétrique*. Les *hypothèses* sont les fonctions\n",
    "$$h_\\w : \\R^d \\rightarrow \\{+1,-1\\}$$\n",
    "  \n",
    "  où $\\w$ est un *vecteur de poids* (paramètres) $\\w=(w_1,w_2,\\dots,w_d) \\in \\R^d$ et biais $b \\in \\R$\n",
    "\n",
    "  On prédit\n",
    "\n",
    "  $h(\\x) = 1$ si $\\sum_{i=1}^d w_i x_i + b \\geq 0$\n",
    "  \n",
    "  $h(\\x) = -1$ si $\\sum_{i=1}^d w_i x_i + b < 0$\n",
    "\n",
    "soit \n",
    "  $$h(\\x) = \\text{signe}(\\langle \\x,\\w \\rangle + b) $$\n",
    "\n",
    "\n"
   ]
  },
  {
   "cell_type": "markdown",
   "metadata": {},
   "source": [
    "<img src=\"images/percep1.png\" width=500 alt=\"separation plan par perceptron\">"
   ]
  },
  {
   "cell_type": "markdown",
   "metadata": {},
   "source": [
    "Comme dans le cas de la régression, on augmente la dimension des données avec une coordonnée $x^i_0 = 1$ et on pose $w_0 = b$ de sorte de se ramener à une expression linéaire :\n",
    "$$h(\\x) = \\text{signe}(\\sum_{i=1}^n w_i x_i + b) = \\text{signe}(\\sum_{i=0}^n w_i x_i ) $$\n"
   ]
  },
  {
   "cell_type": "markdown",
   "metadata": {},
   "source": [
    "On dit que l'échantillon ${\\cal D} = \\{ (x^i,y^i)_{1 \\leq i \\leq m}\\} $ est *linéairement séparable* s'il existe un hyperplan séparant les deux classes $1$ et $-1$, autrement dit s'il existe $\\w$ et $b$ tels que $g_\\w(x^i) = y^i$."
   ]
  },
  {
   "cell_type": "code",
   "execution_count": 6,
   "metadata": {},
   "outputs": [],
   "source": [
    "X0=np.array([[1,-1],[3,2],[1,3],[-1,1],[1,5],[-1,4],[-2,2]])\n",
    "Y0=np.array([-1,-1,-1,-1,1,1,1])\n",
    "\n",
    "def visualiser_points(X,Y):\n",
    "        \"\"\"représente les points de l'échantillon et leur classe en deux couleurs\n",
    "        \"\"\"\n",
    "        plt.scatter(x=X[Y == 1, 0], y=X[Y == 1, 1], c='green', marker='o', edgecolor='black')\n",
    "        plt.scatter(x=X[Y == -1, 0], y=X[Y == -1, 1], c='red', marker='o', edgecolor='black')\n",
    "        plt.show()"
   ]
  },
  {
   "cell_type": "code",
   "execution_count": 7,
   "metadata": {},
   "outputs": [
    {
     "data": {
      "image/png": "[encoded data removed]",
      "text/plain": [
       "<Figure size 432x288 with 1 Axes>"
      ]
     },
     "metadata": {
      "needs_background": "light"
     },
     "output_type": "display_data"
    }
   ],
   "source": [
    "visualiser_points(X0,Y0)"
   ]
  },
  {
   "cell_type": "markdown",
   "metadata": {},
   "source": [
    "*  initialiser $\\w = \\mathbf{0} = (0,0,\\dots,0)$\n",
    "*  Tant qu'il existe au moins un point $\\x^i$, $1 \\leq i \\leq m$\n",
    "  qui n'est pas classifié correctement i.e.\n",
    "  $$h_\\w(x_i) \\neq y_i$$ \n",
    "  * choisir un tel $\\x^i$ mal classifié\n",
    "  * mettre à jour\n",
    "  $$\\w \\leftarrow \\w + y^i \\cdot \\x^i$$\n"
   ]
  },
  {
   "cell_type": "markdown",
   "metadata": {},
   "source": [
    "\n",
    "  Si $\\x^i$ est mal classifié, $y^i \\neq h(\\x^i)$ soit $y^i \\cdot \\langle\n",
    "  \\x^i,\\w \\rangle < 0$\n",
    "\n",
    "  Le nouveau $\\w'= \\w + y^i \\cdot \\x^i$ est donc tel que\n",
    "\n",
    "\n",
    "  \\begin{align*}\n",
    "    h'(\\x^i) &= \\langle \\w',\\x^i \\rangle \\\\\n",
    "    &= \\langle \\w  + y^i \\cdot \\x^i ,\\x^i \\rangle \\\\\n",
    "    &= \\langle \\w,\\x^i  \\rangle + y^i \\langle \\x^i,\\x^i \\rangle  \\\\\n",
    "    &= h(\\x^i) + y^i \\cdot \\|\\x^i\\|^2   \\\\\n",
    "  \\end{align*} \n",
    "\n",
    "  va donc faire évoluer la classification de $\\x^i$ dans le sens souhaité\n",
    "\n",
    "  ex : si $y^i = 1$ et qu'on avait $h(\\x^i) <0$ (mauvaise classification)\n",
    "  on voit que $h(\\x^i)$ va augmenter\n"
   ]
  },
  {
   "cell_type": "markdown",
   "metadata": {},
   "source": [
    "  **Théorème** Si l'échantillon $(\\x^1,\\x^2,\\cdots,\\x^m)$ est linéairement séparable,\n",
    "    alors en un nombre fini d'étapes l'algorithme du perceptron va se terminer.  \n",
    "  \n",
    "  Le résultat final obtenu dépend de l'ordre dans lequel les points mal\n",
    "  classifiés   sont considérés."
   ]
  },
  {
   "cell_type": "code",
   "execution_count": 13,
   "metadata": {},
   "outputs": [],
   "source": [
    "class Perceptron:\n",
    "    \n",
    "    def __init__(self):\n",
    "        self.w = None #vecteur de poids, w[0] contient le biais\n",
    "        \n",
    "    def prediction(self,x):\n",
    "        \"\"\"une fois le perceptron entraîné, prédit la valeur sur un point\"\"\"\n",
    "        return 1 if (self.w[0] + np.dot(self.w[1:],x) >=0) else -1\n",
    "    \n",
    "    def entrainement(self, X, Y, nb_etapes = None, rapport = False):\n",
    "        \"\"\"X est un jeu de données d-dimensionnelles (np.arrays)\n",
    "        Y est l'ensemble des valeurs +1/-1 correspondantes\n",
    "        Y[i] est la classe de X[i]\n",
    "        L'algorithme du perceptron va tourner au maximum\n",
    "        sur le nombre d'étapes données jusqu'à convervence\"\"\"\n",
    "        \n",
    "        etape = 0 # compteur d'étapes\n",
    "        en_cours = True\n",
    "        \n",
    "        if nb_etapes == None:\n",
    "            nb_etapes = 10000 # sécurité\n",
    "\n",
    "        #initialisation des poids à 0\n",
    "        self.w = np.array([0]*(1+len(X[0])),dtype=float)\n",
    "            \n",
    "        while en_cours and etape < nb_etapes:\n",
    "            #recherche du premier point mal classifié\n",
    "            i = 0\n",
    "            while i< len(X) and self.prediction(X[i]) == Y[i]:\n",
    "                #le point est bien classé\n",
    "                i += 1\n",
    "            \n",
    "            if i==len(X):\n",
    "                #tous les points sont bien classifiés \n",
    "                en_cours = False\n",
    "                break\n",
    "            else:\n",
    "                #X[i] est mal classifié\n",
    "                \n",
    "                self.w[0] += Y[i]\n",
    "                self.w[1:] += Y[i]*X[i]\n",
    "            etape += 1\n",
    "        if rapport:\n",
    "            if etape < nb_etapes:\n",
    "                print(\"Nombre d'étapes pour convergence :\", etapes)\n",
    "            else:\n",
    "                print(\"pas de convergence\")\n",
    "\n",
    "    def visualisation(self,X,Y,label= \"\", transformation = None):\n",
    "        \"\"\"représente les points de l'échantillon et les\n",
    "        zones de décision suivant la valeur actuelle de w \"\"\"\n",
    "        \n",
    "        #on récupère les coordoonées minimales et maximales présentes\n",
    "        #dans X sur les axes x1 et x2\n",
    "        x1_min, x1_max = X[:, 0].min() - 1, X[:, 0].max() + 1\n",
    "        x2_min, x2_max = X[:, 1].min() - 1, X[:, 1].max() + 1\n",
    "        \n",
    "        #on crée une liste de points qui maillent tout le rectangle\n",
    "        #defini par les valeurs min et max obtenues\n",
    "        resolution = 0.1\n",
    "        abscisses = np.arange(x1_min, x1_max, resolution)\n",
    "        ordonnees = np.arange(x2_min, x2_max, resolution)\n",
    "        abs_grille, ord_grille = np.meshgrid(abscisses,ordonnees)\n",
    "        points = np.array([abs_grille.ravel(), ord_grille.ravel()]).T\n",
    "        if transformation:\n",
    "            points = transformation(points)\n",
    "        #valeurs de classification associées à chaque point\n",
    "        val_points = np.array([self.prediction(p) for p in points])\n",
    "        \n",
    "        #on place les points X de X dans le graphique\n",
    "        plt.xlim(abs_grille.min(), abs_grille.max())\n",
    "        plt.ylim(ord_grille.min(), ord_grille.max())\n",
    "        \n",
    "        cmap = ListedColormap(['tomato','lightgreen'])\n",
    "        plt.contourf(abs_grille,ord_grille, val_points.reshape(abs_grille.shape), \\\n",
    "                     cmap=cmap, alpha=1)\n",
    "        \n",
    "        plt.scatter(x=X[Y == 1, 0], y=X[Y == 1, 1],\n",
    "            alpha=1, c='green',\n",
    "            marker='o', edgecolor='black')\n",
    "        \n",
    "        plt.scatter(x=X[Y == -1, 0], y=X[Y == -1, 1],\n",
    "            alpha=1, c='red',\n",
    "            marker='o', edgecolor='black')\n",
    "        plt.title(\"vert=1, rouge=-1 \"+ label)\n",
    "        \n",
    "        plt.show()\n",
    "        \n",
    "    def taux_erreur(self, X_test, Y_test):\n",
    "        \"\"\"renvoie le taux entre 0 et 1 d'erreurs du perceptron\n",
    "        sur (X_test,Y_test)\"\"\"\n",
    "    \n",
    "        err = 0\n",
    "        for i in range(len(X_test)):\n",
    "            if self.prediction(X_test[i]) != Y_test[i]:\n",
    "                err += 1\n",
    "        return float(err)/len(X_test)  \n",
    "        \n",
    "    def meilleur_entrainement(self, X, Y, nb_etapes = 1000):\n",
    "        \"\"\"idem que entrainement mais garde en mémoire les diffents\n",
    "        w obtenus et garde au final celui qui a le taux d'erreur\n",
    "        le plus bas\"\"\"\n",
    "                \n",
    "        etape = 0 # compteur d'étapes\n",
    "        en_cours = True\n",
    "        \n",
    "\n",
    "        #initialisation des poids à 0\n",
    "        self.w = np.array([0]*(1+len(X[0])),dtype=float)\n",
    "        Ws = [np.copy(self.w)]  #va stocker tous les w successifs\n",
    "        erreurs = [self.taux_erreur(X, Y)]\n",
    "                    \n",
    "        while en_cours and etape < nb_etapes:\n",
    "            #recherche du premier point mal classifié\n",
    "            i = 0\n",
    "            while i< len(X) and self.prediction(X[i]) == Y[i]:\n",
    "                #le point est bien classé\n",
    "                i += 1\n",
    "            \n",
    "            if i==len(X):\n",
    "                #tous les points sont bien classifiés \n",
    "                en_cours = False\n",
    "                break\n",
    "            else:\n",
    "                #X[i] est mal classifié\n",
    "                \n",
    "                self.w[0] += Y[i]\n",
    "                self.w[1:] += Y[i]*X[i]\n",
    "                \n",
    "                Ws.append(np.copy(self.w))  #va stocker tous les w successifs\n",
    "                erreurs.append(self.taux_erreur(X, Y))\n",
    "            etape += 1\n",
    "        i = np.array(erreurs).argmin()\n",
    "        self.w = Ws[i]\n",
    "    \n",
    "    "
   ]
  },
  {
   "cell_type": "code",
   "execution_count": 16,
   "metadata": {},
   "outputs": [
    {
     "name": "stdout",
     "output_type": "stream",
     "text": [
      "[-8. -4.  3.]\n"
     ]
    }
   ],
   "source": [
    "p = Perceptron()\n",
    "p.entrainement(X0,Y0)\n",
    "print(p.w)"
   ]
  },
  {
   "cell_type": "code",
   "execution_count": 15,
   "metadata": {},
   "outputs": [
    {
     "data": {
      "image/png": "[encoded data removed]",
      "text/plain": [
       "<Figure size 432x288 with 1 Axes>"
      ]
     },
     "metadata": {
      "needs_background": "light"
     },
     "output_type": "display_data"
    }
   ],
   "source": [
    "p.visualisation(X0,Y0)"
   ]
  },
  {
   "cell_type": "markdown",
   "metadata": {},
   "source": [
    "On mesure le taux d'erreur du perceptron"
   ]
  }
 ],
 "metadata": {
  "celltoolbar": "Diaporama",
  "kernelspec": {
   "display_name": "Python 3",
   "language": "python",
   "name": "python3"
  },
  "language_info": {
   "codemirror_mode": {
    "name": "ipython",
    "version": 3
   },
   "file_extension": ".py",
   "mimetype": "text/x-python",
   "name": "python",
   "nbconvert_exporter": "python",
   "pygments_lexer": "ipython3",
   "version": "3.7.6"
  },
  "toc": {
   "base_numbering": 1,
   "nav_menu": {},
   "number_sections": true,
   "sideBar": true,
   "skip_h1_title": true,
   "title_cell": "Table of Contents",
   "title_sidebar": "Contents",
   "toc_cell": false,
   "toc_position": {},
   "toc_section_display": true,
   "toc_window_display": false
  }
 },
 "nbformat": 4,
 "nbformat_minor": 4
}
