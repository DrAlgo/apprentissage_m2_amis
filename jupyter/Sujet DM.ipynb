{
 "cells": [
  {
   "cell_type": "markdown",
   "metadata": {},
   "source": [
    "# Sujet : implémentation d'un réseau de neurones"
   ]
  },
  {
   "cell_type": "markdown",
   "metadata": {},
   "source": [
    "Ce sujet vous guide dans l'implémentation d'un réseau de neurones à partir de zéro. On utilisera uniquement la biliothèque numpy et en aucun cas un réseau de neurone tout fait, sauf éventuellement pour comparer les résultats.\n",
    "\n",
    "Je préfère si cela vous semble difficile, que vous n'implémentiez qu'un réseau avec 2 couches de 2 neurones, mais en faisant tout vous même dans les détails, plutôt que d'utiliser une bibliothèque ou un code tout fait, ce qui n'a pas d'intérêt pédagogique.\n",
    "\n",
    "Il est important que vous essayiez de respecter au maximum les notations du cours pour toutes les composantes du réseau de neurone : matrices W, b, z, a, etc.\n",
    "\n",
    "**Modalités:** Par groupes de 1 ou 2 étudiants, on rendra une feuille de calcul jupyter prête à l'emploi. Elle doit contenir du texte expliquant votre démarche ainsi que votre implémentation (si possible sans autres bibliothèques que celles utilisées dans le cours).\n",
    "\n",
    "**Conseil:** si cela vous paraît difficile, commencez par implémenter un réseau simple où les dimensions sont fixées, par exemple avec 2 en entrée, 1 couche cachée de 2 neurones avec activation relu, puis 1 neurone en sortie. Pensez à tout tester au fur et à mesure."
   ]
  },
  {
   "cell_type": "markdown",
   "metadata": {},
   "source": [
    "## réviser numpy\n",
    "Ce projet repose sur numpy donc il est important d'en connaître les bases. Allez voir dans les documentations pour bien être certains de ce que font les lignes suivantes. "
   ]
  },
  {
   "cell_type": "code",
   "execution_count": 2,
   "metadata": {},
   "outputs": [],
   "source": [
    "import numpy as np"
   ]
  },
  {
   "cell_type": "code",
   "execution_count": 4,
   "metadata": {},
   "outputs": [],
   "source": [
    "a = np.random.normal(size = (3,2))"
   ]
  },
  {
   "cell_type": "code",
   "execution_count": 5,
   "metadata": {},
   "outputs": [
    {
     "data": {
      "text/plain": [
       "(3, 2)"
      ]
     },
     "execution_count": 5,
     "metadata": {},
     "output_type": "execute_result"
    }
   ],
   "source": [
    "a.shape"
   ]
  },
  {
   "cell_type": "code",
   "execution_count": 12,
   "metadata": {},
   "outputs": [
    {
     "data": {
      "text/plain": [
       "array([[-1.57084827,  0.34263375, -1.37271195],\n",
       "       [ 0.60814683, -1.00302277, -1.13787347]])"
      ]
     },
     "execution_count": 12,
     "metadata": {},
     "output_type": "execute_result"
    }
   ],
   "source": [
    "b = a.T ; b"
   ]
  },
  {
   "cell_type": "code",
   "execution_count": 9,
   "metadata": {},
   "outputs": [
    {
     "data": {
      "text/plain": [
       "(2, 3)"
      ]
     },
     "execution_count": 9,
     "metadata": {},
     "output_type": "execute_result"
    }
   ],
   "source": [
    "b.shape"
   ]
  },
  {
   "cell_type": "code",
   "execution_count": 11,
   "metadata": {},
   "outputs": [
    {
     "data": {
      "text/plain": [
       "array([[-1.57084827],\n",
       "       [ 0.34263375],\n",
       "       [-1.37271195],\n",
       "       [ 0.60814683],\n",
       "       [-1.00302277],\n",
       "       [-1.13787347]])"
      ]
     },
     "execution_count": 11,
     "metadata": {},
     "output_type": "execute_result"
    }
   ],
   "source": [
    "b.reshape(6,1)"
   ]
  },
  {
   "cell_type": "code",
   "execution_count": 14,
   "metadata": {},
   "outputs": [
    {
     "data": {
      "text/plain": [
       "array([[2.46756428, 0.11739789, 1.88433808],\n",
       "       [0.36984256, 1.00605468, 1.29475604]])"
      ]
     },
     "execution_count": 14,
     "metadata": {},
     "output_type": "execute_result"
    }
   ],
   "source": [
    "b**2"
   ]
  },
  {
   "cell_type": "code",
   "execution_count": 27,
   "metadata": {},
   "outputs": [
    {
     "data": {
      "text/plain": [
       "array([[4.46930026, 0.26299666],\n",
       "       [0.26299666, 2.67065328]])"
      ]
     },
     "execution_count": 27,
     "metadata": {},
     "output_type": "execute_result"
    }
   ],
   "source": [
    "b.dot(a)"
   ]
  },
  {
   "cell_type": "code",
   "execution_count": 28,
   "metadata": {},
   "outputs": [],
   "source": [
    "f = lambda x: 1 if x>0 else -1"
   ]
  },
  {
   "cell_type": "code",
   "execution_count": 29,
   "metadata": {},
   "outputs": [
    {
     "ename": "ValueError",
     "evalue": "The truth value of an array with more than one element is ambiguous. Use a.any() or a.all()",
     "output_type": "error",
     "traceback": [
      "\u001b[0;31m---------------------------------------------------------------------------\u001b[0m",
      "\u001b[0;31mValueError\u001b[0m                                Traceback (most recent call last)",
      "\u001b[0;32m<ipython-input-29-fed8253e5613>\u001b[0m in \u001b[0;36m<module>\u001b[0;34m\u001b[0m\n\u001b[0;32m----> 1\u001b[0;31m \u001b[0mf\u001b[0m\u001b[0;34m(\u001b[0m\u001b[0mb\u001b[0m\u001b[0;34m)\u001b[0m  \u001b[0;31m#va faire une erreur\u001b[0m\u001b[0;34m\u001b[0m\u001b[0;34m\u001b[0m\u001b[0m\n\u001b[0m",
      "\u001b[0;32m<ipython-input-28-bac56c3ca060>\u001b[0m in \u001b[0;36m<lambda>\u001b[0;34m(x)\u001b[0m\n\u001b[0;32m----> 1\u001b[0;31m \u001b[0mf\u001b[0m \u001b[0;34m=\u001b[0m \u001b[0;32mlambda\u001b[0m \u001b[0mx\u001b[0m\u001b[0;34m:\u001b[0m \u001b[0;36m1\u001b[0m \u001b[0;32mif\u001b[0m \u001b[0mx\u001b[0m\u001b[0;34m>\u001b[0m\u001b[0;36m0\u001b[0m \u001b[0;32melse\u001b[0m \u001b[0;34m-\u001b[0m\u001b[0;36m1\u001b[0m\u001b[0;34m\u001b[0m\u001b[0;34m\u001b[0m\u001b[0m\n\u001b[0m",
      "\u001b[0;31mValueError\u001b[0m: The truth value of an array with more than one element is ambiguous. Use a.any() or a.all()"
     ]
    }
   ],
   "source": [
    "f(b)  #va faire une erreur"
   ]
  },
  {
   "cell_type": "code",
   "execution_count": 30,
   "metadata": {},
   "outputs": [],
   "source": [
    "f = np.vectorize(f)"
   ]
  },
  {
   "cell_type": "code",
   "execution_count": 31,
   "metadata": {},
   "outputs": [
    {
     "data": {
      "text/plain": [
       "array([[-1,  1, -1],\n",
       "       [ 1, -1, -1]])"
      ]
     },
     "execution_count": 31,
     "metadata": {},
     "output_type": "execute_result"
    }
   ],
   "source": [
    "f(b)"
   ]
  },
  {
   "cell_type": "code",
   "execution_count": null,
   "metadata": {},
   "outputs": [],
   "source": []
  },
  {
   "cell_type": "markdown",
   "metadata": {},
   "source": [
    "## définir une classe pour votre réseau"
   ]
  },
  {
   "cell_type": "markdown",
   "metadata": {},
   "source": [
    "Commencez par créer une classe initialisant un reseau de neurone. A vous de voir comment seront stockées les informations mais il est important de pouvoir stocker :\n",
    "- la taille de l'entrée\n",
    "- les matrices W, b de chaque couche\n",
    "- les fonctions d'activation f de chaque couche"
   ]
  },
  {
   "cell_type": "markdown",
   "metadata": {},
   "source": [
    "Il faut aussi pouvoir ajouter des couches. Par exemple (mais on peut faire autrement) on \n",
    "peut procéder créer des méthodes ou fonctions permettant de créer ainsi un R.N :"
   ]
  },
  {
   "cell_type": "markdown",
   "metadata": {},
   "source": [
    "**rn = ReseauNeurones(5)  # 5 taille de l'entree   \n",
    "rn.ajouter_couche(nb_neurones, f_activation, derivee_f_activation)**"
   ]
  },
  {
   "cell_type": "markdown",
   "metadata": {},
   "source": [
    "Dans l'exemple ci-dessus la fonction d'activation et sa derivee sont des fonctions (ou lambda fonctions) python correspondant à une fonction d'activation de R dans R, qui seront appliquées sur chaque composante (il faudra donc implémenter \"relu\" ou \"identité\" et leurs dérivées)"
   ]
  },
  {
   "cell_type": "markdown",
   "metadata": {},
   "source": [
    "On pourra initialiser tous les poids du reseau de Neurones avec une loi normale au moment où ils sont ajoutés."
   ]
  },
  {
   "cell_type": "markdown",
   "metadata": {},
   "source": [
    "## propagation avant\n",
    "Dans un premier temps, il faut implémenter la propagation avant et s'assurer que votre réseau de neurones donne les bonnes valeurs. Changez à la main la valeur des matrices W, b de sorte à créer un réseau de neurones avec les valeurs suivantes :\n",
    "- deux couches cachéés et une couche de sortie\n",
    "- entrée de dimension 2\n",
    "- couches suivantes :\n",
    "    - couche 1 : 3 neurones, activation relu\n",
    "    - couche 2 : 2 neurones, activation relu\n",
    "    - couche 3 : 1 neurone, activation identité\n",
    "- $W^{(1)} = [[0, -1],[ 2, -3],[ 1, -1]]$\n",
    "- $W^{(2)} = [[ 0,  1,  -1], [ 2, -2, 1]]$\n",
    "- $W^{(3)} = [[2, -1]]$\n",
    "- $b^{(1)} = [[0],[ 1],[-1]]$\n",
    "- $b^{(2)} = [[1],[-2]]$\n",
    "- $b^{(3)} = [[0]]$\n",
    " "
   ]
  },
  {
   "cell_type": "markdown",
   "metadata": {},
   "source": [
    "Sur l'entrée $x$ valant le vecteur $[[1],[-2]]$, faites les calculs et la main et comparer aux résultats obtenus afin de tester votre réseau (on peut corriger en classe le calcul à la main). Regardez bien\n",
    "les valeurs de toutes les activations, pre-activations, etc."
   ]
  },
  {
   "cell_type": "markdown",
   "metadata": {},
   "source": [
    "## propagation arrière : calcul du gradient"
   ]
  },
  {
   "cell_type": "markdown",
   "metadata": {},
   "source": [
    "Pour l'implémentation de la propagation arrière,  il faudra commencer par stocker d'une façon ou d'une autre la valeur des activations ou préactivations. Une possibilité (non obligatoire) est de donner le choix lors de la propagation avant de stocker ou non ces valeurs (dans des champs de la classe). Par exemple\n",
    "\n",
    "**rn.propagation_avant(vecteur_entree, stockage)      \n",
    "#stockage a une valeur booléenne**"
   ]
  },
  {
   "cell_type": "markdown",
   "metadata": {},
   "source": [
    "Reste à implémenter alors les formules du cours. Pour implémenter l'algorithme, il faut donner la dérivée de la fonction de coût. De même, on comparera au valeurs obtenus par calcul sur la même entrée que précédemment.\n",
    "\n",
    "**rn.retropropagation(nabla_C)**\n",
    "\n",
    "où **nabla_C** contient le vecteur gradient du coût considéré par rapport à l'activation de sortie (ce qui permet d'initialiser l'algorithme), pour une valeur cible $y$ choisie."
   ]
  },
  {
   "cell_type": "markdown",
   "metadata": {},
   "source": [
    "## Gradient stochastique\n",
    "\n",
    "Une fois ces fonctions écrites et testées (et validées !) écrivez une méthode pour effectuer un pas de gradient sur une donnée $(x,y)$ où $y$ est la valeur cible. Par exemple:\n",
    "\n",
    "**rn.pas_gradient(taux_apprentissage)**\n",
    "\n",
    "Ici **taux_apprentissage** est la valeur $\\alpha$ qui vient multiplier le gradient lors de la mise à jour. Bien entendu, cette méthode doit être appelée uniquement après avoir fait une propagation avant puis une rétropropagation (et stocké tous les gradients calculés).\n",
    "\n"
   ]
  },
  {
   "cell_type": "markdown",
   "metadata": {},
   "source": [
    "## Quelques tests\n",
    "\n",
    "Voici quelques tests à effectuer sur votre réseau. On se place dans un cadre d'approximation uniquement, il ne s'agit pas d'apprentisage supervisé donc on ne se souciera pas des problèmes de suradaptation. Attention, n'oubliez pas que tous ces algorithmes sont très sensibles aux hyperparamètres choisis (notamment le taux d'apprentissage).\n",
    "\n",
    "- Si vous ne mettez qu'un seul neurone, avec une activation linéaire et un coût quadratique, vous vous retrouverez dans le cadre de la régression linéaire. Vous pouvez donc facilement générer des données autour d'une droite bruitée et comparer vos résultats (erreur quadratique moyenne, par exemple) à ce qui est obtenu\n",
    "par une méthode de regression linéaire. Pensez à faire des graphiques.\n",
    "\n",
    "- Sur ces mêmes données essayez avec une couche cachée ou deux, pour voir si vous pouvez mieux approximer les données.\n",
    "\n",
    "- essayez maintenant d'approcher par un réseau multicouche des données quadratiques. A titre indicatif, avec juste une couche cachée de 3 neurones et activation relu, j'obtiens une approximation ressemblant à ceci :\n",
    "\n",
    "<img src=\"images/rn_quad.png\" width=300 alt=\"schéma à venir\">\n",
    "\n",
    "- classification : la fonction XOR peut être définie par :\n"
   ]
  },
  {
   "cell_type": "code",
   "execution_count": 38,
   "metadata": {},
   "outputs": [],
   "source": [
    "xor = lambda x : 1 if x[0][0]*x[1][0] >= 0 else -1"
   ]
  },
  {
   "cell_type": "markdown",
   "metadata": {},
   "source": [
    "En générant 1000 points aléatoires dans $[-5,5]^2$ et en effectuant une descente de gradient j'obtiens des zones de valeurs qui ressemblent à ceci\n",
    "<img src=\"images/rn_xor.png\" width=300 alt=\"schéma à venir\">"
   ]
  },
  {
   "cell_type": "markdown",
   "metadata": {},
   "source": [
    "Il faut plusieurs couches cachées pour obtenir ça. A vous de voir quel coût mettre en sortie.\n",
    "Dans le cas ci-dessus ce n'est pas parfait mais le taux d'erreur est de 2% environ"
   ]
  },
  {
   "cell_type": "markdown",
   "metadata": {},
   "source": [
    "Essayez de reproduire ces résultats ou mieux, améliorez-les."
   ]
  },
  {
   "cell_type": "markdown",
   "metadata": {},
   "source": [
    "## Et ensuite ?\n",
    "Si vous avez d'autres idées de jeux de données ou d'applications sur lesquels utiliser votre réseau, n'hésitez pas, mettez tout dans le document ! N'oubliez pas d'expliquer toujours votre démarche et à quoi correspondent les différents programmes, fonctions, graphiques, etc."
   ]
  },
  {
   "cell_type": "code",
   "execution_count": null,
   "metadata": {},
   "outputs": [],
   "source": []
  }
 ],
 "metadata": {
  "kernelspec": {
   "display_name": "Python 3",
   "language": "python",
   "name": "python3"
  },
  "language_info": {
   "codemirror_mode": {
    "name": "ipython",
    "version": 3
   },
   "file_extension": ".py",
   "mimetype": "text/x-python",
   "name": "python",
   "nbconvert_exporter": "python",
   "pygments_lexer": "ipython3",
   "version": "3.7.6"
  },
  "toc": {
   "base_numbering": 1,
   "nav_menu": {},
   "number_sections": true,
   "sideBar": true,
   "skip_h1_title": false,
   "title_cell": "Table of Contents",
   "title_sidebar": "Contents",
   "toc_cell": false,
   "toc_position": {},
   "toc_section_display": true,
   "toc_window_display": false
  }
 },
 "nbformat": 4,
 "nbformat_minor": 4
}
