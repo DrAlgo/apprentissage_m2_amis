{
 "cells": [
  {
   "cell_type": "code",
   "execution_count": 1,
   "metadata": {
    "slideshow": {
     "slide_type": "subslide"
    }
   },
   "outputs": [],
   "source": [
    "import numpy as np\n",
    "from matplotlib import pyplot as plt"
   ]
  },
  {
   "cell_type": "markdown",
   "metadata": {},
   "source": [
    "macros latex\n",
    "$$ \n",
    "\\def\\R{{\\mathbb R}} \n",
    "\\def\\x{{\\bf x}}\n",
    "\\def\\y{{\\bf y}}\n",
    "\\def\\a{{\\bf a}}\n",
    "$$"
   ]
  },
  {
   "cell_type": "markdown",
   "metadata": {
    "slideshow": {
     "slide_type": "slide"
    }
   },
   "source": [
    "# Regression linéaire"
   ]
  },
  {
   "cell_type": "markdown",
   "metadata": {
    "slideshow": {
     "slide_type": "fragment"
    }
   },
   "source": [
    "## introduction n°1 : approximation par une constante"
   ]
  },
  {
   "cell_type": "markdown",
   "metadata": {
    "slideshow": {
     "slide_type": "fragment"
    }
   },
   "source": [
    "On dispose d'un ensemble de relevés de $m$ mesures sur une grandeur $Y$ lors d'une expérience scientifique répétée plusieurs fois. Par exemple, la mesure du pH d'une solution   après une réaction chimique.\n",
    " $$ y^1=5.7, y^2=5.8, y^3=5.7, y^4=5.6, y^5=5.85, \\dots $$\n",
    "  Par quelle valeur constante $b$ **prédire** la véritable mesure ?"
   ]
  },
  {
   "cell_type": "code",
   "execution_count": 59,
   "metadata": {
    "slideshow": {
     "slide_type": "subslide"
    }
   },
   "outputs": [],
   "source": [
    "Y = np.array([5.7, 5.8, 5.7, 5.6, 5.85, 5.91, 5.73])"
   ]
  },
  {
   "cell_type": "code",
   "execution_count": 3,
   "metadata": {
    "slideshow": {
     "slide_type": "fragment"
    }
   },
   "outputs": [
    {
     "data": {
      "image/png": "[encoded data removed]",
      "text/plain": [
       "<Figure size 432x288 with 1 Axes>"
      ]
     },
     "metadata": {
      "needs_background": "light"
     },
     "output_type": "display_data"
    }
   ],
   "source": [
    "plt.ylim(5,6.5) ; plt.xlabel('i') ; plt.ylabel('yi')\n",
    "plt.plot(list(range(1,1+len(Y))),Y,'o')\n",
    "plt.show()"
   ]
  },
  {
   "cell_type": "markdown",
   "metadata": {
    "slideshow": {
     "slide_type": "subslide"
    }
   },
   "source": [
    "On mesure l'erreur d'une prédiction $b$ entre la mesure prédite et les mesures observées par l'**erreur quadratique moyenne**\n",
    "$$\\text{EQM}(b) = \\frac1{m} \\sum_{i=1}^m (b-y^i)^2$$"
   ]
  },
  {
   "cell_type": "markdown",
   "metadata": {
    "slideshow": {
     "slide_type": "subslide"
    }
   },
   "source": [
    "Représentation de l'EQM en fonction de $b$"
   ]
  },
  {
   "cell_type": "code",
   "execution_count": 4,
   "metadata": {
    "slideshow": {
     "slide_type": "fragment"
    }
   },
   "outputs": [],
   "source": [
    "b = 5\n",
    "m = len(Y)\n",
    "EQM = lambda b: sum([(b-yi)**2 for yi in Y])"
   ]
  },
  {
   "cell_type": "code",
   "execution_count": 5,
   "metadata": {
    "slideshow": {
     "slide_type": "fragment"
    }
   },
   "outputs": [
    {
     "data": {
      "image/png": "[encoded data removed]",
      "text/plain": [
       "<Figure size 432x288 with 1 Axes>"
      ]
     },
     "metadata": {
      "needs_background": "light"
     },
     "output_type": "display_data"
    }
   ],
   "source": [
    "X = np.arange(3,7,0.01)\n",
    "Z = EQM(X)\n",
    "plt.plot(X,Z,'r') ; plt.show()"
   ]
  },
  {
   "cell_type": "markdown",
   "metadata": {
    "slideshow": {
     "slide_type": "subslide"
    }
   },
   "source": [
    "L'EQM est une fonction strictement convexe de $b$, dont le minimum peut être déterminé par l'annulation de la dérivée"
   ]
  },
  {
   "cell_type": "markdown",
   "metadata": {
    "slideshow": {
     "slide_type": "fragment"
    }
   },
   "source": [
    "$$ \\frac{d}{db}( \\frac1{m} \\sum_{i=1}^m (b-y^i)^2 ) = 0$$\n",
    "$$\\frac1{m} \\sum_{i=1}^m 2(b - y^i ) = 0 $$\n",
    "$$ 2b - 2 \\frac1{m} \\sum_{i=1}^m y^i  = 0$$\n",
    "$$ b =  \\frac1{m} \\sum_{i=1}^m y^i $$\n",
    "\n",
    "\n"
   ]
  },
  {
   "cell_type": "markdown",
   "metadata": {
    "slideshow": {
     "slide_type": "subslide"
    }
   },
   "source": [
    "La moyenne arithmétique $$\\bar{y} = \\frac1{m} \\sum_{i=1}^m y^i $$ minimise donc l'erreur quadratique moyenne.  \n",
    "Parmi toutes les prédictions constantes possibles, celle qui approche le mieux au sens de l'EQM les données est la moyenne arithmétique."
   ]
  },
  {
   "cell_type": "markdown",
   "metadata": {
    "slideshow": {
     "slide_type": "slide"
    }
   },
   "source": [
    "## Approximation par une fonction linéaire"
   ]
  },
  {
   "cell_type": "markdown",
   "metadata": {
    "slideshow": {
     "slide_type": "fragment"
    }
   },
   "source": [
    "On a cette fois ci des données de la forme $(x^i,y^i)$ pour $i$ de 1 à $m$ où $y^i$ est l'image de $x^i$ par une fonction inconnue que l'on cherche à approximer. On suppose que les points sont situés presque alignés sur une droite passant par l'origine, et on cherche donc une fonction de la forme $g(x) = ax$ pour l'approximation."
   ]
  },
  {
   "cell_type": "markdown",
   "metadata": {
    "slideshow": {
     "slide_type": "subslide"
    }
   },
   "source": [
    "exemple :"
   ]
  },
  {
   "cell_type": "code",
   "execution_count": 6,
   "metadata": {
    "slideshow": {
     "slide_type": "fragment"
    }
   },
   "outputs": [
    {
     "data": {
      "image/png": "[encoded data removed]",
      "text/plain": [
       "<Figure size 432x288 with 1 Axes>"
      ]
     },
     "metadata": {
      "needs_background": "light"
     },
     "output_type": "display_data"
    }
   ],
   "source": [
    "X = np.array([0.5, 1.2, 1.4, 2.5, 4, 4.2])\n",
    "Y = np.array([1.1 ,  2.41,  3.26,  6.1  ,  9.92 , 10.2])\n",
    "plt.plot(X,Y,'o') ; plt.show()"
   ]
  },
  {
   "cell_type": "markdown",
   "metadata": {
    "slideshow": {
     "slide_type": "subslide"
    }
   },
   "source": [
    "On mesure de nouveau la qualité de l'approximation par l'erreur quadratique moyenne :\n",
    "$$EQM = \\frac1{m} \\sum_{i=1}^m (a x^i - y^i)^2$$"
   ]
  },
  {
   "cell_type": "code",
   "execution_count": 7,
   "metadata": {
    "slideshow": {
     "slide_type": "fragment"
    }
   },
   "outputs": [
    {
     "data": {
      "image/png": "[encoded data removed]",
      "text/plain": [
       "<Figure size 432x288 with 1 Axes>"
      ]
     },
     "metadata": {
      "needs_background": "light"
     },
     "output_type": "display_data"
    }
   ],
   "source": [
    "EMQ2 = lambda a: ((a*X-Y)**2).sum()\n",
    "A = np.arange(0,7,0.01)\n",
    "plt.plot(A,[EMQ2(a) for a in A],'r') ; plt.show()"
   ]
  },
  {
   "cell_type": "markdown",
   "metadata": {
    "slideshow": {
     "slide_type": "subslide"
    }
   },
   "source": [
    "L'EMQ est minimale quand sa dérivée s'annule :\n",
    "$$ \\frac{d}{da}( \\frac1{m} \\sum_{i=1}^m (ax^i-y^i)^2 ) = 0$$\n",
    "$$\\frac1{m} \\sum_{i=1}^m 2x^i(ax^i - y^i ) = 0 $$\n",
    "$$ \\frac2{m} \\sum_{i=1}^m a (x^i)^2 - \\frac2{m} \\sum_{i=1}^m x^i y^i  = 0$$\n",
    "$$ \\boxed{a_\\min =  \\frac{\\frac1{m} \\sum_{i=1}^m x^i y^i}{\\frac1{m} \\sum_{i=1}^m (x^i)^2}} $$\n",
    "\n"
   ]
  },
  {
   "cell_type": "code",
   "execution_count": 8,
   "metadata": {
    "slideshow": {
     "slide_type": "fragment"
    }
   },
   "outputs": [
    {
     "data": {
      "text/plain": [
       "2.4293982544786403"
      ]
     },
     "execution_count": 8,
     "metadata": {},
     "output_type": "execute_result"
    }
   ],
   "source": [
    "amin = sum(X*Y) / sum(X*X) ; amin"
   ]
  },
  {
   "cell_type": "markdown",
   "metadata": {
    "slideshow": {
     "slide_type": "subslide"
    }
   },
   "source": [
    "Vérification expérimentale de la formule obtenue"
   ]
  },
  {
   "cell_type": "code",
   "execution_count": 9,
   "metadata": {
    "slideshow": {
     "slide_type": "fragment"
    }
   },
   "outputs": [
    {
     "data": {
      "image/png": "[encoded data removed]",
      "text/plain": [
       "<Figure size 432x288 with 1 Axes>"
      ]
     },
     "metadata": {
      "needs_background": "light"
     },
     "output_type": "display_data"
    }
   ],
   "source": [
    "A = np.arange(amin-0.5,amin+0.5,0.01)\n",
    "plt.plot(A, [EMQ2(a) for a in A],'r') ; plt.plot(amin,EMQ2(amin),'o')\n",
    "plt.show()"
   ]
  },
  {
   "cell_type": "markdown",
   "metadata": {
    "slideshow": {
     "slide_type": "subslide"
    }
   },
   "source": [
    "Droite de régression *linéaire* (non affine) obtenue"
   ]
  },
  {
   "cell_type": "code",
   "execution_count": 10,
   "metadata": {
    "slideshow": {
     "slide_type": "fragment"
    }
   },
   "outputs": [
    {
     "data": {
      "image/png": "[encoded data removed]",
      "text/plain": [
       "<Figure size 432x288 with 1 Axes>"
      ]
     },
     "metadata": {
      "needs_background": "light"
     },
     "output_type": "display_data"
    }
   ],
   "source": [
    "dr = lambda x:amin*x\n",
    "X2 = np.arange(0,5,0.01)\n",
    "plt.plot(X,Y,'o',X2,dr(X2),'k') ; plt.show()"
   ]
  },
  {
   "cell_type": "markdown",
   "metadata": {
    "slideshow": {
     "slide_type": "slide"
    }
   },
   "source": [
    "## Regression linéaire simple\n",
    "C'est le terme utilisé pour la regression linéaire en dimension 1. Attention on emploie le terme linéaire mais il s'agit en fait d'une regression affine en dimension 1 (qui revient à une reg. linéaire en dim 2, voir plus tard)."
   ]
  },
  {
   "cell_type": "markdown",
   "metadata": {
    "slideshow": {
     "slide_type": "fragment"
    }
   },
   "source": [
    "### Le problème\n",
    "On a toujours des couples de données de dimension 1, sous la forme $(x^i,y^i)$ pour $1 \\leq i \\leq m$, mais on cherche maintenant une approximation de ces données par une droite qui ne passe pas forcément par l'origine. Plus précisément, on cherche à approximer la fonction inconnue $f$ telle que $f(x^i)=y^i$ par une fonction $g$ de la forme $g(x) = ax+b$."
   ]
  },
  {
   "cell_type": "code",
   "execution_count": 11,
   "metadata": {
    "slideshow": {
     "slide_type": "subslide"
    }
   },
   "outputs": [
    {
     "data": {
      "image/png": "[encoded data removed]",
      "text/plain": [
       "<Figure size 432x288 with 1 Axes>"
      ]
     },
     "metadata": {
      "needs_background": "light"
     },
     "output_type": "display_data"
    }
   ],
   "source": [
    "X = np.array([0.5, 1.2, 1.4, 2.5, 3.1, 4, 4.2, 2.1, 3.7])\n",
    "Y = np.array([ 9.5, 13.4, 14.7, 20.4, 23.3, 28 , 29.51, 18.1, 26.71])\n",
    "plt.ylim(0,30)\n",
    "plt.plot(X,Y,'o') ; plt.show()"
   ]
  },
  {
   "cell_type": "markdown",
   "metadata": {
    "slideshow": {
     "slide_type": "fragment"
    }
   },
   "source": [
    "On va chercher les paramètres $a$ et $b$ qui minimisent l'erreur quadratique moyenne :\n",
    "$$ \\boxed{EQM = \\frac1{m} \\sum_{i=1}^m (a x^i  + b - y^i)^2}$$\n",
    "\n",
    "note : ceci revient à minimiser la distance entre les vecteur $a {\\bf x}+b \\mathbb{1} $ et \n",
    "$y$ au sens de la norme 2."
   ]
  },
  {
   "cell_type": "code",
   "execution_count": 12,
   "metadata": {
    "slideshow": {
     "slide_type": "subslide"
    }
   },
   "outputs": [],
   "source": [
    "a1 = np.arange(3,7,0.05)\n",
    "b1 = np.arange(5,8,0.05)\n",
    "A, B = np.meshgrid(a1,b1)"
   ]
  },
  {
   "cell_type": "code",
   "execution_count": 13,
   "metadata": {},
   "outputs": [
    {
     "data": {
      "image/png": "[encoded data removed]",
      "text/plain": [
       "<Figure size 576x576 with 2 Axes>"
      ]
     },
     "metadata": {
      "needs_background": "light"
     },
     "output_type": "display_data"
    }
   ],
   "source": [
    "EQN3 = lambda a,b: sum([(a*X[i]+b-Y[i])**2 for i in range(len(X))])\n",
    "Z = EQN3(A,B) ; levels = [0.0, 1.0, 2.0, 3.0,]\n",
    "plt.figure(figsize=(8,8))\n",
    "cp = plt.contourf(A, B, Z, levels)\n",
    "plt.colorbar(cp) ; plt.show()"
   ]
  },
  {
   "cell_type": "markdown",
   "metadata": {
    "slideshow": {
     "slide_type": "subslide"
    }
   },
   "source": [
    "### Résolution\n",
    "$$ \\boxed{EQM = \\frac1{m} \\sum_{i=1}^m (a x^i  + b - y^i)^2}$$\n",
    "EQM est maintenant une fonction quadratique convexe de deux variables $a$ et $b$. Cette fonction admet un minimum où son gradient $\\nabla_{EQM}$ s'annule, soit\n",
    "$$ \\frac{\\partial EQM(a,b)}{\\partial a} = \\frac{\\partial}{\\partial a}( \\frac1{m} \\sum_{i=1}^m (ax^i+b-y^i)^2 ) = 0 $$\n",
    "$$\\text{ et }  \\frac{\\partial EQM(a,b)}{\\partial b}=\\frac{\\partial}{\\partial b}( \\frac1{m} \\sum_{i=1}^m (ax^i+b-y^i)^2 ) = 0$$"
   ]
  },
  {
   "cell_type": "markdown",
   "metadata": {
    "slideshow": {
     "slide_type": "subslide"
    }
   },
   "source": [
    "$$\n",
    "\\begin{align}\n",
    "\\begin{cases}\n",
    "\\frac{\\partial}{\\partial a}( \\frac1{m} \\sum_{i=1}^m (ax^i+b-y^i)^2 ) = 0\\\\\n",
    " \\frac{\\partial}{\\partial b}( \\frac1{m} \\sum_{i=1}^m (ax^i+b-y^i)^2 ) = 0\\\\\n",
    "\\end{cases}\n",
    "\\end{align}\n",
    "$$\n",
    "\n",
    "$$\n",
    "\\begin{align}\n",
    "\\begin{cases}\n",
    " \\frac1{m} \\sum_{i=1}^m 2x^i(ax^i+b-y^i) = 0\\\\\n",
    " \\frac1{m} \\sum_{i=1}^m 2(ax^i+b-y^i) = 0\\\\\n",
    "\\end{cases}\n",
    "\\end{align}\n",
    "$$"
   ]
  },
  {
   "cell_type": "markdown",
   "metadata": {
    "slideshow": {
     "slide_type": "fragment"
    }
   },
   "source": [
    "(on simplifie par 2)\n",
    "$$\n",
    "\\begin{align}\n",
    "\\begin{cases}\n",
    " a \\frac1{m} \\sum_{i=1}^m (x^i)^2 + b \\frac1{m} \\sum_{i=1}^m x^i - \\frac1{m} \\sum_{i=1}^m x^i y^i = 0\\\\\n",
    " a \\frac1{m} \\sum_{i=1}^m x^i + b - \\frac1{m} \\sum_{i=1}^m y^i = 0\\\\\n",
    "\\end{cases}\n",
    "\\end{align}\n",
    "$$"
   ]
  },
  {
   "cell_type": "markdown",
   "metadata": {
    "slideshow": {
     "slide_type": "subslide"
    }
   },
   "source": [
    "(reprise)\n",
    "$$\n",
    "\\begin{align}\n",
    "\\begin{cases}\n",
    " a \\frac1{m} \\sum_{i=1}^m (x^i)^2 + b \\frac1{m} \\sum_{i=1}^m x^i - \\frac1{m} \\sum_{i=1}^m x^i y^i = 0\\\\\n",
    " a \\frac1{m} \\sum_{i=1}^m x^i + b - \\frac1{m} \\sum_{i=1}^m y^i = 0\\\\\n",
    "\\end{cases}\n",
    "\\end{align}\n",
    "$$"
   ]
  },
  {
   "cell_type": "markdown",
   "metadata": {
    "slideshow": {
     "slide_type": "fragment"
    }
   },
   "source": [
    "qui peut se noter plus simplement\n",
    "$$\n",
    "\\begin{align}\n",
    "\\begin{cases}\n",
    " a \\cdot \\overline{x^2} + b \\cdot \\overline{x} - \\overline{xy} = 0\\\\\n",
    " a \\cdot \\overline{x} + b - \\overline{y} = 0\\\\\n",
    "\\end{cases}\n",
    "\\end{align}\n",
    "$$\n",
    "où la barre désigne la moyenne d'une série de termes $(x^i)^2, (x^i)$ ou $(x^i y^i)$."
   ]
  },
  {
   "cell_type": "markdown",
   "metadata": {
    "slideshow": {
     "slide_type": "subslide"
    }
   },
   "source": [
    "On vérifie (exercice) que \n",
    "$$\\overline{x^2} = var(x) + (\\overline{x})^2$$\n",
    "où\n",
    "$$var(x) = \\overline{(x-\\overline{x})^2}= \\frac1{m} \\sum_{i=1}^m (x_i - \\overline{x})^2$$\n",
    "est la variance de $m$ c'est à dire *la moyenne des carrés des écarts de $x$ à sa moyenne*"
   ]
  },
  {
   "cell_type": "markdown",
   "metadata": {
    "slideshow": {
     "slide_type": "fragment"
    }
   },
   "source": [
    "On vérifie de même que\n",
    "$$\\overline{xy} = cov(x,y) + \\overline{x}\\cdot\\overline{y}$$\n",
    "où\n",
    "$$cov(x,y)=\\overline{(x-\\bar{x})(y-\\bar{y})} = \\frac1{m} \\sum_{i=1}^m (x_i - \\overline{x})(y_i - \\overline{y}) $$\n",
    "est la covariance de $x$ et $y$.\n",
    "(Remarquer $var(x)=cov(x,x)$)"
   ]
  },
  {
   "cell_type": "markdown",
   "metadata": {
    "slideshow": {
     "slide_type": "subslide"
    }
   },
   "source": [
    "Le système peut alors s'écrire\n",
    "$$\n",
    "\\begin{align}\n",
    "\\begin{cases}\n",
    " a \\cdot (var(x) + (\\overline{x})^2) + b \\cdot \\overline{x} - (cov(x,y) + \\overline{x} \\overline{y}) = 0\\\\\n",
    " a \\cdot \\overline{x} + b - \\overline{y} = 0\\\\\n",
    "\\end{cases}\n",
    "\\end{align}\n",
    "$$\n",
    " "
   ]
  },
  {
   "cell_type": "markdown",
   "metadata": {
    "slideshow": {
     "slide_type": "fragment"
    }
   },
   "source": [
    "En remplaçant dans la première équation $b$ par $\\overline{y} - a \\cdot \\overline{x} $ on obtient\n",
    "$$a \\cdot (var(x) + (\\overline{x})^2) + ((\\overline{y} - a \\cdot \\overline{x}) \\cdot \\overline{x} - (cov(x,y) + \\overline{x} \\overline{y}) = 0 $$\n"
   ]
  },
  {
   "cell_type": "markdown",
   "metadata": {
    "slideshow": {
     "slide_type": "subslide"
    }
   },
   "source": [
    "qui se simplifie en\n",
    "$$ a \\cdot var(x) - cov(x,y) = 0$$\n",
    "On obtient donc comme solutions\n",
    "$$\\boxed{\n",
    "\\begin{align}\n",
    "\\begin{cases}\n",
    " a^* = \\frac{cov(x,y)}{var(x)}\\\\\n",
    " b^* = \\overline{y} - a^* \\overline{x} \\\\\n",
    "\\end{cases}\n",
    "\\end{align}}\n",
    "$$\n",
    " "
   ]
  },
  {
   "cell_type": "markdown",
   "metadata": {
    "slideshow": {
     "slide_type": "subslide"
    }
   },
   "source": [
    "### Vérification expérimentale\n",
    "$$\n",
    "\\begin{align}\n",
    "\\begin{cases}\n",
    " a^* = \\frac{cov(x,y)}{var(x)}\\\\\n",
    " b^* = \\overline{y} - a^* \\overline{x} \\\\\n",
    "\\end{cases}\n",
    "\\end{align}\n",
    "$$"
   ]
  },
  {
   "cell_type": "code",
   "execution_count": 14,
   "metadata": {
    "slideshow": {
     "slide_type": "fragment"
    }
   },
   "outputs": [
    {
     "data": {
      "text/plain": [
       "(5.308010479517307, 7.014240234995237)"
      ]
     },
     "execution_count": 14,
     "metadata": {},
     "output_type": "execute_result"
    }
   ],
   "source": [
    "a = ((X-X.mean())*(Y-Y.mean())).mean() / ((X-X.mean())**2).mean() \n",
    "b = Y.mean() - a*X.mean()\n",
    "a,b"
   ]
  },
  {
   "cell_type": "code",
   "execution_count": 15,
   "metadata": {
    "slideshow": {
     "slide_type": "subslide"
    }
   },
   "outputs": [
    {
     "data": {
      "image/png": "[encoded data removed]",
      "text/plain": [
       "<Figure size 432x288 with 1 Axes>"
      ]
     },
     "metadata": {
      "needs_background": "light"
     },
     "output_type": "display_data"
    }
   ],
   "source": [
    "plt.ylim(0,50)\n",
    "dr = lambda x:a*x+b\n",
    "X2 = np.arange(0,6,0.01)\n",
    "plt.plot(X,Y,'o',X2,dr(X2),'k') ; plt.show()"
   ]
  },
  {
   "cell_type": "markdown",
   "metadata": {
    "slideshow": {
     "slide_type": "subslide"
    }
   },
   "source": [
    "### Autre exemple avec génération aléatoire de bruit\n",
    "On génère des points au hasard d'abscisse dans $[0;2]$ situés sur la droite d'équation $y = 5x+7$ plus un \"bruit\" suivant la loi normale centrée réduite."
   ]
  },
  {
   "cell_type": "code",
   "execution_count": 118,
   "metadata": {
    "slideshow": {
     "slide_type": "fragment"
    }
   },
   "outputs": [
    {
     "data": {
      "image/png": "[encoded data removed]",
      "text/plain": [
       "<Figure size 432x288 with 1 Axes>"
      ]
     },
     "metadata": {
      "needs_background": "light"
     },
     "output_type": "display_data"
    }
   ],
   "source": [
    "Xr = 2 * np.random.rand(100, 1)\n",
    "Yr = 5 * Xr + 7 + np.random.randn(100, 1)\n",
    "plt.plot(Xr,Yr,'o')\n",
    "plt.show()"
   ]
  },
  {
   "cell_type": "code",
   "execution_count": 119,
   "metadata": {
    "slideshow": {
     "slide_type": "subslide"
    }
   },
   "outputs": [
    {
     "data": {
      "text/plain": [
       "(5.216449394341778, 6.720322872297952)"
      ]
     },
     "execution_count": 119,
     "metadata": {},
     "output_type": "execute_result"
    }
   ],
   "source": [
    "# calcul des coefficients de régression\n",
    "a = ((Xr-Xr.mean())*(Yr-Yr.mean())).mean() / ((Xr-Xr.mean())**2).mean() \n",
    "b = Yr.mean() - a*Xr.mean()\n",
    "a,b"
   ]
  },
  {
   "cell_type": "markdown",
   "metadata": {
    "slideshow": {
     "slide_type": "fragment"
    }
   },
   "source": [
    "On n'obtient pas exactement 5 et 7 à cause du bruit aléatoire"
   ]
  },
  {
   "cell_type": "code",
   "execution_count": 120,
   "metadata": {
    "slideshow": {
     "slide_type": "fragment"
    }
   },
   "outputs": [
    {
     "data": {
      "image/png": "[encoded data removed]",
      "text/plain": [
       "<Figure size 432x288 with 1 Axes>"
      ]
     },
     "metadata": {
      "needs_background": "light"
     },
     "output_type": "display_data"
    }
   ],
   "source": [
    "plt.plot(Xr,Yr,'o')\n",
    "plt.plot(Xr,a*Xr+b,'r-')\n",
    "#plt.plot(X,5*X+7)\n",
    "plt.show()"
   ]
  },
  {
   "cell_type": "markdown",
   "metadata": {
    "slideshow": {
     "slide_type": "slide"
    }
   },
   "source": [
    "## Regression linéaire en dimension $d$"
   ]
  },
  {
   "cell_type": "markdown",
   "metadata": {
    "slideshow": {
     "slide_type": "fragment"
    }
   },
   "source": [
    "On passe au cas général. $$\\def \\bx{{\\bf x}}$$\n",
    "Les données sont de la forme $(\\bx^i,y^i)$ mais les $\\bx^i$ sont des vecteurs de dimension $d$\n",
    "$$\\bx^i = (x^i_1,x^i_2,\\cdots,x^i_d) \\in \\mathbb{R}^d$$"
   ]
  },
  {
   "cell_type": "markdown",
   "metadata": {
    "slideshow": {
     "slide_type": "fragment"
    }
   },
   "source": [
    "On cherche à approximer une fonction inconnue $f$ telle que\n",
    "$$y_i = f(x^i_1,x^i_2,\\cdots,x^i_d)$$\n",
    "par une fonction multilinéaire (affine) de la forme\n",
    "$$g(\\bx) = a_0 + a_1 x_1 + a_2 x_2 + \\dots a_d x_d$$"
   ]
  },
  {
   "cell_type": "markdown",
   "metadata": {
    "slideshow": {
     "slide_type": "subslide"
    }
   },
   "source": [
    "### exemple : jeu de données *Advertising*\n",
    "Données commerciales sur les ventes d'un produit dans différents points de vente en fonction du budget dépensé en publicité dans trois medias différents."
   ]
  },
  {
   "cell_type": "code",
   "execution_count": 2,
   "metadata": {
    "scrolled": true,
    "slideshow": {
     "slide_type": "fragment"
    }
   },
   "outputs": [
    {
     "data": {
      "text/html": [
       "<div>\n",
       "<style scoped>\n",
       "    .dataframe tbody tr th:only-of-type {\n",
       "        vertical-align: middle;\n",
       "    }\n",
       "\n",
       "    .dataframe tbody tr th {\n",
       "        vertical-align: top;\n",
       "    }\n",
       "\n",
       "    .dataframe thead th {\n",
       "        text-align: right;\n",
       "    }\n",
       "</style>\n",
       "<table border=\"1\" class=\"dataframe\">\n",
       "  <thead>\n",
       "    <tr style=\"text-align: right;\">\n",
       "      <th></th>\n",
       "      <th>TV</th>\n",
       "      <th>Radio</th>\n",
       "      <th>Newspaper</th>\n",
       "      <th>Sales</th>\n",
       "    </tr>\n",
       "  </thead>\n",
       "  <tbody>\n",
       "    <tr>\n",
       "      <th>0</th>\n",
       "      <td>230.1</td>\n",
       "      <td>37.8</td>\n",
       "      <td>69.2</td>\n",
       "      <td>22.1</td>\n",
       "    </tr>\n",
       "    <tr>\n",
       "      <th>1</th>\n",
       "      <td>44.5</td>\n",
       "      <td>39.3</td>\n",
       "      <td>45.1</td>\n",
       "      <td>10.4</td>\n",
       "    </tr>\n",
       "    <tr>\n",
       "      <th>2</th>\n",
       "      <td>17.2</td>\n",
       "      <td>45.9</td>\n",
       "      <td>69.3</td>\n",
       "      <td>12.0</td>\n",
       "    </tr>\n",
       "    <tr>\n",
       "      <th>3</th>\n",
       "      <td>151.5</td>\n",
       "      <td>41.3</td>\n",
       "      <td>58.5</td>\n",
       "      <td>16.5</td>\n",
       "    </tr>\n",
       "    <tr>\n",
       "      <th>4</th>\n",
       "      <td>180.8</td>\n",
       "      <td>10.8</td>\n",
       "      <td>58.4</td>\n",
       "      <td>17.9</td>\n",
       "    </tr>\n",
       "    <tr>\n",
       "      <th>...</th>\n",
       "      <td>...</td>\n",
       "      <td>...</td>\n",
       "      <td>...</td>\n",
       "      <td>...</td>\n",
       "    </tr>\n",
       "    <tr>\n",
       "      <th>195</th>\n",
       "      <td>38.2</td>\n",
       "      <td>3.7</td>\n",
       "      <td>13.8</td>\n",
       "      <td>7.6</td>\n",
       "    </tr>\n",
       "    <tr>\n",
       "      <th>196</th>\n",
       "      <td>94.2</td>\n",
       "      <td>4.9</td>\n",
       "      <td>8.1</td>\n",
       "      <td>14.0</td>\n",
       "    </tr>\n",
       "    <tr>\n",
       "      <th>197</th>\n",
       "      <td>177.0</td>\n",
       "      <td>9.3</td>\n",
       "      <td>6.4</td>\n",
       "      <td>14.8</td>\n",
       "    </tr>\n",
       "    <tr>\n",
       "      <th>198</th>\n",
       "      <td>283.6</td>\n",
       "      <td>42.0</td>\n",
       "      <td>66.2</td>\n",
       "      <td>25.5</td>\n",
       "    </tr>\n",
       "    <tr>\n",
       "      <th>199</th>\n",
       "      <td>232.1</td>\n",
       "      <td>8.6</td>\n",
       "      <td>8.7</td>\n",
       "      <td>18.4</td>\n",
       "    </tr>\n",
       "  </tbody>\n",
       "</table>\n",
       "<p>200 rows × 4 columns</p>\n",
       "</div>"
      ],
      "text/plain": [
       "        TV  Radio  Newspaper  Sales\n",
       "0    230.1   37.8       69.2   22.1\n",
       "1     44.5   39.3       45.1   10.4\n",
       "2     17.2   45.9       69.3   12.0\n",
       "3    151.5   41.3       58.5   16.5\n",
       "4    180.8   10.8       58.4   17.9\n",
       "..     ...    ...        ...    ...\n",
       "195   38.2    3.7       13.8    7.6\n",
       "196   94.2    4.9        8.1   14.0\n",
       "197  177.0    9.3        6.4   14.8\n",
       "198  283.6   42.0       66.2   25.5\n",
       "199  232.1    8.6        8.7   18.4\n",
       "\n",
       "[200 rows x 4 columns]"
      ]
     },
     "execution_count": 2,
     "metadata": {},
     "output_type": "execute_result"
    }
   ],
   "source": [
    "import sklearn as sk\n",
    "import pandas as pd\n",
    "data_adv = pd.read_csv(\"datasets/advertising.csv\")\n",
    "data_adv"
   ]
  },
  {
   "cell_type": "code",
   "execution_count": 323,
   "metadata": {
    "slideshow": {
     "slide_type": "subslide"
    }
   },
   "outputs": [
    {
     "data": {
      "text/html": [
       "<div>\n",
       "<style scoped>\n",
       "    .dataframe tbody tr th:only-of-type {\n",
       "        vertical-align: middle;\n",
       "    }\n",
       "\n",
       "    .dataframe tbody tr th {\n",
       "        vertical-align: top;\n",
       "    }\n",
       "\n",
       "    .dataframe thead th {\n",
       "        text-align: right;\n",
       "    }\n",
       "</style>\n",
       "<table border=\"1\" class=\"dataframe\">\n",
       "  <thead>\n",
       "    <tr style=\"text-align: right;\">\n",
       "      <th></th>\n",
       "      <th>TV</th>\n",
       "      <th>Radio</th>\n",
       "      <th>Newspaper</th>\n",
       "      <th>Sales</th>\n",
       "    </tr>\n",
       "  </thead>\n",
       "  <tbody>\n",
       "    <tr>\n",
       "      <th>count</th>\n",
       "      <td>200.000000</td>\n",
       "      <td>200.000000</td>\n",
       "      <td>200.000000</td>\n",
       "      <td>200.000000</td>\n",
       "    </tr>\n",
       "    <tr>\n",
       "      <th>mean</th>\n",
       "      <td>147.042500</td>\n",
       "      <td>23.264000</td>\n",
       "      <td>30.554000</td>\n",
       "      <td>15.130500</td>\n",
       "    </tr>\n",
       "    <tr>\n",
       "      <th>std</th>\n",
       "      <td>85.854236</td>\n",
       "      <td>14.846809</td>\n",
       "      <td>21.778621</td>\n",
       "      <td>5.283892</td>\n",
       "    </tr>\n",
       "    <tr>\n",
       "      <th>min</th>\n",
       "      <td>0.700000</td>\n",
       "      <td>0.000000</td>\n",
       "      <td>0.300000</td>\n",
       "      <td>1.600000</td>\n",
       "    </tr>\n",
       "    <tr>\n",
       "      <th>25%</th>\n",
       "      <td>74.375000</td>\n",
       "      <td>9.975000</td>\n",
       "      <td>12.750000</td>\n",
       "      <td>11.000000</td>\n",
       "    </tr>\n",
       "    <tr>\n",
       "      <th>50%</th>\n",
       "      <td>149.750000</td>\n",
       "      <td>22.900000</td>\n",
       "      <td>25.750000</td>\n",
       "      <td>16.000000</td>\n",
       "    </tr>\n",
       "    <tr>\n",
       "      <th>75%</th>\n",
       "      <td>218.825000</td>\n",
       "      <td>36.525000</td>\n",
       "      <td>45.100000</td>\n",
       "      <td>19.050000</td>\n",
       "    </tr>\n",
       "    <tr>\n",
       "      <th>max</th>\n",
       "      <td>296.400000</td>\n",
       "      <td>49.600000</td>\n",
       "      <td>114.000000</td>\n",
       "      <td>27.000000</td>\n",
       "    </tr>\n",
       "  </tbody>\n",
       "</table>\n",
       "</div>"
      ],
      "text/plain": [
       "               TV       Radio   Newspaper       Sales\n",
       "count  200.000000  200.000000  200.000000  200.000000\n",
       "mean   147.042500   23.264000   30.554000   15.130500\n",
       "std     85.854236   14.846809   21.778621    5.283892\n",
       "min      0.700000    0.000000    0.300000    1.600000\n",
       "25%     74.375000    9.975000   12.750000   11.000000\n",
       "50%    149.750000   22.900000   25.750000   16.000000\n",
       "75%    218.825000   36.525000   45.100000   19.050000\n",
       "max    296.400000   49.600000  114.000000   27.000000"
      ]
     },
     "execution_count": 323,
     "metadata": {},
     "output_type": "execute_result"
    }
   ],
   "source": [
    "data_adv.describe()"
   ]
  },
  {
   "cell_type": "markdown",
   "metadata": {
    "slideshow": {
     "slide_type": "subslide"
    }
   },
   "source": [
    "Peut-on prédire les ventes en fonction de la publicité dépensée ? Quel est l'investissement le plus rentable ?\n",
    "On va chercher à écrire une relation\n",
    "$$ S \\approx a_0 + a_1 TV + a_2 Rad + a_3 News $$"
   ]
  },
  {
   "cell_type": "markdown",
   "metadata": {
    "slideshow": {
     "slide_type": "subslide"
    }
   },
   "source": [
    "### Résolution\n",
    "Pour l'analyse il est plus facile d'ajouter une $(d+1)$-ième coordonnée à l'indice 0 aux vecteurs $x^i$, qui vaut toujours $1$, de sorte qu'on puisse écrire $g(x)$ sous la forme\n",
    "$$g(\\bx) = \\sum_{j=0}^d a_j x_j$$ \n",
    "et se ramener à la recherche d'une fonction sans terme constant."
   ]
  },
  {
   "cell_type": "markdown",
   "metadata": {
    "slideshow": {
     "slide_type": "fragment"
    }
   },
   "source": [
    "L'erreur quadratique moyenne est donnée par\n",
    "$$\n",
    "\\begin{align}\n",
    "EQM &= \\frac1{m} \\sum_{i=1}^m (\\sum_{j=0}^d a_j x^i_j - y^i)^2 \\\\\n",
    "    &= \\frac1{m} \\sum_{i=1}^m (g(\\x^i) - y^i)^2\n",
    "\\end{align}$$"
   ]
  },
  {
   "cell_type": "markdown",
   "metadata": {
    "slideshow": {
     "slide_type": "subslide"
    }
   },
   "source": [
    "La fonction EQM admet un minimum par convexité, une condition nécessaire est que le gradient soit nul\n",
    "$$\\forall 0 \\leq k \\leq d, \\frac{\\partial}{\\partial a_k} \\left( \\sum_{i=1}^m (\\sum_{j=0}^d a_j x^i_j - y^i)^2 \\right) = 0$$"
   ]
  },
  {
   "cell_type": "markdown",
   "metadata": {
    "slideshow": {
     "slide_type": "fragment"
    }
   },
   "source": [
    "soit\n",
    "$$\\forall 0 \\leq k \\leq d, \\sum_{i=1}^m x_k^i \\left(\\sum_{j=0}^d a_j x^i_j - y^i \\right) = 0$$"
   ]
  },
  {
   "cell_type": "markdown",
   "metadata": {
    "slideshow": {
     "slide_type": "fragment"
    }
   },
   "source": [
    "$$\\forall 0 \\leq k \\leq m, \\sum_{i=1}^m \\sum_{j=0}^d x_k^i  x^i_j a_j = \\sum_{i=1}^m x_k^i y^i $$"
   ]
  },
  {
   "cell_type": "markdown",
   "metadata": {
    "slideshow": {
     "slide_type": "subslide"
    }
   },
   "source": [
    "On introduit les notations : $$\\def\\ba{{\\bf a}} \\def\\by{{\\bf y}}$$\n",
    "- matrice $X$ avec $X_{i,j}=x^i_j$ pour $1 \\leq i \\leq m$ et $0 \\leq j \\leq d$. La matrice $X$ contient donc chacun des vecteurs de données sur ses lignes et les colonnes correspondent aux caractéristiques des données. \n",
    "- vecteur $\\ba$ avec $\\ba_j = a_j$ pour $0 \\leq j \\leq d$\n",
    "- vecteur $\\by$ avec $\\by_i = y^i$ pour $1 \\leq i \\leq m$\n"
   ]
  },
  {
   "cell_type": "markdown",
   "metadata": {
    "slideshow": {
     "slide_type": "subslide"
    }
   },
   "source": [
    "à $k$ fixé \n",
    "$$\\sum_{i=1}^m \\sum_{j=0}^d x_k^i  x^i_j a_j = \\sum_{i=1}^m x_k^i y^i $$\n",
    "s'écrit\n",
    "$$(X^T X \\cdot \\a)_k = (X^T \\cdot \\y)_k$$  \n",
    "et l'ensemble de ces relations est donc\n",
    "$$\\boxed{X^T X \\cdot \\a = X^T \\cdot \\y}$$\n",
    "dimension \n",
    "$$(d+1,m)(m,d+1)(d+1,1) = (d+1,m)(m,1) = (d+1,1)$$\n",
    "(vecteur colonne)  \n",
    "Cette équation connue sous le nom d'**equation normale**."
   ]
  },
  {
   "cell_type": "markdown",
   "metadata": {
    "slideshow": {
     "slide_type": "subslide"
    }
   },
   "source": [
    "La matrice $X^T X$ est une matrice carrée $(d+1) \\times (d+1)$. En pratique elle est souvent inversible et on trouve une solution unique à cette équation qui est\n",
    "$$ \\boxed{\\a = (X^T X \\cdot )^{-1} X^T \\cdot \\y}$$"
   ]
  },
  {
   "cell_type": "markdown",
   "metadata": {
    "slideshow": {
     "slide_type": "fragment"
    }
   },
   "source": [
    "Si $X^T X$ n'est pas inversible on peut montrer qu'il existe toujours une solution à cette équation, mais elle n'est pas forcément unique (dans ce cas il existe plusieurs vecteurs $\\ba$ donnant le minimum de l'EQM -- c'est un signe que les caractéristiques des données sont redondantes)."
   ]
  },
  {
   "cell_type": "markdown",
   "metadata": {
    "slideshow": {
     "slide_type": "subslide"
    }
   },
   "source": [
    "### Retour sur l'exemple *Advertising*"
   ]
  },
  {
   "cell_type": "code",
   "execution_count": 3,
   "metadata": {
    "slideshow": {
     "slide_type": "fragment"
    }
   },
   "outputs": [
    {
     "name": "stdout",
     "output_type": "stream",
     "text": [
      "[[230.1  37.8  69.2]\n",
      " [ 44.5  39.3  45.1]\n",
      " [ 17.2  45.9  69.3]\n",
      " [151.5  41.3  58.5]\n",
      " [180.8  10.8  58.4]] [22.1 10.4 12.  16.5 17.9]\n",
      "(200, 3) (200,)\n"
     ]
    }
   ],
   "source": [
    "Xadv = data_adv.to_numpy()[:,0:3] ; Yadv = data_adv.to_numpy()[:,3]\n",
    "print(Xadv[:5], Yadv[:5])\n",
    "print(Xadv.shape,Yadv.shape)"
   ]
  },
  {
   "cell_type": "markdown",
   "metadata": {
    "slideshow": {
     "slide_type": "subslide"
    }
   },
   "source": [
    "On ajoute une colonne de 1"
   ]
  },
  {
   "cell_type": "code",
   "execution_count": 5,
   "metadata": {
    "slideshow": {
     "slide_type": "fragment"
    }
   },
   "outputs": [
    {
     "name": "stdout",
     "output_type": "stream",
     "text": [
      "[[  1.  230.1  37.8  69.2]\n",
      " [  1.   44.5  39.3  45.1]\n",
      " [  1.   17.2  45.9  69.3]\n",
      " [  1.  151.5  41.3  58.5]\n",
      " [  1.  180.8  10.8  58.4]]\n",
      "(200, 4)\n"
     ]
    }
   ],
   "source": [
    "import numpy as np\n",
    "Xadva = np.concatenate( (np.ones((200,1)), Xadv), axis=1) #Xadv augmenté\n",
    "print(Xadva[:5])\n",
    "print(Xadva.shape)"
   ]
  },
  {
   "cell_type": "markdown",
   "metadata": {
    "slideshow": {
     "slide_type": "subslide"
    }
   },
   "source": [
    "$$ \\boxed{\\a = (X^T X \\cdot )^{-1} X^T \\cdot \\y}$$"
   ]
  },
  {
   "cell_type": "code",
   "execution_count": 6,
   "metadata": {
    "slideshow": {
     "slide_type": "fragment"
    }
   },
   "outputs": [
    {
     "name": "stdout",
     "output_type": "stream",
     "text": [
      "[4.62512408e+00 5.44457803e-02 1.07001228e-01 3.35657922e-04]\n"
     ]
    }
   ],
   "source": [
    "a = np.linalg.inv(Xadva.T.dot(Xadva)).dot(Xadva.T).dot(Yadv)\n",
    "print(a)"
   ]
  },
  {
   "cell_type": "code",
   "execution_count": 12,
   "metadata": {
    "slideshow": {
     "slide_type": "fragment"
    }
   },
   "outputs": [
    {
     "name": "stdout",
     "output_type": "stream",
     "text": [
      "[-0.87902791  0.86824775 -1.50379103  0.81244651 -2.25586315  3.15633677\n",
      " -0.5267153   0.07062458  0.51839603  0.18871013]\n",
      "2.706006147627315 1.6449942697855562\n"
     ]
    }
   ],
   "source": [
    "erreur = Xadva.dot(a) - Yadv\n",
    "#erreur moyenne quadratique\n",
    "eqm_adv = (erreur**2).mean()\n",
    "print( (Xadva.dot(a) - Yadv)[:10]   )\n",
    "print(eqm_adv, np.sqrt(eqm_adv))"
   ]
  },
  {
   "cell_type": "code",
   "execution_count": 322,
   "metadata": {
    "slideshow": {
     "slide_type": "fragment"
    }
   },
   "outputs": [
    {
     "name": "stdout",
     "output_type": "stream",
     "text": [
      "[21.22097209 11.26824775 10.49620897 17.31244651 15.64413685 10.35633677\n",
      " 11.2732847  13.27062458  5.31839603 15.78871013]\n"
     ]
    }
   ],
   "source": [
    "predictions_eq_normale = Xadva.dot(a)[:10]\n",
    "print(predictions_eq_normale)"
   ]
  },
  {
   "cell_type": "markdown",
   "metadata": {
    "slideshow": {
     "slide_type": "slide"
    }
   },
   "source": [
    "### Même exemple en utilisant la bibliothèque sklearn"
   ]
  },
  {
   "cell_type": "code",
   "execution_count": 13,
   "metadata": {
    "slideshow": {
     "slide_type": "fragment"
    }
   },
   "outputs": [],
   "source": [
    "import sklearn as sk\n",
    "from sklearn.linear_model import LinearRegression\n",
    "lin_reg = LinearRegression()"
   ]
  },
  {
   "cell_type": "code",
   "execution_count": 14,
   "metadata": {
    "slideshow": {
     "slide_type": "fragment"
    }
   },
   "outputs": [
    {
     "data": {
      "text/plain": [
       "LinearRegression(copy_X=True, fit_intercept=True, n_jobs=None, normalize=False)"
      ]
     },
     "execution_count": 14,
     "metadata": {},
     "output_type": "execute_result"
    }
   ],
   "source": [
    "X = data_adv.to_numpy()[:,0:3] #on elimine la colonne de 1\n",
    "lin_reg.fit(X,Yadv)"
   ]
  },
  {
   "cell_type": "code",
   "execution_count": 313,
   "metadata": {
    "slideshow": {
     "slide_type": "fragment"
    }
   },
   "outputs": [
    {
     "data": {
      "text/plain": [
       "array([0.05444578, 0.10700123, 0.00033566])"
      ]
     },
     "execution_count": 313,
     "metadata": {},
     "output_type": "execute_result"
    }
   ],
   "source": [
    "lin_reg.coef_"
   ]
  },
  {
   "cell_type": "code",
   "execution_count": 15,
   "metadata": {
    "slideshow": {
     "slide_type": "fragment"
    }
   },
   "outputs": [
    {
     "name": "stdout",
     "output_type": "stream",
     "text": [
      "4.625124078808653 4.625124078808693\n"
     ]
    }
   ],
   "source": [
    "print(lin_reg.intercept_, a[0])"
   ]
  },
  {
   "cell_type": "markdown",
   "metadata": {
    "slideshow": {
     "slide_type": "subslide"
    }
   },
   "source": [
    "Comparaison de valeurs prédites aux cibles/étiquettes données"
   ]
  },
  {
   "cell_type": "code",
   "execution_count": 324,
   "metadata": {
    "slideshow": {
     "slide_type": "fragment"
    }
   },
   "outputs": [
    {
     "name": "stdout",
     "output_type": "stream",
     "text": [
      "[21.22097209 11.26824775 10.49620897 17.31244651 15.64413685 10.35633677\n",
      " 11.2732847  13.27062458  5.31839603 15.78871013]\n",
      "[22.1 10.4 12.  16.5 17.9  7.2 11.8 13.2  4.8 15.6]\n"
     ]
    }
   ],
   "source": [
    "predictions_sk = lin_reg.predict(Xadv)[:10]\n",
    "print(predictions_sk)\n",
    "print(Yadv[:10])"
   ]
  },
  {
   "cell_type": "code",
   "execution_count": 136,
   "metadata": {
    "slideshow": {
     "slide_type": "fragment"
    }
   },
   "outputs": [
    {
     "data": {
      "text/plain": [
       "2.706006147627315"
      ]
     },
     "execution_count": 136,
     "metadata": {},
     "output_type": "execute_result"
    }
   ],
   "source": [
    "from sklearn.metrics import mean_squared_error\n",
    "mean_squared_error(lin_reg.predict(X),Yadv)"
   ]
  },
  {
   "cell_type": "markdown",
   "metadata": {
    "slideshow": {
     "slide_type": "slide"
    }
   },
   "source": [
    "## Descente de gradient\n",
    "### Analyse de complexité de l'équation normale"
   ]
  },
  {
   "cell_type": "markdown",
   "metadata": {
    "slideshow": {
     "slide_type": "fragment"
    }
   },
   "source": [
    "Rappel : $m$ données avec $d$ caractéristiques chacunes et on résout\n",
    "$$X^T X \\cdot \\a = X^T \\cdot \\y$$\n",
    "X est une matrice de dimension $(m,d)$, calculer $X^T X$ demande donc un temps $O(md^2)$.  \n",
    "Le système à résoudre est dimension $(d,d)$ ce qui prend (pour une résolution exacte) un temps O(d^3)\n",
    "Donc la résolution directe via equation normale convient si $d$ n'est pas trop grand.  \n",
    "Exemple où $d$ est grand ?"
   ]
  },
  {
   "cell_type": "markdown",
   "metadata": {
    "slideshow": {
     "slide_type": "subslide"
    }
   },
   "source": [
    "### Minimisation de l'EMQ via descente de gradient\n",
    "Si $d$ est grand, on peut chercher à minimiser directement\n",
    "\\begin{align}\n",
    "EQM(a) &= \\frac{1}{m} \\sum_{i=1}^m (\\sum_{j=0}^d a_j x^i_j - y^i)^2 \\\\\n",
    "       &= \\frac{1}{m} (Xa-y)^T (Xa-y)\n",
    "\\end{align}\n",
    "via une descente de gradient"
   ]
  },
  {
   "cell_type": "markdown",
   "metadata": {
    "slideshow": {
     "slide_type": "subslide"
    }
   },
   "source": [
    "Le gradient de l'EQM s'écrit (cf exercice 1)\n",
    "$$\\nabla_{EQM}(a) = \\frac{2}{m} X^T (Xa-y)$$\n",
    "La $k$-ième coordonnée de ce gradient est\n",
    "$$ \\frac{2}{m} \\x_k^T (Xa-y) = \\frac{2}{m} \\sum_{i=1}^m x^i_k (g_a(x_i)-y^i)$$ "
   ]
  },
  {
   "cell_type": "markdown",
   "metadata": {
    "slideshow": {
     "slide_type": "fragment"
    }
   },
   "source": [
    "On obtient donc l'algorithme de descente de gradient à pas $\\alpha$ en appliquant à chaque étape\n",
    "$$ a_k \\longleftarrow  a_k - \\frac{2\\alpha}{m} \\sum_{i=1}^m x^i_k (g_a(x_i)-y) $$\n",
    "pour chaque coordonnée $ 0 \\leq k \\leq d$."
   ]
  },
  {
   "cell_type": "markdown",
   "metadata": {
    "slideshow": {
     "slide_type": "slide"
    }
   },
   "source": [
    "### Exemple sur droite bruitée"
   ]
  },
  {
   "cell_type": "code",
   "execution_count": 19,
   "metadata": {
    "scrolled": true,
    "slideshow": {
     "slide_type": "fragment"
    }
   },
   "outputs": [
    {
     "data": {
      "image/png": "[encoded data removed]",
      "text/plain": [
       "<Figure size 432x288 with 1 Axes>"
      ]
     },
     "metadata": {
      "needs_background": "light"
     },
     "output_type": "display_data"
    }
   ],
   "source": [
    "import matplotlib.pyplot as plt\n",
    "Xr_plot = 2 * np.random.rand(100, 1)\n",
    "Yr = 5 * Xr_plot + 7 + np.random.randn(100, 1)\n",
    "plt.plot(Xr_plot,Yr,'o')\n",
    "plt.show()"
   ]
  },
  {
   "cell_type": "code",
   "execution_count": 16,
   "metadata": {
    "slideshow": {
     "slide_type": "subslide"
    }
   },
   "outputs": [],
   "source": [
    "#on reprend le code du cours 3\n",
    "def descente_gradient(f, grad, epsilon, alpha, p0, max_iter=10000):\n",
    "    \"\"\"f fonction a minimiser, grad son gradient (prennent un np.array en argument)\n",
    "    alpha pas d'apprentissage\n",
    "    epsilon tolérance\n",
    "    p0 point initial\"\"\"\n",
    "    p = p0\n",
    "    k = 0\n",
    "    points = [p0]\n",
    "    print( \"f(\" +str(p)+ \")=\" + str(f(p)))\n",
    "    while (grad(p)**2).sum() >= epsilon**2 and k<max_iter:\n",
    "        p = p - alpha*grad(p)\n",
    "        k +=1\n",
    "        points.append(p)\n",
    "    print( \"f(\" +str(p)+ \")=\" + str(f(p)))\n",
    "    return k, points"
   ]
  },
  {
   "cell_type": "code",
   "execution_count": 21,
   "metadata": {
    "slideshow": {
     "slide_type": "subslide"
    }
   },
   "outputs": [],
   "source": [
    "Xr = Xr_plot.reshape(-1,1)  #-1 veut dire que numpy met la bonne valeur (len(Xr) en fait)\n",
    "#preparation des données avec une colonne de 1 au départ\n",
    "Xra = np.concatenate( (np.ones((len(Xr),1)), Xr), axis=1)  #Xr augmenté\n",
    "#definition de l'erreur quadratique et de son gradient\n",
    "f_eqm = lambda A : ((Xra.dot(A)-Yr)**2).sum() / len(Xra)\n",
    "grad_eqm = lambda A : 2/len(Xra)*Xra.T.dot(Xra.dot(A)-Yr)"
   ]
  },
  {
   "cell_type": "code",
   "execution_count": 397,
   "metadata": {
    "slideshow": {
     "slide_type": "fragment"
    }
   },
   "outputs": [
    {
     "name": "stdout",
     "output_type": "stream",
     "text": [
      "f([[0]\n",
      " [0]])=145.16673667822866\n",
      "f([[6.9407314]\n",
      " [5.1125561]])=1.0572840219320718\n",
      "179\n"
     ]
    }
   ],
   "source": [
    "A0 = np.array([0,0]).reshape(-1,1)\n",
    "k, points = descente_gradient(f_eqm, grad_eqm, alpha=0.1, epsilon=0.001, p0=A0)\n",
    "print(k)"
   ]
  },
  {
   "cell_type": "code",
   "execution_count": 398,
   "metadata": {
    "scrolled": true,
    "slideshow": {
     "slide_type": "subslide"
    }
   },
   "outputs": [
    {
     "data": {
      "image/png": "[encoded data removed]",
      "text/plain": [
       "<Figure size 432x288 with 1 Axes>"
      ]
     },
     "metadata": {
      "needs_background": "light"
     },
     "output_type": "display_data"
    }
   ],
   "source": [
    "plt.plot(Xr_plot,Yr,'o')\n",
    "X = np.linspace(0,2,200)\n",
    "Xa = np.concatenate( (np.ones((len(X),1)), X.reshape(200,1)), axis=1)\n",
    "for p in points[:50:2]:\n",
    "    plt.plot(X, Xa.dot(p).flatten() )\n",
    "plt.plot(X, Xa.dot(points[-1]).flatten(), \"r--\" )\n",
    "plt.show()"
   ]
  },
  {
   "cell_type": "markdown",
   "metadata": {
    "slideshow": {
     "slide_type": "subslide"
    }
   },
   "source": [
    "Comparaison des résultats obtenus avec ceux de sklearn"
   ]
  },
  {
   "cell_type": "code",
   "execution_count": 399,
   "metadata": {
    "slideshow": {
     "slide_type": "fragment"
    }
   },
   "outputs": [
    {
     "data": {
      "text/plain": [
       "array([[6.9407314],\n",
       "       [5.1125561]])"
      ]
     },
     "execution_count": 399,
     "metadata": {},
     "output_type": "execute_result"
    }
   ],
   "source": [
    "points[-1] #le dernier"
   ]
  },
  {
   "cell_type": "code",
   "execution_count": 400,
   "metadata": {
    "slideshow": {
     "slide_type": "fragment"
    }
   },
   "outputs": [
    {
     "name": "stdout",
     "output_type": "stream",
     "text": [
      "[[5.11071762]] [6.94277151] 1.0572826874481314\n"
     ]
    }
   ],
   "source": [
    "lin_reg.fit(Xr,Yr)\n",
    "print(lin_reg.coef_, lin_reg.intercept_, mean_squared_error(lin_reg.predict(Xr),Yr))"
   ]
  },
  {
   "cell_type": "markdown",
   "metadata": {
    "slideshow": {
     "slide_type": "subslide"
    }
   },
   "source": [
    "### descente de gradient sur *advertising*"
   ]
  },
  {
   "cell_type": "code",
   "execution_count": 401,
   "metadata": {
    "slideshow": {
     "slide_type": "fragment"
    }
   },
   "outputs": [],
   "source": [
    "f_eqm = lambda A : ((Xadva.dot(A)-Yadv)**2).sum() / len(Xadva)\n",
    "grad_eqm = lambda A : 2/len(Xadva)*Xadva.T.dot(Xadva.dot(A)-Yadv)"
   ]
  },
  {
   "cell_type": "code",
   "execution_count": 402,
   "metadata": {
    "slideshow": {
     "slide_type": "fragment"
    }
   },
   "outputs": [],
   "source": [
    "A0 = np.array([0,0,0,0])"
   ]
  },
  {
   "cell_type": "code",
   "execution_count": 404,
   "metadata": {
    "scrolled": false,
    "slideshow": {
     "slide_type": "fragment"
    }
   },
   "outputs": [
    {
     "name": "stdout",
     "output_type": "stream",
     "text": [
      "f([0 0 0 0])=256.71195\n",
      "f([4.28264971e+00 5.53810381e-02 1.10929957e-01 2.41585379e-03])=2.7231313354737363\n",
      "297132\n"
     ]
    }
   ],
   "source": [
    "k, points = descente_gradient(f_eqm, grad_eqm, epsilon=0.1, alpha=0.00003, p0=A0, max_iter=500000)\n",
    "coeffs_adv = points[-1]\n",
    "print(k)"
   ]
  },
  {
   "cell_type": "markdown",
   "metadata": {
    "slideshow": {
     "slide_type": "subslide"
    }
   },
   "source": [
    "Comparaison avec les résultats de l'équation normale et les étiquettes véritables (target)"
   ]
  },
  {
   "cell_type": "code",
   "execution_count": 406,
   "metadata": {
    "scrolled": true,
    "slideshow": {
     "slide_type": "fragment"
    }
   },
   "outputs": [
    {
     "name": "stdout",
     "output_type": "stream",
     "text": [
      "[21.38615601 11.2156082  10.49430724 17.39561163 15.63467078 10.37012865\n",
      " 11.16233454 13.14170154  4.9942954  15.6874151 ]\n",
      "[21.22097209 11.26824775 10.49620897 17.31244651 15.64413685 10.35633677\n",
      " 11.2732847  13.27062458  5.31839603 15.78871013]\n",
      "[22.1 10.4 12.  16.5 17.9  7.2 11.8 13.2  4.8 15.6]\n"
     ]
    }
   ],
   "source": [
    "prediction_gd = Xadva[:10,:].dot(coeffs_adv)\n",
    "print(prediction_gd)\n",
    "print(predictions_eq_normale)\n",
    "print(Yadv[:10])"
   ]
  },
  {
   "cell_type": "markdown",
   "metadata": {
    "slideshow": {
     "slide_type": "slide"
    }
   },
   "source": [
    "## La mise à l'échelle des données (*feature scaling*)"
   ]
  },
  {
   "cell_type": "markdown",
   "metadata": {
    "slideshow": {
     "slide_type": "fragment"
    }
   },
   "source": [
    "Si les caractéristiques (colonnes de la matrice $X$) dont de nature diverses elles peuvent s'exprimer dans des échelles très différentes (des valeurs très grandes, d'autres petites, d'autres négatives, etc.)  \n",
    "Dans ce cas la forme de \"bol\" autour du minimum a une forme d'ellipse très aplatie.\n",
    "<img src=\"images/scaling.png\" width=500 alt=\"ellipse avec ou sans scaling\">"
   ]
  },
  {
   "cell_type": "markdown",
   "metadata": {
    "slideshow": {
     "slide_type": "subslide"
    }
   },
   "source": [
    "Il convient alors de mettre les données à la même échelle (*scaling*) sous peine d'avoir une convergence plus lente.\n",
    "Voici deux façons courantes pour mettre à l'échelle, que l'on applique caractéristique par caractéristique (colonne par colonne)"
   ]
  },
  {
   "cell_type": "markdown",
   "metadata": {
    "slideshow": {
     "slide_type": "fragment"
    }
   },
   "source": [
    "1. **MinMax Scaling**\n",
    "Soient $x_\\min$ et $x_\\max$ le minimum et maximum des valeurs de chaque colonne.  \n",
    "On remplace chaque donnée $x$ par\n",
    "$$x' = \\frac{x - x_\\min}{x_\\max - x_\\min }$$\n",
    "Cela ramène toutes les colonnes dans l'intervalle $[0,1]$\n"
   ]
  },
  {
   "cell_type": "markdown",
   "metadata": {
    "slideshow": {
     "slide_type": "subslide"
    }
   },
   "source": [
    "2. **Standard Scaling** Soit $\\bar{x}$ la moyenne des données de la colonne et $\\sigma$ son écart type  \n",
    "On remplace chaque valeur $x$ par\n",
    "$$x' = \\frac{x - \\bar{x}}{\\sigma}$$\n",
    "Cela rend chaque colonne de moyenne 0 et écart type $1$."
   ]
  },
  {
   "cell_type": "code",
   "execution_count": 408,
   "metadata": {
    "slideshow": {
     "slide_type": "subslide"
    }
   },
   "outputs": [
    {
     "name": "stdout",
     "output_type": "stream",
     "text": [
      "[[ 1.          0.96985227  0.98152247  1.77894547]\n",
      " [ 1.         -1.19737623  1.08280781  0.66957876]\n",
      " [ 1.         -1.51615499  1.52846331  1.78354865]\n",
      " [ 1.          0.05204968  1.21785493  1.28640506]\n",
      " [ 1.          0.3941822  -0.84161366  1.28180188]] \n",
      " [[  1.  230.1  37.8  69.2]\n",
      " [  1.   44.5  39.3  45.1]\n",
      " [  1.   17.2  45.9  69.3]\n",
      " [  1.  151.5  41.3  58.5]\n",
      " [  1.  180.8  10.8  58.4]]\n"
     ]
    }
   ],
   "source": [
    "from sklearn.preprocessing import StandardScaler\n",
    "scaler_X = StandardScaler()\n",
    "scaler_X.fit(Xadv)\n",
    "Xadv_sc = scaler_X.transform(Xadv)\n",
    "Xadv_sc = np.concatenate( (np.ones((len(Xadv_sc),1)), Xadv_sc), axis=1) \n",
    "print(Xadv_sc[:5],\"\\n\", Xadva[:5])"
   ]
  },
  {
   "cell_type": "code",
   "execution_count": 409,
   "metadata": {
    "slideshow": {
     "slide_type": "subslide"
    }
   },
   "outputs": [],
   "source": [
    "#definition de l'erreur quadratique et son gradient sur les données normalisées\n",
    "f_eqm = lambda A : ((Xadv_sc.dot(A)-Yadv)**2).sum() / len(Xadv_sc)\n",
    "grad_eqm = lambda A : 2/len(Xadv_sc)*Xadv_sc.T.dot(Xadv_sc.dot(A)-Yadv)"
   ]
  },
  {
   "cell_type": "code",
   "execution_count": 412,
   "metadata": {
    "slideshow": {
     "slide_type": "fragment"
    }
   },
   "outputs": [
    {
     "name": "stdout",
     "output_type": "stream",
     "text": [
      "f([0 0 0 0])=256.71195\n",
      "f([1.51279860e+01 4.66185245e+00 1.58113599e+00 1.10469926e-02])=2.7060302576400166\n",
      "39\n"
     ]
    }
   ],
   "source": [
    "k, points = descente_gradient(f_eqm, grad_eqm, epsilon=0.01, alpha=0.1, p0=A0, max_iter=5000000)\n",
    "coeffs_adv_sc = points[-1]\n",
    "print(k)"
   ]
  },
  {
   "cell_type": "code",
   "execution_count": 414,
   "metadata": {
    "slideshow": {
     "slide_type": "subslide"
    }
   },
   "outputs": [
    {
     "name": "stdout",
     "output_type": "stream",
     "text": [
      "[21.22086668 11.26545796 10.49630638 17.31043913 15.64905967 10.35679171\n",
      " 11.26817497 13.26596948  5.31716616 15.78896048]\n",
      "[22.1 10.4 12.  16.5 17.9  7.2 11.8 13.2  4.8 15.6]\n",
      "[1.51279860e+01 4.66185245e+00 1.58113599e+00 1.10469926e-02]\n"
     ]
    }
   ],
   "source": [
    "#comparaison des predictions obtenues\n",
    "prediction_gd_sc = Xadv_sc[:10].dot(coeffs_adv_sc)\n",
    "print(prediction_gd_sc)\n",
    "print(Yadv[:10])\n",
    "print(coeffs_adv_sc)"
   ]
  },
  {
   "cell_type": "markdown",
   "metadata": {
    "slideshow": {
     "slide_type": "slide"
    }
   },
   "source": [
    "## Exercices\n",
    "### (maths)\n",
    "Obtenir la formule du gradient de l'erreur quadratique moyenne, sous forme matricielle, et directement sous forme de somme."
   ]
  },
  {
   "cell_type": "markdown",
   "metadata": {
    "slideshow": {
     "slide_type": "slide"
    }
   },
   "source": [
    "### (maths)\n",
    "On considère des données en dimension 1,   $Y=[y^1, y^2, \\dots, y^m]$.\n",
    "Déterminez quelles sont la ou les valeurs de $y$ qui minimisent l'erreur en norme 1 ou **erreur absolue**\n",
    "$$E_1 = \\frac{1}{m} \\sum_{i=1}^m | y - y^i | $$\n",
    "indication : considérer les $y^i$ en ordre croissant et regarder comment l'erreur varie quand $y$ grandit suivant le nombre de $y^i$ plus petits ou plus grands que $y$.\n",
    "Vous pouvez vous aider d'un exemple numérique où vous tracez E_1 en fonction de y pour des données fixées (traçage fait à la main ou avec pyplot).\n"
   ]
  },
  {
   "cell_type": "markdown",
   "metadata": {
    "slideshow": {
     "slide_type": "subslide"
    }
   },
   "source": [
    "### (programmation)\n",
    "Générez un jeu de 100 données mais ayant un grand nombre de caractéristiques ($m=100$, $d$ grand). Tentez de faire une regression linéaire avec l'équation normale. A partir de quelles valeurs de $d$ cela commence-t'il à \"ramer\" ?\n",
    "Résolvez ensuite avec la descente de gradient de sklearn."
   ]
  },
  {
   "cell_type": "markdown",
   "metadata": {
    "slideshow": {
     "slide_type": "subslide"
    }
   },
   "source": [
    "### (programmation)\n",
    "(programmation) En dimension 2, générez comme dans le cours des points sur une droite  (par exemple $y=5x+3$ sur $[0,1]$), bruitée  par une loi normale $N(0,\\sigma)$. Faites une regression linéaire pour obtenir une droite et calculez l'erreur moyenne quadratique minimale $EQM(\\sigma)$. Faites une représentation graphique de $EQM(\\sigma)$ en fonction de $\\sigma$ pour $\\sigma$ de 0 à 10.\n"
   ]
  },
  {
   "cell_type": "markdown",
   "metadata": {
    "slideshow": {
     "slide_type": "subslide"
    }
   },
   "source": [
    "### (programmation)\n",
    "En dimension 2, générez une matrice de points dont les coordonnées ne sont pas à la même échelle (par exemple, prendre une version bruitée de $y= ax + b$ pour $a$ grand par rapport à $b$ sur $[0,1]$. Faites une représentation graphique en courbes de niveau de l'EQM et observez son caractère plus ou moins elliptique pour différentes valeurs de $a$ et $b$."
   ]
  },
  {
   "cell_type": "markdown",
   "metadata": {
    "slideshow": {
     "slide_type": "subslide"
    }
   },
   "source": [
    "### (programmation)\n",
    "Suite de l'exercice précédent. Avec des paramètres de descente de gradient fixés, calculez le nombre d'étapes $k(a,b)$ de l'algorithme pour $a$ et $b$ donnés. Obtenez une représentation graphique de $k$ en fonction de $a$ et $b$."
   ]
  },
  {
   "cell_type": "code",
   "execution_count": null,
   "metadata": {},
   "outputs": [],
   "source": []
  }
 ],
 "metadata": {
  "celltoolbar": "Diaporama",
  "kernelspec": {
   "display_name": "Python 3",
   "language": "python",
   "name": "python3"
  },
  "language_info": {
   "codemirror_mode": {
    "name": "ipython",
    "version": 3
   },
   "file_extension": ".py",
   "mimetype": "text/x-python",
   "name": "python",
   "nbconvert_exporter": "python",
   "pygments_lexer": "ipython3",
   "version": "3.8.5"
  },
  "livereveal": {
   "theme": "sky"
  },
  "toc": {
   "base_numbering": 1,
   "nav_menu": {},
   "number_sections": true,
   "sideBar": true,
   "skip_h1_title": true,
   "title_cell": "Table of Contents",
   "title_sidebar": "Contents",
   "toc_cell": false,
   "toc_position": {},
   "toc_section_display": true,
   "toc_window_display": false
  }
 },
 "nbformat": 4,
 "nbformat_minor": 4
}
