{
 "cells": [
  {
   "cell_type": "markdown",
   "metadata": {},
   "source": [
    "# Reseaux de Neurones ou Perceptron Multicouche (PMC)\n",
    "*Neural Nets/Networks* ou *Deep Learning*"
   ]
  },
  {
   "cell_type": "markdown",
   "metadata": {},
   "source": [
    "macros latex\n",
    "$$ \n",
    "\\def\\R{{\\mathbb R}} \n",
    "\\def\\x{{\\bf x}}\n",
    "\\def\\y{{\\bf y}}\n",
    "\\def\\a{{\\bf a}}\n",
    "\\def\\w{{\\bf w}}\n",
    "$$"
   ]
  },
  {
   "cell_type": "code",
   "execution_count": 13,
   "metadata": {},
   "outputs": [],
   "source": [
    "import numpy as np\n",
    "import matplotlib.pyplot as plt"
   ]
  },
  {
   "cell_type": "markdown",
   "metadata": {},
   "source": [
    "On va regarder plus préciséments les réseaux de neurones (profonds) à propagation avant (*feedforward networks*)."
   ]
  },
  {
   "cell_type": "markdown",
   "metadata": {},
   "source": [
    "## Rappel : neurone artificiel"
   ]
  },
  {
   "cell_type": "markdown",
   "metadata": {},
   "source": [
    "### Composition du neurone\n",
    "Le modèle du neurone artificiel,  est *paramétrique*. Les *hypothèses* sont les fonctions\n",
    "\n",
    "$$h_\\w : \\R^d \\rightarrow \\R$$\n",
    "  \n",
    "  où $\\w$ est un *vecteur de poids* (paramètres) $\\w=(w_1,w_2,\\dots,w_d) \\in M_{1,d}(\\R)$ (vecteur ligne) et biais $b \\in \\R$ et $f : \\R \\rightarrow \\R$ est une fonction appelée **fonction d'activation**.\n",
    "  \n",
    "\n",
    "  $$h(\\x) = f\\left(\\sum_{i=1}^d w_i x_i + b \\right) $$\n",
    "  \n",
    "  $$ = f\\left( \\w \\cdot \\x + b \\right) $$\n",
    "\n",
    "où la variable d'entrée $\\x$ (la donnée) est un vecteur colonne $\\x =(x_1,x_2,\\dots,x_d) \\in M_{d,1}(\\R)$\n",
    "\n",
    "Attention : contrairement aux exemples précédents il est de coutume ici de considérer la matrice de conception $X$ où les données sont des vecteurs colonnes (donc la transposée de la matrice $X$ des chapitres précédents)."
   ]
  },
  {
   "cell_type": "markdown",
   "metadata": {},
   "source": [
    "<img src=\"images/xx.png\" width=500 alt=\"schéma à venir\">"
   ]
  },
  {
   "cell_type": "markdown",
   "metadata": {},
   "source": [
    "### Fonction d'activation\n",
    "On peut faire différents choix pour la fonction d'activation $f$:\n",
    "- dans le cas du *perceptron* on choisit la fonction signe \n",
    "$$f(t) = \\text{signe}(t) = 1 \\text{ si } t \\geq 0 \\text{ et } f(t) = \\text{signe}(t) = -1 \\text{ si } t < 0$$\n",
    "Utilisation : classification, notamment dans le cas linéairement séparable"
   ]
  },
  {
   "cell_type": "markdown",
   "metadata": {},
   "source": [
    "- pour la *regression logistique* la fonction d'activation est la fonction *sigmoide*\n",
    "$$f(t) = \\sigma(t) = \\frac{1}{1+e^{-t}} = \\frac{e^t}{e^t + 1}$$\n",
    "Utilisation : classification et prediction de probabilités"
   ]
  },
  {
   "cell_type": "markdown",
   "metadata": {},
   "source": [
    "- la *tangente hyperbolique*\n",
    "$$f(t) = \\tanh t = \\frac{e^t - e^{-t}}{e^t + e^{-t}} = 2\\sigma(2t)-1$$\n",
    "est semblable à la fonction sigmoïde $\\sigma$ mais donne des valeurs dans $]-1;1[$ au lieu de $]0;1[$"
   ]
  },
  {
   "cell_type": "markdown",
   "metadata": {},
   "source": [
    "- la fonction ReLU pour *Rectified Linear Unit* est très utilisée dans les couches internes des réseaux de neurones \n",
    "$$ f(t) = \\max(0,t) $$"
   ]
  },
  {
   "cell_type": "code",
   "execution_count": 21,
   "metadata": {},
   "outputs": [],
   "source": [
    "signe = np.vectorize(lambda t:1 if t >=0 else 0)\n",
    "reg_log = lambda t: 1/(1+np.exp(-t))\n",
    "relu = lambda t:np.maximum(0,t)"
   ]
  },
  {
   "cell_type": "code",
   "execution_count": 23,
   "metadata": {},
   "outputs": [
    {
     "data": {
      "image/png": "[encoded data removed]",
      "text/plain": [
       "<Figure size 432x288 with 1 Axes>"
      ]
     },
     "metadata": {
      "needs_background": "light"
     },
     "output_type": "display_data"
    }
   ],
   "source": [
    "X = np.linspace(-2,2,100)\n",
    "plt.plot(X,signe(X))\n",
    "plt.plot(X,reg_log(X))\n",
    "plt.plot(X,relu(X))\n",
    "plt.show()"
   ]
  },
  {
   "cell_type": "markdown",
   "metadata": {},
   "source": [
    "### fonction de coût\n",
    "Le but du neurone est de produire, à partir d'une entrée $\\x$, de produire une valeur de sortie $h_\\w(\\x)$ qui soit \"proche\" d'une valeur $y$ donnée, pour un ensemble de données $(\\x^i,y^i)$."
   ]
  },
  {
   "cell_type": "markdown",
   "metadata": {},
   "source": [
    "Une fonction de coût (ou perte) permet de mesurer l'écart entre $h_\\w(\\x)$ et $y$ ; on cherchera en grénéral à minimiser cette fonction de coût (à laquelle peuvent s'ajouter des considérations de régularisation pour éviter la suradaptation ; voir plus tard)."
   ]
  },
  {
   "cell_type": "markdown",
   "metadata": {},
   "source": [
    "Des fonctions de coût classiques sont (en notant $\\hat{y} = h_\\w(\\x)$)\n",
    "- coût quadratique  \n",
    "$$C(\\hat{y},y) = (\\hat{y} - y)^2$$\n",
    "- coût absolu   \n",
    "$$C(\\hat{y},y) = |\\hat{y} - y|$$\n",
    "- entropie croisée (*cross entropy*) pour les probabilités $y,\\hat{y} \\in [0,1]$ (utilisé pour la reg. logistique)  \n",
    "\n",
    "$$C(\\hat{y},y) = -\\hat{y}\\log{y} -(1-\\hat{y})\\log{(1-y)} $$\n",
    "    "
   ]
  },
  {
   "cell_type": "markdown",
   "metadata": {},
   "source": [
    "### Descente de gradient stochastique"
   ]
  },
  {
   "cell_type": "markdown",
   "metadata": {},
   "source": [
    "Etant donné une donnée $(\\x^i,y^i)$ on cherche à minimiser le coût:\n",
    "$$ (b,\\w) \\longmapsto C( h_\\w(\\x^i), y^i )$$\n",
    "soit\n",
    "    $$(b,\\w)  \\longmapsto C(f\\left( \\w \\cdot \\x^i + b \\right), y^i )$$"
   ]
  },
  {
   "cell_type": "markdown",
   "metadata": {},
   "source": [
    "On peut détailler la composition de cette fonction :\n",
    "    $$(b,\\w) \\stackrel{\\text{produit par} (\\x^i, 1)}{\\longmapsto} z = \\x^i \\cdot \\w + b \\stackrel{f}{\\longmapsto} \\hat{y} = f\\left( \\w \\cdot \\x^i  + b \\right) \\stackrel{C(\\cdot,y^i)}{\\longmapsto} C(f\\left( \\w \\cdot \\x^i + b \\right), y^i )$$\n",
    "et utiliser la règle des dérivées composées pour écrire que\n",
    "$$\\frac{\\partial C(\\hat{y},y^i)}{\\partial w_j} = \\frac{\\partial C(\\hat{y},y^i)}{\\partial \\hat{y}} \\times \\frac{\\partial \\hat{y}}{\\partial z} \\times \\frac{\\partial z}{\\partial w_j} $$\n",
    "soit\n",
    "$$\\frac{\\partial C(\\hat{y},y^i)}{\\partial w_i} (b,\\w) = \\frac{\\partial C(\\hat{y},y^i)}{\\partial \\hat{y}} (\\hat{y},y^i) \\times \\frac{\\partial f(z)}{\\partial z} (z) \\times \\frac{\\partial (\"\\w \\cdot \\x^i + b\") }{\\partial w_j} (b,\\w) $$"
   ]
  },
  {
   "cell_type": "markdown",
   "metadata": {},
   "source": [
    "Le premier facteur $\\frac{\\partial C(\\hat{y},y^i)}{\\partial w_j}$ dépend du coût ; par exemple pour le coût quadratique\n",
    "$C(\\hat{y},y^i) = (\\hat{y} - y^i)^2$ on a \n",
    "$$ \\frac{\\partial C(\\hat{y},y^i)}{\\partial w_i} = 2 (\\hat{y} - y^i)$$\n",
    "Le deuxième facteur $\\frac{\\partial f(z)}{\\partial z} (z) $ est simplement la dérivée $f'(z)$  \n",
    "Le troisième facteur $\\frac{\\partial (\"\\w \\cdot \\x^i + w_0\") }{\\partial w_j}$\n",
    "est $(x^i)_j$ si $j>1$ et $1$ si $j=0$."
   ]
  },
  {
   "cell_type": "markdown",
   "metadata": {},
   "source": [
    "Dans l'exemple du coût quadratique, on obtient donc pour la dérivée partielle $\\frac{\\partial C(\\hat{y},y^i)}{\\partial w_j}$ au point $(b,\\w)$ (pour $w_j$, sinon remplacer $(x^i)_j par 1$) \n",
    "$$ \\frac{\\partial C(\\hat{y},y^i)}{\\partial w_i} = 2 (\\hat{y} - y^i) \\times f'(z) \\times (x^i)_j $$\n",
    "$$ = 2 (f\\left( \\w \\cdot \\x^i + b \\right) - y^i) \\times f'\\left( \\w \\cdot \\x^i + b \\right) \\times (x^i)_j $$\n"
   ]
  },
  {
   "cell_type": "markdown",
   "metadata": {},
   "source": [
    "On peut donc écrire le gradient de $C(\\hat{y},y^i)$ par rapport à $(w_0,\\w)$ comme étant \n",
    "$$ \\nabla_{(w_0,\\w)} \\left( C(\\hat{y},y^i) \\right) = \\left( 2(f( \\w \\cdot \\x^i + w_0) - y^i) \\cdot f'\\left( \\w \\cdot \\x^i  + w_0 \\right) \\right) \\cdot (1,\\x^i)$$"
   ]
  },
  {
   "cell_type": "markdown",
   "metadata": {},
   "source": [
    "Pour rappel, afin de minimiser ce coût $C(\\hat{y},y^i)$, il faut effectuer une descente de gradient en répétant l'opération\n",
    "\\begin{equation} \\label{eq1}\n",
    "(b,\\w) \\leftarrow (b,\\w) - \\alpha  \\nabla_{(b,\\w)} \\left( C(\\hat{y}(\\x^i),y^i) \\right) \n",
    "\\end{equation}\n",
    "(les valeurs $\\x^i,y^i$ étant fixées) où $\\alpha$, le pas ou taux d'apprentissage est bien choisi (on peut aussi prendre $\\alpha$ qui tend vers 0 au fur et à mesure, typiquement $\\alpha = \\frac{1}{t}$)."
   ]
  },
  {
   "cell_type": "markdown",
   "metadata": {},
   "source": [
    "Si on veut entraîner le neurone sur des données multiples $(x^i,y^i)$ alors on cherchera en général à minimiser l'erreur moyenne\n",
    "$$ C_m = \\frac{1}{m} \\sum_{i=1}^m C\\left(\\hat{y}(\\x^i),y^i\\right)$$,\n",
    "ce qui peut être fait en prenant directement le gradient total\n",
    "$$ \\nabla_{(w_0,\\w)} C_m = \\frac{1}{m} \\sum_{i=1}^m  \\nabla_{(w_0,\\w)} C\\left(\\hat{y}(\\x^i),y^i\\right)$$"
   ]
  },
  {
   "cell_type": "markdown",
   "metadata": {},
   "source": [
    "(descente de gradient \"classique\" ou \"batch\"), ou bien en prenant successivement les gradients $$\\nabla_{(w_0,\\w)} C\\left(\\hat{y}(\\x^i),y^i\\right)$$ de chaque donnée et en itérant circulairement sur $i$, c'est la descente de gradient dite stochastique. On peut également combiner les données en lots (mini-batch)."
   ]
  },
  {
   "cell_type": "markdown",
   "metadata": {},
   "source": [
    "## Réseaux multicouches"
   ]
  },
  {
   "cell_type": "markdown",
   "metadata": {},
   "source": [
    "Un neurone simple est très limité : il ne peut pas par exemple apprendre la fonction XOR de $\\R^2$ dans $R$ qui vaut 1 sur $(0,0)$ et $(1,1)$ et vaut $0$ sur $(0,1)$ et $(1,0)$. En combinant assez de neurones on obtient une classe de neurones beaucoup plus riches (mais avec plus de paramètres)."
   ]
  },
  {
   "cell_type": "markdown",
   "metadata": {},
   "source": [
    "### un premier exemple\n",
    "\n",
    "On a une donnée à deux entrées $(x_1, x_2)^T$ et on veut prédire une valeur réelle $y$ (problème de régression). On considère trois neurones:\n",
    "- deux sur une couché d'entrée, la couche 1, qui vont chacun respectivement transformer l'entrée $(x_1, x_2)$ en\n",
    "$$a_1 = f(b^{(1)}_1 + w^{(1)}_{1,1} x_1 + w^{(1)}_{1,2} x_2)$$\n",
    "et\n",
    "$$a_2 = f(b^{(1)}_2 + w^{(1)}_{2,1} x_1 + w^{(1)}_{2,2} x_2)$$\n",
    "- un neurone de sortie qui va transformer son entrée $(a_1,a_2)$ en\n",
    "$$\\hat{y} = b^{(2)} + w^{(2)}_1 a_1 + w^{(2)}_2 a_2$$"
   ]
  },
  {
   "cell_type": "markdown",
   "metadata": {},
   "source": [
    "On prendra ici pour $f$ la fonction d'activation ReLU $f(t)=\\max(0,t)$. Si on ne prenait pas de fonction d'activation non-linéaire alors en remplaçant $a_1$ et $a_2$ par leurs valeurs en fonction de $x_1,x_2$ dans l'expression de $\\hat{y}$ on voit que la fonction obtenue serait toujours linéaire, et serait équivalente à un unique neurone.  \n",
    "Pour le coût final appliqué, on peut prendre le coût quadratique $C(\\hat{y},y) = (\\hat{y} - y)^2$."
   ]
  },
  {
   "cell_type": "markdown",
   "metadata": {},
   "source": [
    "La prédiction du modèle sur une entrée $(x_1,x_2)$ est donc\n",
    "$$\\hat{y} = \\hat{y} = b^{(2)} + w^{(2)}_1 \\max(0,b^{(1)}_1 + w^{(1)}_{1,1} x_1 + w^{(1)}_{1,2} x_2) + w^{(2)}_2 \\max(0,b^{(1)}_2 + w^{(1)}_{2,1} x_1 + w^{(1)}_{2,2} x_2) $$"
   ]
  },
  {
   "cell_type": "markdown",
   "metadata": {},
   "source": [
    "On a donc une fonction qui associe une valeur réelle à chaque entrée $(x_1, x_2)$, qui dépend de 9 paramètres à déterminer."
   ]
  },
  {
   "cell_type": "code",
   "execution_count": 42,
   "metadata": {},
   "outputs": [],
   "source": [
    "def fonction_exemple(b1_1,b1_2,w1_11,w1_12,w1_21,w1_22,b2,w2_1,w2_2):\n",
    "    \"\"\"renvoie la fonction ci-dessus dont on precise les paramètres\"\"\"\n",
    "    f = lambda x1,x2 : b2 + w2_1*max(0,b1_1 + w1_11*x1 + w1_12*x2) + w2_2*max(0,b1_2 + w1_21*x1 + w1_22 * x2)\n",
    "    return np.vectorize(f)"
   ]
  },
  {
   "cell_type": "code",
   "execution_count": 43,
   "metadata": {},
   "outputs": [],
   "source": [
    "f = fonction_exemple(*np.random.normal(0,1,9))"
   ]
  },
  {
   "cell_type": "code",
   "execution_count": 44,
   "metadata": {},
   "outputs": [
    {
     "data": {
      "text/plain": [
       "array(-2.34442886)"
      ]
     },
     "execution_count": 44,
     "metadata": {},
     "output_type": "execute_result"
    }
   ],
   "source": [
    "f(3,2)"
   ]
  },
  {
   "cell_type": "code",
   "execution_count": 50,
   "metadata": {},
   "outputs": [
    {
     "data": {
      "image/png": "[encoded data removed]",
      "text/plain": [
       "<Figure size 432x288 with 2 Axes>"
      ]
     },
     "metadata": {
      "needs_background": "light"
     },
     "output_type": "display_data"
    },
    {
     "data": {
      "image/png": "[encoded data removed]",
      "text/plain": [
       "<Figure size 432x288 with 2 Axes>"
      ]
     },
     "metadata": {
      "needs_background": "light"
     },
     "output_type": "display_data"
    },
    {
     "data": {
      "image/png": "[encoded data removed]",
      "text/plain": [
       "<Figure size 432x288 with 2 Axes>"
      ]
     },
     "metadata": {
      "needs_background": "light"
     },
     "output_type": "display_data"
    },
    {
     "data": {
      "image/png": "[encoded data removed]",
      "text/plain": [
       "<Figure size 432x288 with 2 Axes>"
      ]
     },
     "metadata": {
      "needs_background": "light"
     },
     "output_type": "display_data"
    },
    {
     "data": {
      "image/png": "[encoded data removed]",
      "text/plain": [
       "<Figure size 432x288 with 2 Axes>"
      ]
     },
     "metadata": {
      "needs_background": "light"
     },
     "output_type": "display_data"
    }
   ],
   "source": [
    "for i in range(5):\n",
    "    f = fonction_exemple(*np.random.uniform(-2,2,9))\n",
    "    X = np.linspace(-3,3,50)\n",
    "    X1, X2 = np.meshgrid(X,X)\n",
    "    F = f(X1,X2)\n",
    "    levels = np.linspace(np.min(F),np.max(F),20)\n",
    "    cp = plt.contourf(X1,X2, F,levels, cmap='inferno')\n",
    "    plt.colorbar(cp)  # pratique pour voir les valeurs\n",
    "    plt.show()"
   ]
  },
  {
   "cell_type": "code",
   "execution_count": null,
   "metadata": {},
   "outputs": [],
   "source": []
  },
  {
   "cell_type": "markdown",
   "metadata": {},
   "source": [
    "Pour entraîner cette fonction sur des données il faudra calculer le gradient par rapport aux valeurs $\\w$ du coût $C(\\hat{y}(x),y)$ où $(x,y)$ est une donnée fixée. Ici on d'après l'expression précédente\n",
    "$$\\hat{y} = \\hat{y} = b^{(2)} + w^{(2)}_1 \\max(0,b^{(1)}_1 + w^{(1)}_{1,1} x_1) + w^{(1)}_{1,2} x_2) + w^{(2)}_2 \\max(0,b^{(1)}_2 + w^{(1)}_{2,1} x_1 + w^{(1)}_{2,2} x_2) $$\n",
    "les dérivées\n",
    "$$\\frac{\\partial \\hat{y}}{\\partial b^{(2)}} = 1$$\n",
    "$$\\frac{\\partial \\hat{y}}{\\partial w^{(2)}_1} = a_1 = \\max(0,b^{(1)}_1 + w^{(1)}_{1,1} x_1 + w^{(1)}_{1,2} x_2)$$\n",
    "($a_1$ ne dépend pas de $w^3_1$) et de même  \n",
    "$$\\frac{\\partial \\hat{y}}{\\partial w^{(3)}_2} = a^2 = \\max(0,b^{(1)}_2 + w^{(1)}_{2,1} x_1 + w^{(1)}_{2,2} x_2) $$\n"
   ]
  },
  {
   "cell_type": "markdown",
   "metadata": {},
   "source": [
    "La dérivée de $t \\mapsto max(0,t)$ est 0 pour $t<0$ et égale à $1$ pour $t >0$ ; on part du principe qu'on ne tombera pas sur la valeur problématique $t=0$ où cette fonction est non dérivable ! On peut noter sa dérivée\n",
    "$$ \\mathbb{1}_{t > 0} $$ d'où\n",
    "$$\\frac{\\partial \\hat{y}}{\\partial w^{(1)}_{1,1}} = w^{(2)}_1 \\times x_1 \\times  \\mathbb{1}_{b^{(1)}_1 + w^{(1)}_{1,1} x_1 >0}$$\n",
    "et\n",
    "$$\\frac{\\partial \\hat{y}}{\\partial b^{(1)}_1} =w^{(2)}_1 \\times x_1  \\times \\mathbb{1}_{b^{(1)}_1 + w^{(1)}_{1,1} x_1 >0}$$\n",
    "et procède de même pour les autres dérivées.\n",
    "Il faut alors remplacer dans \n",
    "$$\\frac{\\partial C(\\hat{y},y^i)}{\\partial w^j_k} = 2(\\hat{y}-y) \\times \\frac{\\partial \\hat{y}}{\\partial w^j_k}$$\n"
   ]
  },
  {
   "cell_type": "markdown",
   "metadata": {},
   "source": [
    "## Réseau général à couches multiples\n",
    "On note $x = a^0$ la donnée d'entrée du réseau de dimension $d^0$ (vecteur colonne) et les valeurs successives sur les $L$ couches ayant  respectivement $d^{(1)}, d^{(2)}, \\dots, d^{(L)}$ neurones,  sont déterminées récursivement pour $\\ell=1,2,\\dots,L$ par\n",
    "- $$ z^{(\\ell)} = W^{(\\ell)} a^{(\\ell-1)} + b^{\\ell}$$ où $W^{(\\ell)} \\in M_{d^{(\\ell)},d^{(\\ell-1)}} (\\R)$ est une matrice\n",
    "- $$ a^{(\\ell)} = f^{(\\ell)} (z^{(\\ell)}) $$ où $f^{\\ell}$ est une fonction de $\\R$ dans $\\R$ qui est appliquée coordonnée par coordonnée sur le vecteur $z^{(\\ell)}$."
   ]
  },
  {
   "cell_type": "markdown",
   "metadata": {},
   "source": [
    "schéma"
   ]
  },
  {
   "cell_type": "markdown",
   "metadata": {},
   "source": [
    "Remarques :\n",
    "  - la valeur d'entrée du réseau est $x = a^0$, la valeur de sortie est $\\hat{y} = a^L$ (souvent de dimension 1 mais pas toujours)\n",
    "  - les vecteurs $a^{\\ell}$ sont les *activités* successives des couches de neurones, il sont obtenus en appliquant une *fonction d'activité* $f^{\\ell}$ aux *pré-activités* $z^L$ \n",
    "  - les pré-activités $z^\\ell$ sont des combinaisons affines des activités $a^{\\ell-1}$, combinaisons dont les coefficients multiplicateurs sont les dans la matrice $W^{\\ell}$ et les termes additifs, le vecteur de biais $b^{\\ell}$.\n",
    "  - la couche $\\ell=1$ est dite *couche d'entrée*, la couche $\\ell=L$ la *couche des sortie*, les autres couches de neurones sont les *couches cachées*. On parle d'apprentissage profond dès qu'il y une ou plusieurs couches cachées."
   ]
  },
  {
   "cell_type": "markdown",
   "metadata": {},
   "source": [
    "### Classe pour l'implémentation"
   ]
  },
  {
   "cell_type": "markdown",
   "metadata": {},
   "source": [
    "## Algorithme de rétropropagation"
   ]
  },
  {
   "cell_type": "markdown",
   "metadata": {},
   "source": [
    "### Rappel sur la règles des dérivées chaînées, graphe de calcul\n",
    "\n",
    "cas simple\n",
    "\n",
    "cas avec branchements\n",
    "\n",
    "(formulation avec les différentielles ?)"
   ]
  },
  {
   "cell_type": "markdown",
   "metadata": {},
   "source": [
    "### Cas où tout est en dimension 1."
   ]
  },
  {
   "cell_type": "code",
   "execution_count": null,
   "metadata": {},
   "outputs": [],
   "source": []
  }
 ],
 "metadata": {
  "kernelspec": {
   "display_name": "Python 3",
   "language": "python",
   "name": "python3"
  },
  "language_info": {
   "codemirror_mode": {
    "name": "ipython",
    "version": 3
   },
   "file_extension": ".py",
   "mimetype": "text/x-python",
   "name": "python",
   "nbconvert_exporter": "python",
   "pygments_lexer": "ipython3",
   "version": "3.7.6"
  },
  "toc": {
   "base_numbering": 1,
   "nav_menu": {},
   "number_sections": true,
   "sideBar": true,
   "skip_h1_title": true,
   "title_cell": "Table of Contents",
   "title_sidebar": "Contents",
   "toc_cell": false,
   "toc_position": {},
   "toc_section_display": true,
   "toc_window_display": false
  }
 },
 "nbformat": 4,
 "nbformat_minor": 4
}
