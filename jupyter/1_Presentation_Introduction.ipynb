{
 "cells": [
  {
   "cell_type": "markdown",
   "metadata": {
    "slideshow": {
     "slide_type": "slide"
    }
   },
   "source": [
    "# Réseaux de Neurones et Classification\n",
    "David Auger  \n",
    "*david.auger@uvsq.fr*\n",
    "\n",
    "<img src=\"images/david.jpeg\" width=200 alt=\"logo david-lab\" align=\"left\"/> <img src=\"images/uvsq.jpg\" width=200 alt=\"logo uvsq\" align=\"left\">"
   ]
  },
  {
   "cell_type": "markdown",
   "metadata": {
    "slideshow": {
     "slide_type": "subslide"
    }
   },
   "source": [
    "# Plan du cours (en construction)\n",
    "1. Introduction\n",
    "  * L'apprentissage automatique : les différents types d'apprentissage\n",
    "  * Ressources\n",
    "  * Pré-requis mathématiques  \n",
    "1. Apprentissage supervisé\n",
    "  * présentation d'ensemble\n",
    "  * Modèle général"
   ]
  },
  {
   "cell_type": "markdown",
   "metadata": {
    "slideshow": {
     "slide_type": "subslide"
    }
   },
   "source": [
    "3. Problèmes de régression\n",
    "  * Regression linéaire\n",
    "  * Regression polynomiale\n",
    "  * Sur et sous-adaptation  \n",
    "3. Problèmes de classification\n",
    "  * Le perceptron\n",
    "  * machines à support de vecteurs \n",
    "  * plus proches voisins  \n",
    "3. *ensuite et peut-être* : en vrac réseaux de neurones, techniques de validation, regularisation"
   ]
  },
  {
   "cell_type": "markdown",
   "metadata": {
    "slideshow": {
     "slide_type": "slide"
    }
   },
   "source": [
    "***\n",
    "# L'Apprentissage Automatique ou *Machine Learning*\n",
    "## Trois grands types de problèmes\n",
    "1. Apprentissage supervisé\n",
    "2. Apprentissage non supervisé\n",
    "3. Apprentissage par renforcement"
   ]
  },
  {
   "cell_type": "markdown",
   "metadata": {
    "slideshow": {
     "slide_type": "subslide"
    }
   },
   "source": [
    "## 1) Apprentissage Supervisé : apprendre à faire des *prédictions* sur la base d'exemples\n",
    "\n",
    "Exemples de tâches d'apprentissage supervisé :\n",
    "1. Identifier un animal sur une photo\n",
    "1. Identifier un chiffre manuscrit sur un document\n",
    "1. Prédire si un email est un spam ou non \n"
   ]
  },
  {
   "cell_type": "markdown",
   "metadata": {
    "slideshow": {
     "slide_type": "subslide"
    }
   },
   "source": [
    "4. Prédire, étant donné l’état du marché aujourd’hui, la valeur une valeur boursière pour le lendemain\n",
    "1. Prédire, étant donné le dossier scolaire d’un étudiant au lycée, quelle note il obtenir au bac en maths ?\n",
    "1. Prédire, étant données les évaluations passées d’un utilisateur de streaming sur les films qu’il a vu, la note qu'il mettra à un nouveau film qu’on lui propose ?\n"
   ]
  },
  {
   "cell_type": "markdown",
   "metadata": {
    "slideshow": {
     "slide_type": "fragment"
    }
   },
   "source": [
    "\n",
    "Les tâches 1,2,3 sont des problèmes de classification (étiquette discrète : oui/non, 0,1,2,...)  \n",
    "Les tâches 4,5,6 sont des problèmes de régression (étiquette continue : un nombre réel)"
   ]
  },
  {
   "cell_type": "markdown",
   "metadata": {
    "slideshow": {
     "slide_type": "subslide"
    }
   },
   "source": [
    "Dans le cadre de l'apprentissage supervisé, on a un jeu données $x^i$ et d'étiquettes/cibles $y^i$ correspondantes.\n",
    "\n",
    "$$x^1 = (x^1_1, x^1_2, \\cdots) \\longrightarrow y^1$$\n",
    "$$x^2 = (x^1_1, x^1_2, \\cdots) \\longrightarrow y^2$$\n",
    "$$\\dots$$\n",
    "\n",
    "Ce sont les données d'entraînement (*training*) sur lesquels l'algorithme\n",
    "va apprendre.\n",
    "On cherche à prédire $y$ pour une nouvelle donnée $x=(x_1,x_2, \\cdots)$ de forme similaire à l'*échantillon* d'apprentissage.\n",
    "\n"
   ]
  },
  {
   "cell_type": "markdown",
   "metadata": {
    "slideshow": {
     "slide_type": "subslide"
    }
   },
   "source": [
    "*Exemple* \n"
   ]
  },
  {
   "cell_type": "code",
   "execution_count": 1,
   "metadata": {
    "slideshow": {
     "slide_type": "fragment"
    }
   },
   "outputs": [
    {
     "name": "stdout",
     "output_type": "stream",
     "text": [
      "dict_keys(['data', 'target', 'target_names', 'DESCR', 'feature_names', 'filename'])\n",
      "\n",
      " ['sepal length (cm)', 'sepal width (cm)', 'petal length (cm)', 'petal width (cm)']\n"
     ]
    }
   ],
   "source": [
    "from sklearn import datasets\n",
    "import sklearn as sk\n",
    "import numpy as np\n",
    "\n",
    "dtset = datasets.load_iris()\n",
    "print(dtset.keys())\n",
    "print(\"\\n\",dtset['feature_names'])"
   ]
  },
  {
   "cell_type": "code",
   "execution_count": 2,
   "metadata": {
    "slideshow": {
     "slide_type": "subslide"
    }
   },
   "outputs": [
    {
     "name": "stdout",
     "output_type": "stream",
     "text": [
      "[[5.1 3.5 1.4 0.2]\n",
      " [4.9 3.  1.4 0.2]\n",
      " [4.7 3.2 1.3 0.2]\n",
      " [4.6 3.1 1.5 0.2]\n",
      " [5.  3.6 1.4 0.2]]\n",
      "\n",
      " ['setosa' 'versicolor' 'virginica']\n",
      "[0 0 0 0 0]\n",
      "[2 2 2 2 2]\n"
     ]
    }
   ],
   "source": [
    "print(dtset['data'][:5])\n",
    "\n",
    "print(\"\\n\",dtset['target_names'])\n",
    "print(dtset['target'][:5])\n",
    "print(dtset['target'][-5:])"
   ]
  },
  {
   "cell_type": "code",
   "execution_count": 8,
   "metadata": {
    "slideshow": {
     "slide_type": "subslide"
    }
   },
   "outputs": [
    {
     "data": {
      "text/plain": [
       "KNeighborsClassifier(algorithm='auto', leaf_size=30, metric='minkowski',\n",
       "                     metric_params=None, n_jobs=None, n_neighbors=5, p=2,\n",
       "                     weights='uniform')"
      ]
     },
     "execution_count": 8,
     "metadata": {},
     "output_type": "execute_result"
    }
   ],
   "source": [
    "indices = np.random.permutation(len(dtset['data']))\n",
    "X = dtset['data'][indices]   \n",
    "y = dtset['target'][indices]  \n",
    "from sklearn.neighbors import KNeighborsClassifier\n",
    "knn = KNeighborsClassifier()\n",
    "knn.fit(X[5:], y[5:]) #on retire les 5 premiers"
   ]
  },
  {
   "cell_type": "code",
   "execution_count": 10,
   "metadata": {
    "slideshow": {
     "slide_type": "fragment"
    }
   },
   "outputs": [
    {
     "data": {
      "text/plain": [
       "(array([1, 0, 0, 2, 1]), array([1, 0, 0, 2, 1]))"
      ]
     },
     "execution_count": 10,
     "metadata": {},
     "output_type": "execute_result"
    }
   ],
   "source": [
    "knn.predict(X[:5]), y[:5]"
   ]
  },
  {
   "cell_type": "markdown",
   "metadata": {
    "slideshow": {
     "slide_type": "slide"
    }
   },
   "source": [
    "## 2) Apprentissage non supervisé : trouver une structure sur les données\n",
    "Exemples de tâches d'apprentissage non supervisé :\n",
    "1. le *clustering*  ou *partionnement* consiste à regrouper les données en sous-ensembles suivant certains critères. Exemples :\n",
    "  * identifier des communautés sur un réseau social\n",
    "  * identififier les groupes de clients ayant un comportement similaire (*segmentation de marché*)\n",
    "  * *compresser* des images en regroupant des pixels similaires\n",
    "  * identifier les symptômes secondaires d'une maladie\n"
   ]
  },
  {
   "cell_type": "markdown",
   "metadata": {
    "slideshow": {
     "slide_type": "subslide"
    }
   },
   "source": [
    "2. La *réduction de dimension* consiste à éliminer dans des données les caractéristiques les moins significatives pour un problème, ou bien d'obtenir plus généralement une représentation de dimension inférieure, afin d'obtenir un problème d'une dimension que l'on sait mieux gérer."
   ]
  },
  {
   "cell_type": "code",
   "execution_count": null,
   "metadata": {
    "slideshow": {
     "slide_type": "subslide"
    }
   },
   "outputs": [],
   "source": [
    "#exemples\n",
    "import matplotlib.pyplot as plt\n",
    "\n",
    "x  = dtset['data'][:,[2,3]] # longueur et largeur pétales\n",
    "y  = dtset['target']  #classe\n",
    "plt.scatter(x[:,0],x[:,1])"
   ]
  },
  {
   "cell_type": "code",
   "execution_count": null,
   "metadata": {
    "slideshow": {
     "slide_type": "subslide"
    }
   },
   "outputs": [],
   "source": [
    "#plot des vraies classes en fonction de longueur/largeur des pétales\n",
    "couleurs = np.array(['Red','green','blue'])\n",
    "plt.scatter(x[:,0],x[:,1], c=couleurs[y])"
   ]
  },
  {
   "cell_type": "code",
   "execution_count": null,
   "metadata": {
    "slideshow": {
     "slide_type": "subslide"
    }
   },
   "outputs": [],
   "source": [
    "#algorithme de clustering k-means\n",
    "from sklearn import cluster\n",
    "modele = sk.cluster.KMeans(n_clusters=3)\n",
    "modele.fit(x)\n",
    "plt.scatter(x[:,0],x[:,1], c=couleurs[ modele.labels_ ])"
   ]
  },
  {
   "cell_type": "markdown",
   "metadata": {
    "slideshow": {
     "slide_type": "slide"
    }
   },
   "source": [
    "## 3) Apprentissage par renforcement\n",
    "Exemples de tâches d'apprentissage par renforcement :\n",
    "\n",
    "1. Apprendre une stratégie optimale dans un jeu (échecs, go, backgammon, tetris, mario...) tout en jouant au jeu.\n",
    "1. Apprendre à conduire/garder en équilibre/manoeuvrer un robot dans un nouvel environnement\n",
    "\n"
   ]
  },
  {
   "cell_type": "markdown",
   "metadata": {
    "slideshow": {
     "slide_type": "fragment"
    }
   },
   "source": [
    "Vois les cours **Théorie algorithmique des jeux et apprentissage par renforcement** (PC) puis **Intelligence Artificielle et Jeux** (DA)"
   ]
  },
  {
   "cell_type": "markdown",
   "metadata": {
    "slideshow": {
     "slide_type": "slide"
    }
   },
   "source": [
    "# Outils de programmation utilisés dans le cours\n",
    "\n",
    "## 1) *python3* dans *jupyter* notebook (feuille de calcul)\n",
    "\n",
    "<img src=\"images/python3.jpg\" width=200 alt=\"logo python\">"
   ]
  },
  {
   "cell_type": "code",
   "execution_count": 1,
   "metadata": {
    "scrolled": true,
    "slideshow": {
     "slide_type": "subslide"
    }
   },
   "outputs": [
    {
     "name": "stdout",
     "output_type": "stream",
     "text": [
      "0\n",
      "1\n",
      "4\n",
      "9\n",
      "16\n",
      "25\n",
      "36\n",
      "49\n",
      "64\n",
      "81\n"
     ]
    }
   ],
   "source": [
    "for i in range(10):\n",
    "    print(i**2,)"
   ]
  },
  {
   "cell_type": "code",
   "execution_count": 2,
   "metadata": {
    "slideshow": {
     "slide_type": "subslide"
    }
   },
   "outputs": [],
   "source": [
    "def f(a,b):\n",
    "    print(\"hello\")\n",
    "    return a+b"
   ]
  },
  {
   "cell_type": "code",
   "execution_count": 3,
   "metadata": {
    "slideshow": {
     "slide_type": "fragment"
    }
   },
   "outputs": [
    {
     "name": "stdout",
     "output_type": "stream",
     "text": [
      "hello\n"
     ]
    },
    {
     "data": {
      "text/plain": [
       "7"
      ]
     },
     "execution_count": 3,
     "metadata": {},
     "output_type": "execute_result"
    }
   ],
   "source": [
    "f(3,4)"
   ]
  },
  {
   "cell_type": "markdown",
   "metadata": {
    "slideshow": {
     "slide_type": "slide"
    }
   },
   "source": [
    "**installation** de python3 et jupyter : de préférence installer la distribution *Anaconda* qui contiendra python3, jupyter et les libraires scientifiques utilisées dans le cours.  \n",
    "https://www.anaconda.com/products/individual"
   ]
  },
  {
   "cell_type": "markdown",
   "metadata": {
    "slideshow": {
     "slide_type": "slide"
    }
   },
   "source": [
    "## 2) numpy : bibliothèque python pour le calcul numérique sur données / vecteurs / matrices  \n",
    "<img src=\"images/numpy.png\" width=200 alt=\"logo numpy\" text-align=\"center\">\n",
    "(déjà installé dans Anaconda)   \n",
    "\n",
    "tuto introductif : https://numpy.org/doc/stable/user/quickstart.html"
   ]
  },
  {
   "cell_type": "code",
   "execution_count": 4,
   "metadata": {
    "slideshow": {
     "slide_type": "subslide"
    }
   },
   "outputs": [
    {
     "name": "stdout",
     "output_type": "stream",
     "text": [
      "[ 0  1  2  3  4  5  6  7  8  9 10 11 12 13 14 15 16 17 18 19]\n"
     ]
    }
   ],
   "source": [
    "import numpy as np\n",
    "tab = np.arange(20)\n",
    "print(tab)"
   ]
  },
  {
   "cell_type": "code",
   "execution_count": 5,
   "metadata": {
    "slideshow": {
     "slide_type": "fragment"
    }
   },
   "outputs": [
    {
     "name": "stdout",
     "output_type": "stream",
     "text": [
      "[[ 0  1  2  3  4]\n",
      " [ 5  6  7  8  9]\n",
      " [10 11 12 13 14]\n",
      " [15 16 17 18 19]]\n"
     ]
    }
   ],
   "source": [
    "#changement de dimensions\n",
    "tab = tab.reshape(4,5)\n",
    "print(tab)"
   ]
  },
  {
   "cell_type": "code",
   "execution_count": 6,
   "metadata": {
    "slideshow": {
     "slide_type": "subslide"
    }
   },
   "outputs": [
    {
     "name": "stdout",
     "output_type": "stream",
     "text": [
      "[[  0   1   4   9  16]\n",
      " [ 25  36  49  64  81]\n",
      " [100 121 144 169 196]\n",
      " [225 256 289 324 361]]\n"
     ]
    }
   ],
   "source": [
    "#operations et fonctions applicables sur tous les éléments\n",
    "print(tab**2)"
   ]
  },
  {
   "cell_type": "code",
   "execution_count": 7,
   "metadata": {
    "slideshow": {
     "slide_type": "fragment"
    }
   },
   "outputs": [
    {
     "data": {
      "text/plain": [
       "array([[ 0,  4],\n",
       "       [ 5,  9],\n",
       "       [10, 14],\n",
       "       [15, 19]])"
      ]
     },
     "execution_count": 7,
     "metadata": {},
     "output_type": "execute_result"
    }
   ],
   "source": [
    "#extrations\n",
    "tab[:,[0,4]]"
   ]
  },
  {
   "cell_type": "markdown",
   "metadata": {
    "slideshow": {
     "slide_type": "slide"
    }
   },
   "source": [
    "## 4) matplotlib : bibliothèque python pour les graphiques\n",
    "<img src=\"images/plot.svg\" width=200 alt=\"logo matplotlib\">\n",
    "(déjà installé dans Anaconda)   voir exemple plus haut \n",
    "\n",
    "https://matplotlib.org/3.3.2/tutorials/index.html"
   ]
  },
  {
   "cell_type": "markdown",
   "metadata": {
    "slideshow": {
     "slide_type": "slide"
    }
   },
   "source": [
    "## 3) scikit-learn : bibliothèque python pour l'apprentissage automatique\n",
    "<img src=\"images/scikit.png\" width=200 alt=\"logo scikit\">\n",
    "(déjà installé dans Anaconda) voir exemples plus haut  \n",
    "\n",
    "https://scikit-learn.org/stable/tutorial/basic/tutorial.html"
   ]
  },
  {
   "cell_type": "markdown",
   "metadata": {
    "slideshow": {
     "slide_type": "subslide"
    }
   },
   "source": [
    "<img src=\"images/ml_map.png\" width=100% alt=\"carte ML scikit-learn\">"
   ]
  },
  {
   "cell_type": "markdown",
   "metadata": {
    "slideshow": {
     "slide_type": "slide"
    }
   },
   "source": [
    "## 4) pandas : bibliothèque python pour manipuler les données\n",
    "<img src=\"images/pandas.png\" width=200 alt=\"logo pandas\">\n",
    "plus adpaté que *numpy* pour la manipulation des données réelles\n",
    "(déjà installé dans Anaconda)   \n",
    "\n",
    "https://pandas.pydata.org/docs/getting_started/intro_tutorials/  \n",
    "https://pandas.pydata.org/pandas-docs/stable/user_guide/10min.html"
   ]
  },
  {
   "cell_type": "code",
   "execution_count": 10,
   "metadata": {
    "slideshow": {
     "slide_type": "subslide"
    }
   },
   "outputs": [
    {
     "data": {
      "text/html": [
       "<div>\n",
       "<style scoped>\n",
       "    .dataframe tbody tr th:only-of-type {\n",
       "        vertical-align: middle;\n",
       "    }\n",
       "\n",
       "    .dataframe tbody tr th {\n",
       "        vertical-align: top;\n",
       "    }\n",
       "\n",
       "    .dataframe thead th {\n",
       "        text-align: right;\n",
       "    }\n",
       "</style>\n",
       "<table border=\"1\" class=\"dataframe\">\n",
       "  <thead>\n",
       "    <tr style=\"text-align: right;\">\n",
       "      <th></th>\n",
       "      <th>sepallength</th>\n",
       "      <th>sepalwidth</th>\n",
       "      <th>petallength</th>\n",
       "      <th>petalwidth</th>\n",
       "      <th>class</th>\n",
       "    </tr>\n",
       "  </thead>\n",
       "  <tbody>\n",
       "    <tr>\n",
       "      <th>0</th>\n",
       "      <td>5.1</td>\n",
       "      <td>3.5</td>\n",
       "      <td>1.4</td>\n",
       "      <td>0.2</td>\n",
       "      <td>Iris-setosa</td>\n",
       "    </tr>\n",
       "    <tr>\n",
       "      <th>1</th>\n",
       "      <td>4.9</td>\n",
       "      <td>3.0</td>\n",
       "      <td>1.4</td>\n",
       "      <td>0.2</td>\n",
       "      <td>Iris-setosa</td>\n",
       "    </tr>\n",
       "    <tr>\n",
       "      <th>2</th>\n",
       "      <td>4.7</td>\n",
       "      <td>3.2</td>\n",
       "      <td>1.3</td>\n",
       "      <td>0.2</td>\n",
       "      <td>Iris-setosa</td>\n",
       "    </tr>\n",
       "    <tr>\n",
       "      <th>3</th>\n",
       "      <td>4.6</td>\n",
       "      <td>3.1</td>\n",
       "      <td>1.5</td>\n",
       "      <td>0.2</td>\n",
       "      <td>Iris-setosa</td>\n",
       "    </tr>\n",
       "    <tr>\n",
       "      <th>4</th>\n",
       "      <td>5.0</td>\n",
       "      <td>3.6</td>\n",
       "      <td>1.4</td>\n",
       "      <td>0.2</td>\n",
       "      <td>Iris-setosa</td>\n",
       "    </tr>\n",
       "    <tr>\n",
       "      <th>...</th>\n",
       "      <td>...</td>\n",
       "      <td>...</td>\n",
       "      <td>...</td>\n",
       "      <td>...</td>\n",
       "      <td>...</td>\n",
       "    </tr>\n",
       "    <tr>\n",
       "      <th>145</th>\n",
       "      <td>6.7</td>\n",
       "      <td>3.0</td>\n",
       "      <td>5.2</td>\n",
       "      <td>2.3</td>\n",
       "      <td>Iris-virginica</td>\n",
       "    </tr>\n",
       "    <tr>\n",
       "      <th>146</th>\n",
       "      <td>6.3</td>\n",
       "      <td>2.5</td>\n",
       "      <td>5.0</td>\n",
       "      <td>1.9</td>\n",
       "      <td>Iris-virginica</td>\n",
       "    </tr>\n",
       "    <tr>\n",
       "      <th>147</th>\n",
       "      <td>6.5</td>\n",
       "      <td>3.0</td>\n",
       "      <td>5.2</td>\n",
       "      <td>2.0</td>\n",
       "      <td>Iris-virginica</td>\n",
       "    </tr>\n",
       "    <tr>\n",
       "      <th>148</th>\n",
       "      <td>6.2</td>\n",
       "      <td>3.4</td>\n",
       "      <td>5.4</td>\n",
       "      <td>2.3</td>\n",
       "      <td>Iris-virginica</td>\n",
       "    </tr>\n",
       "    <tr>\n",
       "      <th>149</th>\n",
       "      <td>5.9</td>\n",
       "      <td>3.0</td>\n",
       "      <td>5.1</td>\n",
       "      <td>1.8</td>\n",
       "      <td>Iris-virginica</td>\n",
       "    </tr>\n",
       "  </tbody>\n",
       "</table>\n",
       "<p>150 rows × 5 columns</p>\n",
       "</div>"
      ],
      "text/plain": [
       "     sepallength  sepalwidth  petallength  petalwidth           class\n",
       "0            5.1         3.5          1.4         0.2     Iris-setosa\n",
       "1            4.9         3.0          1.4         0.2     Iris-setosa\n",
       "2            4.7         3.2          1.3         0.2     Iris-setosa\n",
       "3            4.6         3.1          1.5         0.2     Iris-setosa\n",
       "4            5.0         3.6          1.4         0.2     Iris-setosa\n",
       "..           ...         ...          ...         ...             ...\n",
       "145          6.7         3.0          5.2         2.3  Iris-virginica\n",
       "146          6.3         2.5          5.0         1.9  Iris-virginica\n",
       "147          6.5         3.0          5.2         2.0  Iris-virginica\n",
       "148          6.2         3.4          5.4         2.3  Iris-virginica\n",
       "149          5.9         3.0          5.1         1.8  Iris-virginica\n",
       "\n",
       "[150 rows x 5 columns]"
      ]
     },
     "execution_count": 10,
     "metadata": {},
     "output_type": "execute_result"
    }
   ],
   "source": [
    "import pandas as pd\n",
    "data = pd.read_csv(\"datasets/iris.csv\")\n",
    "data"
   ]
  },
  {
   "cell_type": "markdown",
   "metadata": {
    "slideshow": {
     "slide_type": "slide"
    }
   },
   "source": [
    "## 5) seaborn : bibliothèque python pour manipuler et visualiser les données\n",
    "<img src=\"images/seaborn.svg\" width=200 alt=\"logo seaborn\">\n",
    "plus adpaté que *numpy* pour la manipulation des données réelles\n",
    "(déjà installé dans Anaconda)   \n",
    "\n",
    "https://seaborn.pydata.org/tutorial.html"
   ]
  },
  {
   "cell_type": "code",
   "execution_count": 12,
   "metadata": {
    "slideshow": {
     "slide_type": "subslide"
    }
   },
   "outputs": [
    {
     "data": {
      "text/plain": [
       "<seaborn.axisgrid.PairGrid at 0x7f85c81708e0>"
      ]
     },
     "execution_count": 12,
     "metadata": {},
     "output_type": "execute_result"
    },
    {
     "data": {
      "image/png": "[encoded data removed]",
      "text/plain": [
       "<Figure size 720x720 with 20 Axes>"
      ]
     },
     "metadata": {
      "needs_background": "light"
     },
     "output_type": "display_data"
    }
   ],
   "source": [
    "import seaborn as sns\n",
    "sns.pairplot(data)"
   ]
  },
  {
   "cell_type": "markdown",
   "metadata": {
    "slideshow": {
     "slide_type": "slide"
    }
   },
   "source": [
    "## 6) pytorch : bibliothèque python pour les réseaux de neurones\n",
    "<img src=\"images/pytorch.png\" width=200 alt=\"logo pytorch\">\n",
    "installation : voir plus tard\n",
    "\n",
    "https://pytorch.org/tutorials/beginner/deep_learning_60min_blitz.html"
   ]
  },
  {
   "cell_type": "markdown",
   "metadata": {
    "slideshow": {
     "slide_type": "slide"
    }
   },
   "source": [
    "# Ressources de données pour l'apprentissage supervisé\n",
    "*  **scikit-learn** contient déjà des jeux de données\n",
    "* **Kaggle** https://www.kaggle.com/\n",
    "* **Université de Californie** http://www.ics.uci.edu/~mlearn/MLRepository.html"
   ]
  },
  {
   "cell_type": "markdown",
   "metadata": {
    "slideshow": {
     "slide_type": "subslide"
    }
   },
   "source": [
    "# Ressources sur l'apprentissage automatique\n",
    "(pas les ressources officielles du cours, je pioche dans divers endroits, mais bonnes références)\n",
    "\n",
    "1. Livres\n",
    "  * *machine-learning-avec-scikit-learn*, Aurélien Géron  \n",
    "  (très axé sur la pratique et le code)  \n",
    "  https://www.dunod.com/sciences-techniques/machine-learning-avec-scikit-learn-mise-en-oeuvre-et-cas-concrets-0\n",
    "  *  *An Introduction to Statistical Learning with Applications in R*,  Gareth James, Daniela Witten, Trevor Hastie and Robert Tibshirani  \n",
    "  (axé statistique avec beaucoup d'exemples)  \n",
    "  http://faculty.marshall.usc.edu/gareth-james/ISL/ISLR%20Seventh%20Printing.pdf\n"
   ]
  },
  {
   "cell_type": "markdown",
   "metadata": {
    "slideshow": {
     "slide_type": "subslide"
    }
   },
   "source": [
    "  * *Learning from data: a short course*, Yaser S. Abu-Mostafa, Malik Magdon-Ismail, Hsuan-Tien Lin  \n",
    "  (très bien pour prendre du recul)  \n",
    "  http://amlbook.com/\n",
    "  * *Understanding Machine Learning: From Theory to Algorithms*, Shai Shalev-Shwartz, Shai Ben-David  \n",
    "  (développe les questions autour de 'qu'est-ce qu'apprendre')  \n",
    "  https://www.cs.huji.ac.il/~shais/UnderstandingMachineLearning/understanding-machine-learning-theory-algorithms.pdf\n",
    "  *  *L'apprentissage profond*, Ian Goodfellow, Yoshua Bengio, Aaron Courville, Francis Bach  \n",
    "  (un peu difficile à lire mais une référence)  \n",
    "  https://www.apprentissageprofond.org/\n",
    "  "
   ]
  },
  {
   "cell_type": "markdown",
   "metadata": {
    "slideshow": {
     "slide_type": "subslide"
    }
   },
   "source": [
    "2. Cours sur YouTube\n",
    "    * Cours de Caltech, Yaser Abu-Mostafa  \n",
    "    https://www.youtube.com/playlist?list=PLD63A284B7615313A\n",
    "    * Cours de Stanford, Andrew Ng  \n",
    "    https://www.youtube.com/playlist?list=PLoROMvodv4rMiGQp3WXShtMGgzqpfVfbU\n",
    "    * Cours de Waterloo (Canada), Shai Ben-David  \n",
    "    https://www.youtube.com/playlist?list=PLFze15KrfxbH8SE4FgOHpMSY1h5HiRLMm\n",
    "    \n",
    "    "
   ]
  },
  {
   "cell_type": "code",
   "execution_count": null,
   "metadata": {},
   "outputs": [],
   "source": []
  }
 ],
 "metadata": {
  "celltoolbar": "Diaporama",
  "kernelspec": {
   "display_name": "Python 3",
   "language": "python",
   "name": "python3"
  },
  "language_info": {
   "codemirror_mode": {
    "name": "ipython",
    "version": 3
   },
   "file_extension": ".py",
   "mimetype": "text/x-python",
   "name": "python",
   "nbconvert_exporter": "python",
   "pygments_lexer": "ipython3",
   "version": "3.8.5"
  }
 },
 "nbformat": 4,
 "nbformat_minor": 4
}
