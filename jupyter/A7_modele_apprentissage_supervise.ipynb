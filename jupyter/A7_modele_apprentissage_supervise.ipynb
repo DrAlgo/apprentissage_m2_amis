{
 "cells": [
  {
   "cell_type": "code",
   "execution_count": 1,
   "metadata": {},
   "outputs": [],
   "source": [
    "import numpy as np\n",
    "from matplotlib import pyplot as plt\n",
    "from matplotlib.colors import ListedColormap\n",
    "import sklearn as sk\n",
    "from sklearn.linear_model import LinearRegression\n",
    "import sklearn.datasets"
   ]
  },
  {
   "cell_type": "markdown",
   "metadata": {
    "slideshow": {
     "slide_type": "slide"
    }
   },
   "source": [
    "# Apprentissage Supervisé\n",
    "*supervised learning*"
   ]
  },
  {
   "cell_type": "markdown",
   "metadata": {
    "slideshow": {
     "slide_type": "fragment"
    }
   },
   "source": [
    "## Introduction"
   ]
  },
  {
   "cell_type": "markdown",
   "metadata": {
    "slideshow": {
     "slide_type": "fragment"
    }
   },
   "source": [
    "Pour modéliser le problème d'apprentissage on se donne:\n",
    "*  $\\cal X$ est le domaine des données $x^1, x^2, x^3 \\dots$\n",
    "*  $\\cal Y$ l'ensemble des étiquettes ou cibles $y^1, y^2, y^3 \\dots$\n",
    "On a vu qu'on cherche en général à prédire une fonction inconnue\n",
    "$$y = f(x)$$\n",
    "sur les données en fonction d'un échantillon\n",
    "$${\\cal D} = \\{(x^1,y^1), (x^2,y^2), \\dots, (x^m, y^m)\\}$$"
   ]
  },
  {
   "cell_type": "markdown",
   "metadata": {
    "slideshow": {
     "slide_type": "fragment"
    }
   },
   "source": [
    "Si les $x^i$ de l'échantillon n'ont aucune régularité il est impossible de prédire $f$ en général."
   ]
  },
  {
   "cell_type": "markdown",
   "metadata": {
    "slideshow": {
     "slide_type": "subslide"
    }
   },
   "source": [
    "### exemple en dimension 0\n",
    "On a vu (voir cours reg. linéaire 1) que les si données sont juste de la forme\n",
    "$${\\cal D} = \\{y^1, y^2, \\dots, y^m\\},$$\n",
    "correspondant par exemple aux âges d'étudiants en M2,\n",
    "alors la valeur constante qui approxime le mieux ces données au sens des moindres carrés est la moyenne\n",
    "$$\\bar{y} = \\frac{1}{m} \\sum_{i=1}^m y^i$$"
   ]
  },
  {
   "cell_type": "markdown",
   "metadata": {
    "slideshow": {
     "slide_type": "subslide"
    }
   },
   "source": [
    "Exemple : ${\\cal X} = [0,1]$ et $ f(x) = 1$ si $x \\geq \\frac{1}{2}$, $f(x)=0$ sinon  \n",
    "(problème de classification)"
   ]
  },
  {
   "cell_type": "code",
   "execution_count": 2,
   "metadata": {
    "slideshow": {
     "slide_type": "fragment"
    }
   },
   "outputs": [
    {
     "data": {
      "image/png": "[encoded data removed]",
      "text/plain": [
       "<Figure size 432x288 with 1 Axes>"
      ]
     },
     "metadata": {
      "needs_background": "light"
     },
     "output_type": "display_data"
    }
   ],
   "source": [
    "f = lambda x: 1 if x >= 0.5 else 0 ; f= np.vectorize(f)\n",
    "Xlin= np.linspace(0,1,100)\n",
    "plt.plot(Xlin,f(Xlin))\n",
    "plt.show()\n"
   ]
  },
  {
   "cell_type": "markdown",
   "metadata": {
    "slideshow": {
     "slide_type": "subslide"
    }
   },
   "source": [
    "Si les $x^i$ de l'échantillon n'ont aucune régularité il est impossible de prédire $f$ en général.\n"
   ]
  },
  {
   "cell_type": "code",
   "execution_count": 3,
   "metadata": {
    "slideshow": {
     "slide_type": "fragment"
    }
   },
   "outputs": [
    {
     "data": {
      "image/png": "[encoded data removed]",
      "text/plain": [
       "<Figure size 432x288 with 1 Axes>"
      ]
     },
     "metadata": {
      "needs_background": "light"
     },
     "output_type": "display_data"
    }
   ],
   "source": [
    "X = np.array([0.1,0.15,0.2,0.3,0.32,0.36,.9])\n",
    "plt.plot(Xlin,f(Xlin))\n",
    "plt.scatter(X,f(X),c='red')\n",
    "plt.show()\n"
   ]
  },
  {
   "cell_type": "markdown",
   "metadata": {
    "slideshow": {
     "slide_type": "subslide"
    }
   },
   "source": [
    "Supposons que l'on cherche la fonction qui approxime au mieux ces données parmi les fonctions à seuil $g_w$ définies comme $f$ mais où $w$ est un seuil entre 0 et 1 autre que $1/2$ et que l'on sache que les données sont séparables aussi (donc que l'erreur 0 est possible).\n",
    "Un algorithme simple serait de poser pour $w$ la valeur du plus petit $x^i$ des données dont le $y^i$\n",
    "correspondant vaut 1."
   ]
  },
  {
   "cell_type": "markdown",
   "metadata": {
    "slideshow": {
     "slide_type": "fragment"
    }
   },
   "source": [
    "Dans l'exemple ci-dessus on va poser $w=0.9$.\n",
    "Supposons que l'ensemble des données test soit grand et réparti uniformément dans $[0,1]$.\n",
    "Si on tire maintenant un nouveau point au hasard uniformément dans $[0,1]$, quelle est la probabilité d'erreur  de notre prédiction ? "
   ]
  },
  {
   "cell_type": "code",
   "execution_count": 4,
   "metadata": {
    "slideshow": {
     "slide_type": "subslide"
    }
   },
   "outputs": [
    {
     "data": {
      "image/png": "[encoded data removed]",
      "text/plain": [
       "<Figure size 432x288 with 1 Axes>"
      ]
     },
     "metadata": {
      "needs_background": "light"
     },
     "output_type": "display_data"
    }
   ],
   "source": [
    "g = lambda x: 1 if x >= 0.9 else 0 ; g= np.vectorize(g)\n",
    "plt.plot(Xlin,f(Xlin))\n",
    "plt.plot(Xlin,g(Xlin),c='green')\n",
    "plt.scatter(X,f(X),c='red')\n",
    "plt.show()"
   ]
  },
  {
   "cell_type": "markdown",
   "metadata": {
    "slideshow": {
     "slide_type": "fragment"
    }
   },
   "source": [
    "L'erreur moyenne au test est (pour w fixé et les données d'apprentissage précédentes)\n",
    "$$E_{x \\sim unif}(g_w(x) \\neq f(x))$$\n",
    "$$ = (0.9 - 0.5) \\times 1  = 0.4 $$"
   ]
  },
  {
   "cell_type": "markdown",
   "metadata": {
    "slideshow": {
     "slide_type": "subslide"
    }
   },
   "source": [
    "Notre but dans l'apprentissage est de minimiser cette quantité. Mais sans hypothèse de régularité supplémentaire sur les données, il n'y a pas de raison d'obtenir une erreur test petite. On fait donc l'hypothèse que **les données d'apprentissage sont obtenues par la même loi de probabilité que les données de test**, chaque $x^i$ sur le quel on fait l'apprentissage étant obtenu **de façon indépendante**."
   ]
  },
  {
   "cell_type": "markdown",
   "metadata": {
    "slideshow": {
     "slide_type": "fragment"
    }
   },
   "source": [
    "Supposons que les données d'apprentissage $x^i$ soient aussi tirés uniformément dans $[0,1]$ de façon indépendante. Alors au final l'erreur de test $E_{test}$ vaut au moins $\\delta$ si et seulement si aucun des $x^i$ n'appartient à $[\\frac{1}{2}, \\frac{1}{2} + \\delta[$, ce qui ne se produit qu'avec une probabilité de \n",
    "$$(1-\\delta)^n$$. Quel que soit delta on voit que la probabilité que l'erreur soit inférieure à $\\delta$ tend vers 1 quand $n$ grandit."
   ]
  },
  {
   "cell_type": "markdown",
   "metadata": {
    "slideshow": {
     "slide_type": "slide"
    }
   },
   "source": [
    "## Modèlisation du problème d'apprentissage"
   ]
  },
  {
   "cell_type": "markdown",
   "metadata": {
    "slideshow": {
     "slide_type": "fragment"
    }
   },
   "source": [
    "Pour modéliser le problème d'apprentissage on se donne:\n",
    "*  $\\cal X$ est le domaine des données $x^1, x^2, x^3 \\dots$\n",
    "*  $\\cal Y$ l'ensemble des étiquettes ou cibles $y^1, y^2, y^3 \\dots$\n",
    "\n",
    "On a vu qu'on cherche en général à prédire une fonction inconnue\n",
    "$$y = f(x)$$\n",
    "sur les données en fonction d'un échantillon\n",
    "$${\\cal D} = \\{(x^1,y^1), (x^2,y^2), \\dots, (x^m, y^m)\\}$$\n",
    "mais en fait il existe souvent un bruit aléatoire ou des variables inconnues qui font que plusieurs valeurs cibles $y$ sont possibles pour une même entrée $x$. On se donne donc :"
   ]
  },
  {
   "cell_type": "markdown",
   "metadata": {
    "slideshow": {
     "slide_type": "subslide"
    }
   },
   "source": [
    "*  $\\mathbb P$ est une loi de probabilité sur $\\cal X \\times Y$  \n",
    "\n",
    "$\\mathbb P$ permet de déterminer de façon aléatoire un échantillon $(x,y)$. On supposera que l'échantillon des $m$ données sur lequel on veut faire l'apprentissage \n",
    "$${\\cal D} = \\{(x^1,y^1), (x^2,y^2), \\dots, (x^m, y^m)\\}$$\n",
    "est constitué de **$m$ tirages indépendants** selon la probabilité $\\mathbb P$ ; les données test sur lesquels on va mesure la qualité de l'apprentissage **seront aussi déterminées par $\\mathbb P$**.\n",
    "\n",
    "Remarque : on fait l'hypothèse que $\\mathbb P$ existe mais cette distribution est inconnue, sinon le problème d'appretnissage serait résolu !"
   ]
  },
  {
   "cell_type": "markdown",
   "metadata": {
    "slideshow": {
     "slide_type": "subslide"
    }
   },
   "source": [
    "Le but de l'apprentissage supervisé est alors, étant donné un échantillon $\\cal D$ de $m$ données d'apprentissage, d'approximer au mieux pour tout $x \\in \\cal X$ la distribution\n",
    "$${\\mathbb P}(y | x)$$\n",
    "Pour obtenir une valeur fixe de prédiction à partir de ${\\mathbb P}(y | x)$ on peut alors poser (en classification)\n",
    "$$g(x) = \\text{argmax}_y {\\mathbb P}(y | x)$$\n",
    "ou bien en régression si cela a un sens\n",
    "$$g(x) = E(y | x)$$\n",
    "de sorte que la distribution ${\\mathbb P}(y | x)$ soit de la forme d'une variable aléatoire\n",
    "$$g(x) + \\text{bruit}$$\n",
    "où le bruit est une variable aléatoire d'espérance nulle."
   ]
  },
  {
   "cell_type": "markdown",
   "metadata": {
    "slideshow": {
     "slide_type": "slide"
    }
   },
   "source": [
    "## L'algorithme d'apprentissage"
   ]
  },
  {
   "cell_type": "markdown",
   "metadata": {
    "slideshow": {
     "slide_type": "fragment"
    }
   },
   "source": [
    "Etant donné un problème formulé comme ci-dessus, un algorithme d'apprentissage est constitué :\n",
    "*  d'un ensemble $\\cal H$ de fonctions $h : \\cal X \\rightarrow \\cal Y$ appelées **hypothèses**\n",
    "*  d'un algorithme qui à partir de données $\\cal D$ détermine une fonction particulière $g \\in \\cal H$ comme solution du problème d'apprentissage."
   ]
  },
  {
   "cell_type": "markdown",
   "metadata": {
    "slideshow": {
     "slide_type": "fragment"
    }
   },
   "source": [
    "Pour évaluer la qualité de la solution on se donne une fonction de coût\n",
    "$$\\ell : \\cal Y \\times \\cal Y \\rightarrow \\mathbb R^+$$\n",
    "afin de mesurer l'écart $\\ell(g(x),y)$ entre la prédiction $g(x)$ et la valeur cible $y$.  \n",
    "(par exemple $\\ell(y,y') = |y-y'|^2$ , coût quadratique, ou $\\ell(y,y')={\\mathbb 1}_{y \\neq y'}$ coût 0-1)."
   ]
  },
  {
   "cell_type": "markdown",
   "metadata": {
    "slideshow": {
     "slide_type": "subslide"
    }
   },
   "source": [
    "On distingue l'erreur d'apprentissage ou erreur empirique\n",
    "$$\\text{Err_app} = \\frac{1}{m} \\sum_{i=1}^m \\ell(g(x^i),y^i)$$\n",
    "et l'erreur en sortie, ou erreur moyenne de test,\n",
    "$$\\text{Err_test} = E(\\ell(g(x),y)$$\n",
    "où le couple $(x,y)$ est déterminé par la loi $\\mathbb P$."
   ]
  },
  {
   "cell_type": "markdown",
   "metadata": {
    "slideshow": {
     "slide_type": "fragment"
    }
   },
   "source": [
    "L'erreur test peut être évaluée par le principe de Monte-Carlo, c'est à dire en tirant au hasard (toujours suivant $\\cal P$) des nouvelles données de test et en calculant\n",
    " $$\\frac{1}{m'} \\sum_{i=1}^{m'} \\ell(g(x'^i),y'^i)$$\n"
   ]
  },
  {
   "cell_type": "markdown",
   "metadata": {
    "slideshow": {
     "slide_type": "slide"
    }
   },
   "source": [
    "## Le dilemme biais et variance\n",
    "On peut démontrer formellement qu'il n'existe pas de classe d'hypothèse d'algorithme $A$ qui vont quelle que soit la distribution cachée $\\mathbb P$ nous permettre d'obtenir  $\\text{Err_test}$ faible. On est donc onligés de se restreindre à une classe d'hypothèses $\\cal H$ pour l'apprentissage.  \n",
    "Le choix de $\\cal H$ et de l'algorithme dépend des a priori ou de la connaissance que l'on a sur les données."
   ]
  },
  {
   "cell_type": "markdown",
   "metadata": {
    "slideshow": {
     "slide_type": "fragment"
    }
   },
   "source": [
    "La classe d'hypothèse $\\cal H$ étant choisie, on ne pas faire une plus petite erreur test que\n",
    "$$\\inf_{h \\in \\cal H} E(\\ell(h(x),y)$$\n",
    "Une stratégie commune est de déterminer $h$ qui minimise l'erreur d'apprentissage\n",
    "$$\\inf_{h \\in \\cal H} \\frac{1}{m} \\sum_{i=1}^m \\ell(h(x^i),y^i)$$\n",
    "(par ex reg. linéaire) mais ce n'est pas toujours un choix optimal."
   ]
  },
  {
   "cell_type": "markdown",
   "metadata": {
    "slideshow": {
     "slide_type": "subslide"
    }
   },
   "source": [
    "Un modèle $\\cal H$ et algorithme étant fixé  \n",
    "\n",
    "Le **biais** est la qualité d'approximation du modèle, par exemple\n",
    "$$\\inf_{h \\in \\cal H} E(\\ell(h(x),y) = \\inf_{h \\in \\cal H} \\text{Err_test}(h)$$\n",
    "Plus le modèle sera complexe, plus $\\cal H$ est grand et plus le biais diminue.\n",
    "\n",
    "La **variance** est l'incertitude sur le résultat produit par le modèle, sa sensibilité aux données de départ.\n",
    "Avec un nombre de données fixé plus le modèle est complexe et plus la variance est grande et le résultat dépend fortement des données d'apprentissage spécifiques."
   ]
  },
  {
   "cell_type": "markdown",
   "metadata": {
    "slideshow": {
     "slide_type": "fragment"
    }
   },
   "source": [
    "Si le modèle est trop complexe par rapport à la quantité de données disponibles ou la nature des données, on a un risque de **suradaptation (overfitting)** où l'erreur d'apprentissage sera faible mais l'erreur test sera grande.\n",
    "\n",
    "Au contraire si le modèle n'est pas assez complexe alors le biais du modèle sera grand et l'erreur test ne pourra pas être moindre, il y a **sous-adaptation (underfitting)**."
   ]
  },
  {
   "cell_type": "markdown",
   "metadata": {
    "slideshow": {
     "slide_type": "subslide"
    }
   },
   "source": [
    "<img src=\"images/overfitting.png\" width=800>"
   ]
  },
  {
   "cell_type": "markdown",
   "metadata": {
    "slideshow": {
     "slide_type": "subslide"
    }
   },
   "source": [
    "<img src=\"images/overfitting2.png\" width=800>"
   ]
  },
  {
   "cell_type": "markdown",
   "metadata": {
    "slideshow": {
     "slide_type": "slide"
    }
   },
   "source": [
    "## Apprentissage et Test \n",
    "En pratique il est crucial quand on veut faire de l'apprentissage de garder une partie des données pour le test. Typiquement, on peut séparer les données $\\cal D$ reçues en deux sous-ensembles  \n",
    "\n",
    "*  $\\cal D_{app}$ les données d'apprentissage, par ex 2/3 des données de $\\cal D$ déterminées au hasard uniformément  \n",
    "*  $\\cal D_{test}$ le tiers restant des données. On utilise $\\cal D_{test}$ pour avoir une estimation de l'erreur de test comme expliqué plus haut.\n",
    "\n",
    "\n"
   ]
  },
  {
   "cell_type": "markdown",
   "metadata": {
    "slideshow": {
     "slide_type": "fragment"
    }
   },
   "source": [
    "scikit learn a une fonction pour ça automatiquement :"
   ]
  },
  {
   "cell_type": "code",
   "execution_count": 21,
   "metadata": {
    "slideshow": {
     "slide_type": "fragment"
    }
   },
   "outputs": [
    {
     "name": "stdout",
     "output_type": "stream",
     "text": [
      "150\n"
     ]
    }
   ],
   "source": [
    "import sklearn as sk\n",
    "from sklearn.model_selection import train_test_split\n",
    "iris = sk.datasets.load_iris()\n",
    "print(len(iris['data']))"
   ]
  },
  {
   "cell_type": "code",
   "execution_count": 16,
   "metadata": {
    "slideshow": {
     "slide_type": "subslide"
    }
   },
   "outputs": [],
   "source": [
    "X_train, X_test, Y_train, Y_test = train_test_split(iris['data'], iris['target'], test_size=0.33, random_state=42)"
   ]
  },
  {
   "cell_type": "code",
   "execution_count": 18,
   "metadata": {
    "slideshow": {
     "slide_type": "fragment"
    }
   },
   "outputs": [
    {
     "name": "stdout",
     "output_type": "stream",
     "text": [
      "[[5.7 2.9 4.2 1.3]\n",
      " [7.6 3.  6.6 2.1]\n",
      " [5.6 3.  4.5 1.5]\n",
      " [5.1 3.5 1.4 0.2]\n",
      " [7.7 2.8 6.7 2. ]]\n",
      "100\n"
     ]
    }
   ],
   "source": [
    "print(X_train[:5])\n",
    "print(len(X_train))"
   ]
  },
  {
   "cell_type": "code",
   "execution_count": 19,
   "metadata": {
    "slideshow": {
     "slide_type": "fragment"
    }
   },
   "outputs": [
    {
     "name": "stdout",
     "output_type": "stream",
     "text": [
      "[[6.1 2.8 4.7 1.2]\n",
      " [5.7 3.8 1.7 0.3]\n",
      " [7.7 2.6 6.9 2.3]\n",
      " [6.  2.9 4.5 1.5]\n",
      " [6.8 2.8 4.8 1.4]]\n",
      "50\n"
     ]
    }
   ],
   "source": [
    "print(X_test[:5])\n",
    "print(len(X_test))"
   ]
  },
  {
   "cell_type": "markdown",
   "metadata": {
    "slideshow": {
     "slide_type": "slide"
    }
   },
   "source": [
    "## Exercice\n",
    "1. Générer des données bruitées D le long d'une droite.\n",
    "2. Effectuer une regression linéaire sur D et évaluer l'erreur test (générer de nombreux points avec la même distribution et calculer l'erreur moyenne sur ces points).\n",
    "3. Faire de même en augmentant la dimension des données à la dimensions 2, 3, jusqu'à au moins 20 et tracez une courbe de l'erreur test en fonction de la dimension (complexité du modèle).\n",
    "4. Essayez de faire la même chose avec d'autres types de courbes bruitées (parabole, sinusoïde, etc.)\n",
    "5. Suivez le même procédé avec un problème de classification en 2D pour obtenir une courbe de l'erreur de test en fonction de la complexité (par ex utiliser le pocket algorithm ou utilisez un classificateur \"tout fait\" de sklearn)."
   ]
  },
  {
   "cell_type": "code",
   "execution_count": null,
   "metadata": {},
   "outputs": [],
   "source": []
  }
 ],
 "metadata": {
  "celltoolbar": "Diaporama",
  "kernelspec": {
   "display_name": "Python 3",
   "language": "python",
   "name": "python3"
  },
  "language_info": {
   "codemirror_mode": {
    "name": "ipython",
    "version": 3
   },
   "file_extension": ".py",
   "mimetype": "text/x-python",
   "name": "python",
   "nbconvert_exporter": "python",
   "pygments_lexer": "ipython3",
   "version": "3.8.5"
  },
  "toc": {
   "base_numbering": 1,
   "nav_menu": {},
   "number_sections": true,
   "sideBar": true,
   "skip_h1_title": true,
   "title_cell": "Table of Contents",
   "title_sidebar": "Contents",
   "toc_cell": false,
   "toc_position": {
    "height": "calc(100% - 180px)",
    "left": "10px",
    "top": "150px",
    "width": "339.5px"
   },
   "toc_section_display": true,
   "toc_window_display": false
  }
 },
 "nbformat": 4,
 "nbformat_minor": 4
}
