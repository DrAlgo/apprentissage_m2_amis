{
 "cells": [
  {
   "cell_type": "code",
   "execution_count": 69,
   "id": "33379fdd",
   "metadata": {},
   "outputs": [],
   "source": [
    "import gym\n",
    "import numpy as np\n",
    "import random\n",
    "import matplotlib.pyplot as plt\n",
    "import torch\n",
    "import torch.nn as nn\n",
    "from copy import deepcopy"
   ]
  },
  {
   "cell_type": "code",
   "execution_count": 70,
   "id": "5dcb362d",
   "metadata": {},
   "outputs": [],
   "source": [
    "env_cp = gym.make('CartPole-v0')"
   ]
  },
  {
   "cell_type": "code",
   "execution_count": 3,
   "id": "36e68ac7",
   "metadata": {},
   "outputs": [
    {
     "data": {
      "text/plain": [
       "Box([-4.8000002e+00 -3.4028235e+38 -4.1887903e-01 -3.4028235e+38], [4.8000002e+00 3.4028235e+38 4.1887903e-01 3.4028235e+38], (4,), float32)"
      ]
     },
     "execution_count": 3,
     "metadata": {},
     "output_type": "execute_result"
    }
   ],
   "source": [
    "env_cp.observation_space"
   ]
  },
  {
   "cell_type": "code",
   "execution_count": 4,
   "id": "ea4facda",
   "metadata": {},
   "outputs": [
    {
     "data": {
      "text/plain": [
       "array([-0.00237192,  0.04122553,  0.00393938, -0.00313801], dtype=float32)"
      ]
     },
     "execution_count": 4,
     "metadata": {},
     "output_type": "execute_result"
    }
   ],
   "source": [
    "env_cp.reset()"
   ]
  },
  {
   "cell_type": "code",
   "execution_count": 5,
   "id": "81bbfe20",
   "metadata": {},
   "outputs": [
    {
     "data": {
      "text/plain": [
       "True"
      ]
     },
     "execution_count": 5,
     "metadata": {},
     "output_type": "execute_result"
    }
   ],
   "source": [
    "env_cp.render()"
   ]
  },
  {
   "cell_type": "code",
   "execution_count": 6,
   "id": "8f6b8d9c",
   "metadata": {},
   "outputs": [],
   "source": [
    "env_cp.close()"
   ]
  },
  {
   "cell_type": "code",
   "execution_count": 7,
   "id": "2a7753d1",
   "metadata": {},
   "outputs": [
    {
     "data": {
      "text/plain": [
       "Discrete(2)"
      ]
     },
     "execution_count": 7,
     "metadata": {},
     "output_type": "execute_result"
    }
   ],
   "source": [
    "env_cp.action_space"
   ]
  },
  {
   "cell_type": "code",
   "execution_count": 71,
   "id": "3030cbb7",
   "metadata": {},
   "outputs": [],
   "source": [
    "def episode(env, agent, epsilon):\n",
    "    state = env.reset()\n",
    "    done = False\n",
    "    gain = 0\n",
    "    while not done:\n",
    "        action = agent.epsilon_greedy_action(state, epsilon )\n",
    "        state, reward, done, info = env.step(action)\n",
    "        gain += reward\n",
    "        #env.render()\n",
    "        #print(state, reward, done, info)\n",
    "    return gain\n"
   ]
  },
  {
   "cell_type": "markdown",
   "id": "0b8f57ee",
   "metadata": {},
   "source": [
    "## Approximation linéaire en numpy\n",
    "\n",
    "NB : il arrive que le q-learning converge sans le target network mais la convergence est globalement meilleure avec, expérimentalement dans ce cas avec une mise à jour tous les 10 épisodes"
   ]
  },
  {
   "cell_type": "code",
   "execution_count": 23,
   "id": "03b79323",
   "metadata": {},
   "outputs": [],
   "source": [
    "class Agent_approx_lineaire:\n",
    "    def __init__(self):\n",
    "        self.W = np.zeros((2,4))\n",
    "        self.W_fixe = np.array(self.W)\n",
    "        \n",
    "        \n",
    "    def forward(self, etat, action):\n",
    "        \"\"\"renvoie q*(etat, action) estimé\n",
    "        \"\"\"\n",
    "        #sa = np.concatenate((np.array([1]), etat))\n",
    "        sa = etat\n",
    "        return self.W_fixe.dot(sa)[action]\n",
    "        \n",
    "    \n",
    "    def backward(self, etat, action, target, alpha):\n",
    "        \"\"\" pas de gradient pour rapprocher\n",
    "        q*(etat,action) de la valeur target\n",
    "        \"\"\"\n",
    "        #sa = np.concatenate((np.array([1]), etat))\n",
    "        sa = etat\n",
    "        f = self.forward(etat, action)\n",
    "        \n",
    "        # pas de gradient\n",
    "        self.W[action] -= alpha*(f - target)*sa\n",
    "        \n",
    "        \n",
    "    def epsilon_greedy_action(self, etat, epsilon):\n",
    "        if random.random() < epsilon:\n",
    "            return random.randint(0,1)\n",
    "        else:\n",
    "            if self.forward(etat, 0) >= self.forward(etat, 1):\n",
    "                return 0\n",
    "            else:\n",
    "                return 1\n",
    "        \n",
    "        "
   ]
  },
  {
   "cell_type": "code",
   "execution_count": 29,
   "id": "c9bf6cb0",
   "metadata": {},
   "outputs": [],
   "source": [
    "def qlearning(env, agent, nb_episode, alpha, epsilon, gamma):\n",
    "    logs = []\n",
    "    \n",
    "    for t in range(nb_episode):\n",
    "        state = env.reset()\n",
    "        done = False\n",
    "        gain = 0\n",
    "        while not done:\n",
    "            action = agent.epsilon_greedy_action(state, epsilon)\n",
    "            new_state, reward, done, info = env.step(action)\n",
    "            \n",
    "            #mise a jour du qlearning\n",
    "            \n",
    "            maxi = max(agent.forward(new_state,0),agent.forward(new_state,1))\n",
    "            target = reward + gamma*maxi\n",
    "            agent.backward(state, action, target, alpha)\n",
    "            \n",
    "            gain += reward\n",
    "            state = new_state\n",
    "            \n",
    "        \n",
    "        if t %10 == 0: #meilleur après expérimentation\n",
    "           agent.W_fixe = np.array(agent.W)\n",
    "           #env.render()\n",
    "           #print(state, reward, done, info)\n",
    "        logs.append(gain)\n",
    "    return logs"
   ]
  },
  {
   "cell_type": "code",
   "execution_count": 30,
   "id": "1eb99b49",
   "metadata": {},
   "outputs": [],
   "source": [
    "def interval_average_list(tab, k):\n",
    "    return [sum(tab[i:i+k])/k for i in range(len(tab)-k)]"
   ]
  },
  {
   "cell_type": "code",
   "execution_count": 31,
   "id": "a6759d51",
   "metadata": {
    "scrolled": true
   },
   "outputs": [
    {
     "data": {
      "text/plain": [
       "[<matplotlib.lines.Line2D at 0x7f7ad5eed4c0>]"
      ]
     },
     "execution_count": 31,
     "metadata": {},
     "output_type": "execute_result"
    },
    {
     "data": {
      "image/png": "[encoded data removed]",
      "text/plain": [
       "<Figure size 432x288 with 1 Axes>"
      ]
     },
     "metadata": {
      "needs_background": "light"
     },
     "output_type": "display_data"
    }
   ],
   "source": [
    "agent = Agent_approx_lineaire()\n",
    "logs = qlearning(env_cp, agent, 40000, alpha=0.01, epsilon =0.1, gamma=0.8)\n",
    "plt.plot(interval_average_list(logs,500))"
   ]
  },
  {
   "cell_type": "code",
   "execution_count": null,
   "id": "7f9e7bc3",
   "metadata": {},
   "outputs": [],
   "source": []
  }
 ],
 "metadata": {
  "kernelspec": {
   "display_name": "Python 3 (ipykernel)",
   "language": "python",
   "name": "python3"
  },
  "language_info": {
   "codemirror_mode": {
    "name": "ipython",
    "version": 3
   },
   "file_extension": ".py",
   "mimetype": "text/x-python",
   "name": "python",
   "nbconvert_exporter": "python",
   "pygments_lexer": "ipython3",
   "version": "3.9.7"
  },
  "toc": {
   "base_numbering": 1,
   "nav_menu": {},
   "number_sections": true,
   "sideBar": true,
   "skip_h1_title": false,
   "title_cell": "Table of Contents",
   "title_sidebar": "Contents",
   "toc_cell": false,
   "toc_position": {},
   "toc_section_display": true,
   "toc_window_display": false
  }
 },
 "nbformat": 4,
 "nbformat_minor": 5
}
