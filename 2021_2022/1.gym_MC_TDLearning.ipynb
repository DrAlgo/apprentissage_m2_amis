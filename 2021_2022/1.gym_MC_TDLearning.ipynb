{
 "cells": [
  {
   "cell_type": "code",
   "execution_count": 71,
   "id": "4419d69b",
   "metadata": {},
   "outputs": [],
   "source": [
    "import gym\n",
    "import numpy as np\n",
    "import matplotlib.pyplot as plt\n",
    "from collections import defaultdict"
   ]
  },
  {
   "cell_type": "code",
   "execution_count": 72,
   "id": "d9a959f4",
   "metadata": {},
   "outputs": [],
   "source": [
    "#environnement Frozen Lake -- mettre v0 ou v1 suivant votre version\n",
    "env_fl = gym.make('FrozenLake-v1')"
   ]
  },
  {
   "cell_type": "markdown",
   "id": "84d522db",
   "metadata": {},
   "source": [
    "## Environnement maison : exemple du personnage\n",
    "On reprend l'API de gym avec les méthodes reset et step"
   ]
  },
  {
   "cell_type": "code",
   "execution_count": 74,
   "id": "08a1da60",
   "metadata": {},
   "outputs": [],
   "source": [
    "class Personnage_Env:\n",
    "    \"\"\"environnement type API gym représentant l'exemple du cours\"\"\"\n",
    "    \n",
    "    def __init__(self, R):\n",
    "        \"\"\"\n",
    "        R : paramètre de récompense de l'action 1:Récolter dans l'état 1:Affamé\n",
    "        \"\"\"\n",
    "        \n",
    "        self.observation_space = gym.spaces.Discrete(3) # 0 :OK, 1 :Affamé, 2:Mort\n",
    "        self.action_space = gym.spaces.Discrete(2)      # 0 : Manger 1 : Récolter\n",
    "        self.P = {0: {0 : [(0.8, 0, 1.0, False),\n",
    "                          (0.2, 1, 1.0, False )],\n",
    "                     1 : [(0.5, 0, 10.0, False),\n",
    "                         (0.5, 1, 10.0, False)]},\n",
    "                 1 : {0: [(0.5, 0, 0.0, False),\n",
    "                         (0.25, 1, 0.0, False),\n",
    "                         (0.25, 2, 0.0, True)],\n",
    "                     1 : [(0.5, 1, R, False),\n",
    "                         (0.5, 2, R, True)]},\n",
    "                 2 : {0 : [(1.0, 2, 0.0, True)],\n",
    "                     1 : [(1.0, 2, 0.0, True)]}}\n",
    "        self.reset()\n",
    "        \n",
    "    def reset(self):\n",
    "        self.current_state = 0\n",
    "        return self.current_state\n",
    "        \n",
    "    def step(self, action):\n",
    "        transitions = self.P[self.current_state][action]\n",
    "        \n",
    "        #indices des actions possibles\n",
    "        choices = list(range(len(transitions)))\n",
    "        \n",
    "        # probas correspondantes\n",
    "        probas = [t[0] for t in transitions]\n",
    "        \n",
    "        #choisit i dans choices suivant la proba \n",
    "        i = np.random.choice(choices, 1, p=probas)[0]\n",
    "        \n",
    "        #mise à jour\n",
    "        self.current_state = transitions[i][1]\n",
    "        return transitions[i][1], transitions[i][2], transitions[i][3],  None"
   ]
  },
  {
   "cell_type": "code",
   "execution_count": 75,
   "id": "eccac9db",
   "metadata": {},
   "outputs": [],
   "source": [
    "env_p = Personnage_Env( R = 5.0)"
   ]
  },
  {
   "cell_type": "markdown",
   "id": "a70a38f9",
   "metadata": {},
   "source": [
    "## Evaluation de la politique aléatoire uniforme"
   ]
  },
  {
   "cell_type": "code",
   "execution_count": 89,
   "id": "17e7c6d7",
   "metadata": {},
   "outputs": [],
   "source": [
    "def value_iteration_uniform_policy(env, nb_iter, gamma = 1.0, log = None):\n",
    "    \"\"\"\n",
    "    iteration de valeurs sur les états pour évaluer la politique uniforme\n",
    "    \"\"\"\n",
    "    log_list = []\n",
    "    states = list(range(env.observation_space.n))\n",
    "    actions = list(range(env.action_space.n))\n",
    "    nba = len(actions)\n",
    "\n",
    "    state_values = defaultdict(lambda :0.0)\n",
    "    \n",
    "    for t in range(nb_iter):\n",
    "        for s0 in states:\n",
    "            # pour s0 état et a0 action : env.P[s0][a0] est une liste de transitions t\n",
    "            # t[0] est la proba d'aller vers un état t[1] avec un reward t[2]\n",
    "            state_values[s0] = sum([ sum([ t[0]/ nba * (t[2] + gamma*state_values[t[1]]) for t in env.P[s0][a0]])   for a0 in env.P[s0] ])\n",
    "        if log and t%100==0:\n",
    "            log_list.append(log(state_values))       \n",
    "    return state_values, log_list"
   ]
  },
  {
   "cell_type": "markdown",
   "id": "b5ba5fba",
   "metadata": {},
   "source": [
    "Evaluation de la politique uniforme pour Personnage et FrozenLake (on peut considérer que ces valeurs sont les vraies valeurs)"
   ]
  },
  {
   "cell_type": "code",
   "execution_count": 90,
   "id": "be50a85d",
   "metadata": {},
   "outputs": [
    {
     "data": {
      "text/plain": [
       "defaultdict(<function __main__.value_iteration_uniform_policy.<locals>.<lambda>()>,\n",
       "            {0: 32.85714285714285, 1: 17.14285714285714, 2: 0.0})"
      ]
     },
     "execution_count": 90,
     "metadata": {},
     "output_type": "execute_result"
    }
   ],
   "source": [
    "true_val_p, logs_iteration = value_iteration_uniform_policy(env_p, 10000) ; true_val_p"
   ]
  },
  {
   "cell_type": "code",
   "execution_count": 82,
   "id": "b3b675b5",
   "metadata": {},
   "outputs": [],
   "source": [
    "#fonction qui calcule l'écart quadratique aux vraies valeurs\n",
    "err_quad = lambda sv : sum([(sv[s] - true_val_p[s])**2 for s in true_val_p])"
   ]
  },
  {
   "cell_type": "code",
   "execution_count": 93,
   "id": "b334a16e",
   "metadata": {},
   "outputs": [
    {
     "data": {
      "text/plain": [
       "defaultdict(<function __main__.value_iteration_uniform_policy.<locals>.<lambda>()>,\n",
       "            {0: 32.85714285714285, 1: 17.14285714285714, 2: 0.0})"
      ]
     },
     "execution_count": 93,
     "metadata": {},
     "output_type": "execute_result"
    }
   ],
   "source": [
    "true_val_p, logs_iteration = value_iteration_uniform_policy(env_p, 10000, log = err_quad) ; true_val_p"
   ]
  },
  {
   "cell_type": "markdown",
   "id": "40b285bd",
   "metadata": {},
   "source": [
    "## Evaluation politique uniforme par Monte Carlo"
   ]
  },
  {
   "cell_type": "code",
   "execution_count": 77,
   "id": "c479f94b",
   "metadata": {},
   "outputs": [],
   "source": [
    "def MC_uniform_policy(env, nb_iter, alpha, gamma, log = None):\n",
    "    \"\"\"\n",
    "    env : environnement type gym\n",
    "    nb_iter : nbre épisodes\n",
    "    alpha : fonction donnant le pas d'apprentissage sur un episode\n",
    "    gamma : discount du MDP\n",
    "    \"\"\"\n",
    "    log_list = []\n",
    "    \n",
    "    #valeurs des états\n",
    "    state_values = defaultdict(lambda :0.0)\n",
    "    \n",
    "    for t in range(nb_iter):\n",
    "        #debut d'episode\n",
    "        current_state = env.reset()\n",
    "        done = False\n",
    "        etats_vus = [current_state]\n",
    "        rewards_vus = []\n",
    "        while not done:\n",
    "            current_state, reward, done, info = env.step(env.action_space.sample())\n",
    "            etats_vus.append(current_state)\n",
    "            rewards_vus.append(reward)\n",
    "        #print(etats_vus, rewards_vus)\n",
    "        #mise a jour des valeurs par calcul des gains dans l'épisode\n",
    "        G = 0\n",
    "        for i in range(len(etats_vus)-2,-1,-1):\n",
    "            s = etats_vus[i]\n",
    "            r = rewards_vus[i]\n",
    "            G = r + gamma*G\n",
    "            \n",
    "            state_values[s] += alpha(t) * (G - state_values[s])\n",
    "            #print('t=',t,'s=',s,'r=',r,'G=',G,'val=',state_values[s])\n",
    "          \n",
    "        if log and t%100==0:\n",
    "            log_list.append(log(state_values))\n",
    "\n",
    "    return state_values, log_list\n",
    "    \n",
    "    "
   ]
  },
  {
   "cell_type": "code",
   "execution_count": 83,
   "id": "7791344a",
   "metadata": {},
   "outputs": [],
   "source": [
    "alpha_h = lambda t : 1/(t+1)\n",
    "val_mc_p, logs_mc_p = MC_uniform_policy(env_p, 10000, alpha_h, 1.0, log = err_quad)"
   ]
  },
  {
   "cell_type": "markdown",
   "id": "a9051fed",
   "metadata": {},
   "source": [
    "## Evaluation politique uniforme par TD(0)-Learning"
   ]
  },
  {
   "cell_type": "code",
   "execution_count": 79,
   "id": "db527cab",
   "metadata": {},
   "outputs": [],
   "source": [
    "def TD_uniform_policy(env, nb_iter, alpha, gamma, log = None):\n",
    "    \n",
    "    state_values = defaultdict(lambda :0.0)\n",
    "    log_list = [log(state_values)]\n",
    "    \n",
    "    for t in range(nb_iter):\n",
    "        #debut d'episode\n",
    "        current_state = env.reset()\n",
    "        done = False\n",
    "        while not done:\n",
    "            new_state, reward, done, info = env.step(env.action_space.sample())\n",
    "            state_values[current_state] += alpha(t)*(reward + gamma*state_values[new_state] - state_values[current_state])\n",
    "            current_state = new_state\n",
    "        if log and t%100==0:\n",
    "            log_list.append(log(state_values))\n",
    "    return state_values, log_list"
   ]
  },
  {
   "cell_type": "code",
   "execution_count": 84,
   "id": "8f8888f4",
   "metadata": {},
   "outputs": [],
   "source": [
    "#alpha = lambda t : min(1,100/(t+1))\n",
    "alpha = lambda t : 1/ ((t+1)**0.85)\n",
    "val_td_p, logs_td_p = TD_uniform_policy(env_p, 10000, alpha, 1.0, log = err_quad)"
   ]
  },
  {
   "cell_type": "markdown",
   "id": "f40a0185",
   "metadata": {},
   "source": [
    "## Comparaison des algorithmes sur Personnage"
   ]
  },
  {
   "cell_type": "code",
   "execution_count": 95,
   "id": "d1d505c1",
   "metadata": {},
   "outputs": [
    {
     "data": {
      "image/png": "[encoded data removed]",
      "text/plain": [
       "<Figure size 432x288 with 1 Axes>"
      ]
     },
     "metadata": {
      "needs_background": "light"
     },
     "output_type": "display_data"
    }
   ],
   "source": [
    "plt.plot(logs_iteration[10:], c='green')\n",
    "plt.plot(logs_mc_p[10:], c='red')\n",
    "plt.plot(logs_td_p[10:], c='blue')\n",
    "plt.show()"
   ]
  },
  {
   "cell_type": "code",
   "execution_count": null,
   "id": "ac946ce2",
   "metadata": {},
   "outputs": [],
   "source": []
  }
 ],
 "metadata": {
  "kernelspec": {
   "display_name": "Python 3 (ipykernel)",
   "language": "python",
   "name": "python3"
  },
  "language_info": {
   "codemirror_mode": {
    "name": "ipython",
    "version": 3
   },
   "file_extension": ".py",
   "mimetype": "text/x-python",
   "name": "python",
   "nbconvert_exporter": "python",
   "pygments_lexer": "ipython3",
   "version": "3.9.7"
  }
 },
 "nbformat": 4,
 "nbformat_minor": 5
}
