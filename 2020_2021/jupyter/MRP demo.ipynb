{
 "cells": [
  {
   "cell_type": "code",
   "execution_count": 1,
   "metadata": {},
   "outputs": [],
   "source": [
    "import numpy as np\n",
    "import matplotlib.pyplot as plt"
   ]
  },
  {
   "cell_type": "code",
   "execution_count": 2,
   "metadata": {},
   "outputs": [],
   "source": [
    "class Meteo:\n",
    "    \"\"\"classe pour representer le Markov Reward Process vu en cours\n",
    "    1-gamma est la probabilité d'aller dans l'état terminal\n",
    "    (équivalent à un discount sur les formules)\"\"\"\n",
    "    \n",
    "    def __init__(self, gamma):\n",
    "        self.state_space = [0,1,2] #0 : Beau temps, 1 : Mauvais temps, 2:Terminal\n",
    "        self.state = None\n",
    "        self.gamma = gamma\n",
    "        self.nb_states = 3\n",
    "        self.rewards = [3, 1, 0.]\n",
    "        self.transition_matrix = [[0.4*gamma,0.6*gamma, 1-gamma],\n",
    "                                  [0.3*gamma,0.7*gamma,1-gamma],\n",
    "                                  [0.,0.,1.]]\n",
    "        self.terminal = [False, False, True]\n",
    "        \n",
    "    def reset(self):\n",
    "        self.state = 0\n",
    "        return self.state\n",
    "    \n",
    "    def step(self):\n",
    "        \"\"\"effectue un pas de temps et une transition sur le modèle\n",
    "        return new_state, reward\n",
    "        \"\"\"\n",
    "        if self.terminal[self.state]:\n",
    "            raise Exception('Executer reset avant de faire un nouvel épisode')\n",
    "        probas = self.transition_matrix[self.state]\n",
    "        \n",
    "        p_cumul = 0\n",
    "        rew = self.rewards[self.state]\n",
    "        r = np.random.random()\n",
    "        for j in range(len(probas)):\n",
    "            p_cumul += probas[j]\n",
    "            if r <= p_cumul:\n",
    "                self.state = j\n",
    "                return j, rew, self.terminal[j], None"
   ]
  },
  {
   "cell_type": "code",
   "execution_count": null,
   "metadata": {},
   "outputs": [],
   "source": []
  }
 ],
 "metadata": {
  "kernelspec": {
   "display_name": "Python 3",
   "language": "python",
   "name": "python3"
  },
  "language_info": {
   "codemirror_mode": {
    "name": "ipython",
    "version": 3
   },
   "file_extension": ".py",
   "mimetype": "text/x-python",
   "name": "python",
   "nbconvert_exporter": "python",
   "pygments_lexer": "ipython3",
   "version": "3.7.6"
  },
  "toc": {
   "base_numbering": 1,
   "nav_menu": {},
   "number_sections": true,
   "sideBar": true,
   "skip_h1_title": false,
   "title_cell": "Table of Contents",
   "title_sidebar": "Contents",
   "toc_cell": false,
   "toc_position": {},
   "toc_section_display": true,
   "toc_window_display": false
  }
 },
 "nbformat": 4,
 "nbformat_minor": 4
}
