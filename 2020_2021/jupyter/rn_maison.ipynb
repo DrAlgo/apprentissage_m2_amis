{
 "cells": [
  {
   "cell_type": "code",
   "execution_count": 1,
   "metadata": {},
   "outputs": [],
   "source": [
    "import numpy as np\n",
    "from matplotlib import pyplot as plt\n",
    "import sklearn as sk\n",
    "import time\n",
    "import gym"
   ]
  },
  {
   "cell_type": "code",
   "execution_count": 2,
   "metadata": {},
   "outputs": [],
   "source": [
    "relu = lambda t:np.maximum(0,t)\n",
    "diff_relu = lambda t:1 if t >= 0 else 0\n",
    "diff_relu = np.vectorize(diff_relu)\n",
    "identite = lambda t:t\n",
    "identite_diff = lambda t:1"
   ]
  },
  {
   "cell_type": "code",
   "execution_count": 3,
   "metadata": {},
   "outputs": [],
   "source": [
    "C_quad = lambda cible: np.vectorize( lambda y: (y-cible)**2 )\n",
    "C_quad_diff = lambda cible: np.vectorize( lambda y : 2*(y-cible) )"
   ]
  },
  {
   "cell_type": "code",
   "execution_count": 112,
   "metadata": {},
   "outputs": [],
   "source": [
    "class Reseau_Neurones():\n",
    "    def __init__(self, n0):\n",
    "        self.n = [n0] #taille des couches successives -- n0 couche entrée\n",
    "        self.L = 0  #nombre de couches\n",
    "        # on utilise None en position 0 car les indices des couches commencent à 1\n",
    "        self.W = [None] #contient les matrices None, W1, W2, ... WL\n",
    "        self.b = [None] #contient les biais None, b1, b2, ... bL\n",
    "        self.fa = [None] #fonctions d'activation None, f1, f2, ... fL\n",
    "        self.diff_fa = [None] #dérivées des fa\n",
    "        \n",
    "        self.compteur_grad = 0\n",
    "        \n",
    "        \n",
    "        #stockage des valeurs activ/preactiv (passe avant)\n",
    "        self.a = None\n",
    "        self.z = None\n",
    "        \n",
    "        #stockage des gradients (passe arrière)\n",
    "        self.gw = [None]\n",
    "        self.gb = [None]\n",
    "        \n",
    "    def ajout_couche(self, n_neurones, fa, diff_fa):\n",
    "        new_W = np.random.normal(size=(n_neurones,self.n[-1]))\n",
    "        new_b = np.random.normal(size=(n_neurones,1))\n",
    "        self.n.append(n_neurones)\n",
    "        self.W.append(new_W)\n",
    "        self.gw.append(np.zeros(new_W.shape))\n",
    "        \n",
    "        self.b.append(new_b)\n",
    "        self.gb.append(np.zeros(new_b.shape))\n",
    "        \n",
    "        self.fa.append(fa)\n",
    "        self.diff_fa.append(diff_fa)\n",
    "        self.L += 1\n",
    "        assert self.L == len(self.n)-1 == len(self.W)-1 == len(self.b)-1 == len(self.fa)-1\n",
    "        \n",
    "    def propag_avant(self, x, log=True):\n",
    "        if log:\n",
    "            self.a = [x]\n",
    "            self.z = [None]\n",
    "        \n",
    "        a = x\n",
    "        for l in range(1,self.L+1):\n",
    "            z = self.W[l].dot(a) + self.b[l]\n",
    "            a = self.fa[l](z)\n",
    "            if log: \n",
    "                self.z.append(z)\n",
    "                self.a.append(a)\n",
    "        #if a.shape==(1,1):\n",
    "        return a\n",
    "    \n",
    "    def zero_gradient(self):\n",
    "        self.compteur_grad = 0\n",
    "        for l in range(1,self.L+1):\n",
    "            self.gw[l] = np.zeros(self.gw[l].shape)\n",
    "            self.gb[l] = np.zeros(self.gb[l].shape)\n",
    "            \n",
    "        \n",
    "    \n",
    "    def propag_arriere(self, diff_C):\n",
    "        \n",
    "        self.compteur_grad += 1\n",
    "        \n",
    "        ga = diff_C(self.a[self.L])\n",
    "\n",
    "     \n",
    "        \n",
    "        for l in range(self.L,0,-1):\n",
    "            #print(f\"l = {l} ga= {ga}\")\n",
    "            gz = ga * self.diff_fa[l](self.z[l])\n",
    "            #print(f\"l = {l} gz= {gz}\")\n",
    "            gw = gz.dot(self.a[l-1].T)\n",
    "            #print(f\"l = {l} gw {gw.shape} w {self.W[l].shape}\")\n",
    "            gb = np.copy(gz)\n",
    "            #print(f\"l = {l} gb= {gb}\")\n",
    "            \n",
    "            \n",
    "            self.gw[l] += np.copy(gw)\n",
    "            self.gb[l] += np.copy(gb)\n",
    "            \n",
    "            ga = self.W[l].T.dot(gz)\n",
    "            \n",
    "    def pas_gradient(self, pas, lambada = 0.001):\n",
    "        # lambada constante de regularisation\n",
    "        \n",
    "        for l in range(1,self.L+1):\n",
    "            #print(self.W[l].shape,self.gw[l].shape,\"hop\")\n",
    "            self.W[l] = (1-lambada*pas)*self.W[l] - pas/self.compteur_grad*self.gw[l]\n",
    "            self.b[l] = (1-lambada*pas)*self.b[l] - pas/self.compteur_grad*self.gb[l]\n",
    "        \n",
    "        "
   ]
  },
  {
   "cell_type": "markdown",
   "metadata": {},
   "source": [
    "# test sur valeurs numériques connues"
   ]
  },
  {
   "cell_type": "code",
   "execution_count": 64,
   "metadata": {},
   "outputs": [],
   "source": [
    "rn = Reseau_Neurones(2)\n",
    "rn.ajout_couche(3, relu, diff_relu)\n",
    "rn.ajout_couche(2, relu, diff_relu)\n",
    "rn.ajout_couche(1, identite, diff_identite)"
   ]
  },
  {
   "cell_type": "code",
   "execution_count": 65,
   "metadata": {},
   "outputs": [
    {
     "data": {
      "text/plain": [
       "[None,\n",
       " array([[ 1.71667811, -0.59984332],\n",
       "        [ 0.48764457, -1.27518196],\n",
       "        [ 1.07169724, -0.04317413]]),\n",
       " array([[ 0.48990446,  0.08995417, -0.25055634],\n",
       "        [-0.50379166,  2.33120383, -0.65065858]]),\n",
       " array([[ 0.94194131, -0.25825506]])]"
      ]
     },
     "execution_count": 65,
     "metadata": {},
     "output_type": "execute_result"
    }
   ],
   "source": [
    "rn.W"
   ]
  },
  {
   "cell_type": "code",
   "execution_count": 66,
   "metadata": {},
   "outputs": [],
   "source": [
    "rn.W = [None,\n",
    " np.array([[0, -1],[ 2, -3],\n",
    "        [ 1, -1]]),\n",
    " np.array([[ 0,  1,  -1],\n",
    "        [ 2, -2, 1]]),\n",
    " np.array([[2, -1]])]"
   ]
  },
  {
   "cell_type": "code",
   "execution_count": 67,
   "metadata": {
    "scrolled": true
   },
   "outputs": [
    {
     "data": {
      "text/plain": [
       "[None,\n",
       " array([[-1.09385109],\n",
       "        [-2.46247473],\n",
       "        [-0.27313062]]),\n",
       " array([[ 1.49174885],\n",
       "        [-0.34443263]]),\n",
       " array([[0.77158035]])]"
      ]
     },
     "execution_count": 67,
     "metadata": {},
     "output_type": "execute_result"
    }
   ],
   "source": [
    "rn.b"
   ]
  },
  {
   "cell_type": "code",
   "execution_count": 68,
   "metadata": {},
   "outputs": [],
   "source": [
    "rn.b = [None,\n",
    " np.array([[0],\n",
    "        [ 1],\n",
    "        [-1]]),\n",
    " np.array([[1],\n",
    "        [-2]]),\n",
    " np.array([[0]])]"
   ]
  },
  {
   "cell_type": "code",
   "execution_count": 69,
   "metadata": {},
   "outputs": [],
   "source": [
    "X = np.array([1,-2]).reshape((2,1))"
   ]
  },
  {
   "cell_type": "code",
   "execution_count": 70,
   "metadata": {},
   "outputs": [
    {
     "data": {
      "text/plain": [
       "16"
      ]
     },
     "execution_count": 70,
     "metadata": {},
     "output_type": "execute_result"
    }
   ],
   "source": [
    "rn.propag_avant(X)"
   ]
  },
  {
   "cell_type": "code",
   "execution_count": 71,
   "metadata": {},
   "outputs": [
    {
     "data": {
      "text/plain": [
       "[None,\n",
       " array([[2],\n",
       "        [9],\n",
       "        [2]]),\n",
       " array([[  8],\n",
       "        [-14]]),\n",
       " array([[16]])]"
      ]
     },
     "execution_count": 71,
     "metadata": {},
     "output_type": "execute_result"
    }
   ],
   "source": [
    "rn.z"
   ]
  },
  {
   "cell_type": "code",
   "execution_count": 72,
   "metadata": {},
   "outputs": [
    {
     "data": {
      "text/plain": [
       "[array([[ 1],\n",
       "        [-2]]),\n",
       " array([[2],\n",
       "        [9],\n",
       "        [2]]),\n",
       " array([[8],\n",
       "        [0]]),\n",
       " array([[16]])]"
      ]
     },
     "execution_count": 72,
     "metadata": {},
     "output_type": "execute_result"
    }
   ],
   "source": [
    "rn.a"
   ]
  },
  {
   "cell_type": "code",
   "execution_count": null,
   "metadata": {},
   "outputs": [],
   "source": []
  },
  {
   "cell_type": "code",
   "execution_count": 73,
   "metadata": {},
   "outputs": [
    {
     "name": "stdout",
     "output_type": "stream",
     "text": [
      "[[30]]\n"
     ]
    }
   ],
   "source": [
    "rn.zero_gradient()\n",
    "rn.propag_arriere(C_quad_diff(cible=1))"
   ]
  },
  {
   "cell_type": "code",
   "execution_count": 74,
   "metadata": {},
   "outputs": [
    {
     "data": {
      "text/plain": [
       "[None,\n",
       " array([[   0.,    0.],\n",
       "        [  60., -120.],\n",
       "        [ -60.,  120.]]),\n",
       " array([[120., 540., 120.],\n",
       "        [  0.,   0.,   0.]]),\n",
       " array([[240.,   0.]])]"
      ]
     },
     "execution_count": 74,
     "metadata": {},
     "output_type": "execute_result"
    }
   ],
   "source": [
    "rn.gw"
   ]
  },
  {
   "cell_type": "code",
   "execution_count": 75,
   "metadata": {},
   "outputs": [
    {
     "data": {
      "text/plain": [
       "[None,\n",
       " array([[  0.],\n",
       "        [ 60.],\n",
       "        [-60.]]),\n",
       " array([[60.],\n",
       "        [ 0.]]),\n",
       " array([[30.]])]"
      ]
     },
     "execution_count": 75,
     "metadata": {},
     "output_type": "execute_result"
    }
   ],
   "source": [
    "rn.gb"
   ]
  },
  {
   "cell_type": "code",
   "execution_count": 61,
   "metadata": {},
   "outputs": [
    {
     "data": {
      "text/plain": [
       "array(0)"
      ]
     },
     "execution_count": 61,
     "metadata": {},
     "output_type": "execute_result"
    }
   ],
   "source": [
    "C_quad_diff(1)(16)"
   ]
  },
  {
   "cell_type": "code",
   "execution_count": 76,
   "metadata": {},
   "outputs": [],
   "source": [
    "rn.pas_gradient(pas=1, lambada=0)"
   ]
  },
  {
   "cell_type": "code",
   "execution_count": 78,
   "metadata": {},
   "outputs": [
    {
     "data": {
      "text/plain": [
       "[None,\n",
       " array([[   0.,   -1.],\n",
       "        [ -58.,  117.],\n",
       "        [  61., -121.]]),\n",
       " array([[-120., -539., -121.],\n",
       "        [   2.,   -2.,    1.]]),\n",
       " array([[-238.,   -1.]])]"
      ]
     },
     "execution_count": 78,
     "metadata": {},
     "output_type": "execute_result"
    }
   ],
   "source": [
    "rn.W"
   ]
  },
  {
   "cell_type": "code",
   "execution_count": 79,
   "metadata": {},
   "outputs": [
    {
     "data": {
      "text/plain": [
       "[None,\n",
       " array([[  0.],\n",
       "        [-59.],\n",
       "        [ 59.]]),\n",
       " array([[-59.],\n",
       "        [ -2.]]),\n",
       " array([[-30.]])]"
      ]
     },
     "execution_count": 79,
     "metadata": {},
     "output_type": "execute_result"
    }
   ],
   "source": [
    "rn.b"
   ]
  },
  {
   "cell_type": "markdown",
   "metadata": {},
   "source": [
    "# test fonction xor"
   ]
  },
  {
   "cell_type": "code",
   "execution_count": 80,
   "metadata": {},
   "outputs": [],
   "source": [
    "xor = lambda x : 1 if x[0][0]*x[1][0] >= 0 else -1"
   ]
  },
  {
   "cell_type": "code",
   "execution_count": 338,
   "metadata": {},
   "outputs": [],
   "source": [
    "M = 5000\n",
    "X = np.random.uniform(-5,5,size=(2,M))\n",
    "y = np.array([xor(X[:,[i]]) for i in range(M)])"
   ]
  },
  {
   "cell_type": "code",
   "execution_count": 339,
   "metadata": {},
   "outputs": [],
   "source": [
    "C = lambda cible: np.vectorize( lambda y: -cible*y if y*cible < 0 else 0 )\n",
    "C_diff = lambda cible: np.vectorize( lambda y: -cible if y*cible < 0 else 0 )"
   ]
  },
  {
   "cell_type": "code",
   "execution_count": 340,
   "metadata": {},
   "outputs": [],
   "source": [
    "rn = Reseau_Neurones(2)\n",
    "rn.ajout_couche(8, relu, diff_relu)\n",
    "rn.ajout_couche(8, relu, diff_relu)\n",
    "rn.ajout_couche(1, lambda t:t, lambda t:1)"
   ]
  },
  {
   "cell_type": "code",
   "execution_count": 341,
   "metadata": {},
   "outputs": [
    {
     "name": "stdout",
     "output_type": "stream",
     "text": [
      "3 [(8, 2), (8, 8), (1, 8)]\n"
     ]
    }
   ],
   "source": [
    "print(rn.L, [rn.W[i].shape for i in range(1,rn.L+1)])"
   ]
  },
  {
   "cell_type": "code",
   "execution_count": 342,
   "metadata": {},
   "outputs": [],
   "source": [
    "for epoch in range(100000):\n",
    "    i = epoch%M\n",
    "    x = X[:,[i]]\n",
    "    batch_size = 100\n",
    "    \n",
    "    rn.propag_avant(x)\n",
    "    cdif = C_diff(y[i])\n",
    "    rn.propag_arriere(cdif)\n",
    "    if epoch % batch_size == 0:\n",
    "        rn.pas_gradient(0.01, lambada=0)\n",
    "        rn.zero_gradient()\n",
    "    #print(rn.W)\n",
    "    #input()\n",
    "    #if i%10000 == 0:\n",
    "        #y_pred = np.array([rn.propag_avant(X[:,[i]], log = False) for i in range(M)])\n",
    "        #print(np.array([C(y[i])(y_pred[i]) for i in range(M)]).mean(),sep= \" \")\n",
    "    "
   ]
  },
  {
   "cell_type": "code",
   "execution_count": 343,
   "metadata": {},
   "outputs": [],
   "source": [
    "pred = np.vectorize(lambda x1,x2: rn.propag_avant( np.array([[x1],[x2]]), log = False)  )"
   ]
  },
  {
   "cell_type": "code",
   "execution_count": 344,
   "metadata": {},
   "outputs": [
    {
     "data": {
      "image/png": "[encoded data removed]",
      "text/plain": [
       "<Figure size 432x288 with 2 Axes>"
      ]
     },
     "metadata": {
      "needs_background": "light"
     },
     "output_type": "display_data"
    }
   ],
   "source": [
    "Xgraph = np.linspace(-5,5,50)\n",
    "X1, X2 = np.meshgrid(Xgraph,Xgraph)\n",
    "F = pred(X1,X2)\n",
    "levels = np.linspace(np.min(F),np.max(F),20)\n",
    "cp = plt.contourf(X1,X2, F,levels, cmap='inferno')\n",
    "plt.colorbar(cp)  # pratique pour voir les valeurs\n",
    "#plt.scatter(X[0,:],X[1,:],c=y)\n",
    "plt.show()"
   ]
  },
  {
   "cell_type": "code",
   "execution_count": 345,
   "metadata": {},
   "outputs": [
    {
     "data": {
      "text/plain": [
       "0.019"
      ]
     },
     "execution_count": 345,
     "metadata": {},
     "output_type": "execute_result"
    }
   ],
   "source": [
    "# missclassified\n",
    "y_pred = np.array([rn.propag_avant(X[:,[i]], log = False) for i in range(M)])\n",
    "np.array([1 if y_pred[i]*y[i] < 0 else 0 for i in range(M)]).mean()"
   ]
  },
  {
   "cell_type": "code",
   "execution_count": null,
   "metadata": {},
   "outputs": [],
   "source": []
  },
  {
   "cell_type": "markdown",
   "metadata": {},
   "source": [
    "## test sur donnees"
   ]
  },
  {
   "cell_type": "markdown",
   "metadata": {},
   "source": [
    "### droite non bruitée de dim 2"
   ]
  },
  {
   "cell_type": "code",
   "execution_count": 105,
   "metadata": {},
   "outputs": [],
   "source": [
    "X00 = np.random.uniform(0,1,size=100).reshape(1,100)\n",
    "Y00 = 3*X00 + 2"
   ]
  },
  {
   "cell_type": "code",
   "execution_count": 131,
   "metadata": {},
   "outputs": [],
   "source": [
    "# un neurone 2 -> 1 sortie lineaire\n",
    "rn = Reseau_Neurones(1)\n",
    "rn.ajout_couche(1, lambda t:t, lambda t:1)\n",
    "# coût quadratique\n",
    "C = lambda cible: np.vectorize( lambda y: (y-cible)**2 )\n",
    "C_diff = lambda cible: np.vectorize( lambda y : 2*(y-cible) )"
   ]
  },
  {
   "cell_type": "code",
   "execution_count": 150,
   "metadata": {},
   "outputs": [],
   "source": [
    "m = X00.shape[1]  # 100 en principe\n",
    "rn.zero_gradient()\n",
    "batch_size = m\n",
    "#print(rn.W[1])\n",
    "#input()\n",
    "for epoch in range(50000):\n",
    "    i = epoch % m\n",
    "    x = X00[:,[i]] #donnee a traiter\n",
    "    y = Y00[0][i]\n",
    "    #print(x,y)\n",
    "    rn.propag_avant(x)\n",
    "    cdif = C_diff(cible=y)\n",
    "    rn.propag_arriere(cdif)\n",
    "    if epoch % batch_size==0:\n",
    "        #print(rn.W[1])\n",
    "        #input()\n",
    "        rn.pas_gradient(.01,lambada=0)\n",
    "        rn.zero_gradient()"
   ]
  },
  {
   "cell_type": "code",
   "execution_count": 151,
   "metadata": {},
   "outputs": [
    {
     "data": {
      "text/plain": [
       "0.0007526827100591059"
      ]
     },
     "execution_count": 151,
     "metadata": {},
     "output_type": "execute_result"
    }
   ],
   "source": [
    "Y00_pred = np.array([rn.propag_avant(X00[:,[i]], log = False) for i in range(m)])\n",
    "MSE00 = ((Y00_pred - Y00)**2).mean()\n",
    "MSE00"
   ]
  },
  {
   "cell_type": "code",
   "execution_count": 99,
   "metadata": {},
   "outputs": [
    {
     "data": {
      "text/plain": [
       "array([[0.58637583]])"
      ]
     },
     "execution_count": 99,
     "metadata": {},
     "output_type": "execute_result"
    }
   ],
   "source": [
    "X00[:,[10]]"
   ]
  },
  {
   "cell_type": "markdown",
   "metadata": {},
   "source": [
    "## droite bruitee"
   ]
  },
  {
   "cell_type": "code",
   "execution_count": 166,
   "metadata": {},
   "outputs": [],
   "source": [
    "X01 = np.random.uniform(0,1,size=100).reshape(1,100)\n",
    "Y01 = 3*X01 + 2 + 0.1*np.random.normal(size=(1,100))"
   ]
  },
  {
   "cell_type": "code",
   "execution_count": 167,
   "metadata": {},
   "outputs": [
    {
     "data": {
      "image/png": "[encoded data removed]",
      "text/plain": [
       "<Figure size 432x288 with 1 Axes>"
      ]
     },
     "metadata": {
      "needs_background": "light"
     },
     "output_type": "display_data"
    }
   ],
   "source": [
    "plt.scatter(X01[0],Y01[0])\n",
    "plt.show()"
   ]
  },
  {
   "cell_type": "code",
   "execution_count": 187,
   "metadata": {},
   "outputs": [
    {
     "data": {
      "text/plain": [
       "0.007240532524687522"
      ]
     },
     "execution_count": 187,
     "metadata": {},
     "output_type": "execute_result"
    }
   ],
   "source": [
    "import sklearn.linear_model\n",
    "X01bis = X01.reshape(100,1)\n",
    "Y01bis = Y01.reshape(100,1)\n",
    "lin_reg = sklearn.linear_model.LinearRegression()\n",
    "lin_reg.fit(X01bis,Y01bis)\n",
    "Y01_pred=lin_reg.predict(X01bis)\n",
    "MSE01 = ((Y01_pred - Y01bis)**2).mean()\n",
    "MSE01"
   ]
  },
  {
   "cell_type": "code",
   "execution_count": 188,
   "metadata": {
    "scrolled": true
   },
   "outputs": [
    {
     "data": {
      "image/png": "[encoded data removed]",
      "text/plain": [
       "<Figure size 432x288 with 1 Axes>"
      ]
     },
     "metadata": {
      "needs_background": "light"
     },
     "output_type": "display_data"
    }
   ],
   "source": [
    "plt.scatter(X01[0],Y01[0])\n",
    "plt.plot(X01[0],Y01_pred, c='red')\n",
    "plt.show()"
   ]
  },
  {
   "cell_type": "code",
   "execution_count": 193,
   "metadata": {},
   "outputs": [],
   "source": [
    "# un neurone 2 -> 1 sortie lineaire\n",
    "rn = Reseau_Neurones(1)\n",
    "rn.ajout_couche(1, lambda t:t, lambda t:1)\n",
    "# coût quadratique\n",
    "C = lambda cible: np.vectorize( lambda y: (y-cible)**2 )\n",
    "C_diff = lambda cible: np.vectorize( lambda y : 2*(y-cible) )\n",
    "m = X01.shape[1] \n",
    "rn.zero_gradient()\n",
    "batch_size = m\n",
    "#print(rn.W[1])\n",
    "#input()\n",
    "for epoch in range(50000):\n",
    "    i = epoch % m\n",
    "    x = X01[:,[i]] #donnee a traiter\n",
    "    y = Y01[0][i]\n",
    "    #print(x,y)\n",
    "    rn.propag_avant(x)\n",
    "    cdif = C_diff(cible=y)\n",
    "    rn.propag_arriere(cdif)\n",
    "    if epoch % batch_size==0:\n",
    "        #print(rn.W[1])\n",
    "        #input()\n",
    "        rn.pas_gradient(.1,lambada=0)\n",
    "        rn.zero_gradient()"
   ]
  },
  {
   "cell_type": "code",
   "execution_count": 194,
   "metadata": {},
   "outputs": [],
   "source": [
    "Y01_pred_rn1 = np.array([rn.propag_avant(X01[:,[i]], log = False) for i in range(m)])"
   ]
  },
  {
   "cell_type": "code",
   "execution_count": 195,
   "metadata": {},
   "outputs": [
    {
     "data": {
      "text/plain": [
       "0.007241329660565622"
      ]
     },
     "execution_count": 195,
     "metadata": {},
     "output_type": "execute_result"
    }
   ],
   "source": [
    "MSE01 = ((Y01_pred_rn1 - Y01)**2).mean()\n",
    "MSE01"
   ]
  },
  {
   "cell_type": "code",
   "execution_count": 196,
   "metadata": {},
   "outputs": [
    {
     "data": {
      "image/png": "[encoded data removed]",
      "text/plain": [
       "<Figure size 432x288 with 1 Axes>"
      ]
     },
     "metadata": {
      "needs_background": "light"
     },
     "output_type": "display_data"
    }
   ],
   "source": [
    "plt.scatter(X01[0],Y01[0])\n",
    "plt.plot(X01[0],Y01_pred_rn1, c='red')\n",
    "plt.show()"
   ]
  },
  {
   "cell_type": "markdown",
   "metadata": {},
   "source": [
    "### meilleure approx avec reseau multicouche ?"
   ]
  },
  {
   "cell_type": "code",
   "execution_count": 203,
   "metadata": {},
   "outputs": [],
   "source": [
    "# un neurone 2 -> 1 sortie lineaire\n",
    "rn = Reseau_Neurones(1)\n",
    "rn.ajout_couche(2, identite, identite_diff)\n",
    "rn.ajout_couche(2, relu, diff_relu)\n",
    "rn.ajout_couche(1, lambda t:t, lambda t:1)\n",
    "# coût quadratique\n",
    "C = lambda cible: np.vectorize( lambda y: (y-cible)**2 )\n",
    "C_diff = lambda cible: np.vectorize( lambda y : 2*(y-cible) )\n",
    "m = X01.shape[1] \n",
    "rn.zero_gradient()\n",
    "batch_size = m\n",
    "#print(rn.W[1])\n",
    "#input()\n",
    "for epoch in range(50000):\n",
    "    i = epoch % m\n",
    "    x = X01[:,[i]] #donnee a traiter\n",
    "    y = Y01[0][i]\n",
    "    #print(x,y)\n",
    "    rn.propag_avant(x)\n",
    "    cdif = C_diff(cible=y)\n",
    "    rn.propag_arriere(cdif)\n",
    "    if epoch % batch_size==0:\n",
    "        #print(rn.W[1])\n",
    "        #input()\n",
    "        rn.pas_gradient(.1,lambada=0)\n",
    "        rn.zero_gradient()"
   ]
  },
  {
   "cell_type": "code",
   "execution_count": 204,
   "metadata": {},
   "outputs": [
    {
     "data": {
      "text/plain": [
       "0.008114778605147114"
      ]
     },
     "execution_count": 204,
     "metadata": {},
     "output_type": "execute_result"
    }
   ],
   "source": [
    "Y01_pred_rn1 = np.array([rn.propag_avant(X01[:,[i]], log = False) for i in range(m)])\n",
    "MSE01 = ((Y01_pred_rn1 - Y01)**2).mean()\n",
    "MSE01"
   ]
  },
  {
   "cell_type": "code",
   "execution_count": 205,
   "metadata": {},
   "outputs": [
    {
     "data": {
      "image/png": "[encoded data removed]",
      "text/plain": [
       "<Figure size 432x288 with 1 Axes>"
      ]
     },
     "metadata": {
      "needs_background": "light"
     },
     "output_type": "display_data"
    }
   ],
   "source": [
    "plt.scatter(X01[0],Y01[0])\n",
    "plt.plot(X01[0],Y01_pred_rn1, c='red')\n",
    "plt.show()"
   ]
  },
  {
   "cell_type": "markdown",
   "metadata": {},
   "source": [
    "### sur une entree quadratique"
   ]
  },
  {
   "cell_type": "code",
   "execution_count": 209,
   "metadata": {},
   "outputs": [
    {
     "data": {
      "image/png": "[encoded data removed]",
      "text/plain": [
       "<Figure size 432x288 with 1 Axes>"
      ]
     },
     "metadata": {
      "needs_background": "light"
     },
     "output_type": "display_data"
    }
   ],
   "source": [
    "X02 = np.random.uniform(0,1,size=100).reshape(1,100)\n",
    "Y02 = X02**2 - X02 + 0.01*np.random.normal(size=(1,100))\n",
    "plt.scatter(X02[0],Y02[0])\n",
    "plt.show()"
   ]
  },
  {
   "cell_type": "code",
   "execution_count": 210,
   "metadata": {},
   "outputs": [
    {
     "data": {
      "text/plain": [
       "0.00601913206043158"
      ]
     },
     "execution_count": 210,
     "metadata": {},
     "output_type": "execute_result"
    }
   ],
   "source": [
    "X02bis = X02.reshape(100,1)\n",
    "Y02bis = Y02.reshape(100,1)\n",
    "lin_reg = sklearn.linear_model.LinearRegression()\n",
    "lin_reg.fit(X02bis,Y02bis)\n",
    "Y02_pred=lin_reg.predict(X02bis)\n",
    "MSE02 = ((Y02_pred - Y02bis)**2).mean()\n",
    "MSE02"
   ]
  },
  {
   "cell_type": "code",
   "execution_count": 213,
   "metadata": {},
   "outputs": [
    {
     "data": {
      "image/png": "[encoded data removed]",
      "text/plain": [
       "<Figure size 432x288 with 1 Axes>"
      ]
     },
     "metadata": {
      "needs_background": "light"
     },
     "output_type": "display_data"
    }
   ],
   "source": [
    "plt.scatter(X02[0],Y02_pred, c='red')\n",
    "plt.scatter(X02bis,Y02bis)\n",
    "plt.show()"
   ]
  },
  {
   "cell_type": "code",
   "execution_count": 230,
   "metadata": {},
   "outputs": [],
   "source": [
    "rn = Reseau_Neurones(1)\n",
    "rn.ajout_couche(3, relu, diff_relu)\n",
    "rn.ajout_couche(1, lambda t:t, lambda t:1)\n",
    "# coût quadratique\n",
    "C = lambda cible: np.vectorize( lambda y: (y-cible)**2 )\n",
    "C_diff = lambda cible: np.vectorize( lambda y : 2*(y-cible) )\n",
    "m = X02.shape[1] \n",
    "rn.zero_gradient()\n",
    "batch_size = 10\n",
    "#print(rn.W[1])\n",
    "#input()\n",
    "for epoch in range(500000):\n",
    "    i = epoch % m\n",
    "    x = X02[:,[i]] #donnee a traiter\n",
    "    y = Y02[0][i]\n",
    "    #print(x,y)\n",
    "    rn.propag_avant(x)\n",
    "    cdif = C_diff(cible=y)\n",
    "    rn.propag_arriere(cdif)\n",
    "    if epoch % batch_size==0:\n",
    "        #print(rn.W[1])\n",
    "        #input()\n",
    "        rn.pas_gradient(.1,lambada=0)\n",
    "        rn.zero_gradient()"
   ]
  },
  {
   "cell_type": "code",
   "execution_count": 231,
   "metadata": {},
   "outputs": [
    {
     "data": {
      "text/plain": [
       "0.000441726556322385"
      ]
     },
     "execution_count": 231,
     "metadata": {},
     "output_type": "execute_result"
    }
   ],
   "source": [
    "Y02_pred_rn2 = np.array([rn.propag_avant(X02[:,[i]], log = False) for i in range(m)])\n",
    "MSE02 = ((Y02_pred_rn2 - Y02)**2).mean()\n",
    "MSE02"
   ]
  },
  {
   "cell_type": "code",
   "execution_count": 233,
   "metadata": {},
   "outputs": [
    {
     "data": {
      "image/png": "[encoded data removed]",
      "text/plain": [
       "<Figure size 432x288 with 1 Axes>"
      ]
     },
     "metadata": {
      "needs_background": "light"
     },
     "output_type": "display_data"
    }
   ],
   "source": [
    "plt.scatter(X02[0],Y02[0])\n",
    "plt.scatter(X02[0],Y02_pred_rn2, c='red')\n",
    "plt.show()"
   ]
  },
  {
   "cell_type": "markdown",
   "metadata": {},
   "source": [
    "### comparaison linear regression en approx pure"
   ]
  },
  {
   "cell_type": "code",
   "execution_count": 64,
   "metadata": {},
   "outputs": [],
   "source": [
    "import sklearn as sk\n",
    "from sklearn import datasets\n",
    "diabetes = datasets.load_diabetes()"
   ]
  },
  {
   "cell_type": "code",
   "execution_count": 68,
   "metadata": {},
   "outputs": [],
   "source": [
    "#print(diabetes['DESCR'])\n",
    "#TLDR : 10 column prediction valeur reelles, target = mesure de la maladie"
   ]
  },
  {
   "cell_type": "code",
   "execution_count": 80,
   "metadata": {},
   "outputs": [
    {
     "data": {
      "text/plain": [
       "((442, 10), (442,))"
      ]
     },
     "execution_count": 80,
     "metadata": {},
     "output_type": "execute_result"
    }
   ],
   "source": [
    "Xd0 = diabetes['data'] ; Yd0 = diabetes['target']\n",
    "Xd0.shape, Yd0.shape"
   ]
  },
  {
   "cell_type": "code",
   "execution_count": 81,
   "metadata": {},
   "outputs": [
    {
     "data": {
      "text/plain": [
       "LinearRegression(copy_X=True, fit_intercept=True, n_jobs=None, normalize=False)"
      ]
     },
     "execution_count": 81,
     "metadata": {},
     "output_type": "execute_result"
    }
   ],
   "source": [
    "lin_reg = sk.linear_model.LinearRegression()\n",
    "lin_reg.fit(Xd0,Yd0)"
   ]
  },
  {
   "cell_type": "code",
   "execution_count": 82,
   "metadata": {},
   "outputs": [],
   "source": [
    "Yd0_pred=lin_reg.predict(Xd0)"
   ]
  },
  {
   "cell_type": "code",
   "execution_count": 97,
   "metadata": {},
   "outputs": [
    {
     "data": {
      "text/plain": [
       "2859.6903987680657"
      ]
     },
     "execution_count": 97,
     "metadata": {},
     "output_type": "execute_result"
    }
   ],
   "source": [
    "MSE0 = ((Yd0_pred - Yd0)**2).mean()\n",
    "MSE0"
   ]
  },
  {
   "cell_type": "markdown",
   "metadata": {},
   "source": [
    "### comparaison avec neurone unique"
   ]
  },
  {
   "cell_type": "code",
   "execution_count": 141,
   "metadata": {},
   "outputs": [],
   "source": [
    "# un neurone 10 -> 1 sortie lineaire\n",
    "rn = Reseau_Neurones(10)\n",
    "rn.ajout_couche(10, relu, diff_relu)\n",
    "rn.ajout_couche(1, lambda t:t, lambda t:1)\n",
    "# coût quadratique\n",
    "C = lambda cible: np.vectorize( lambda y: (y-cible)**2 )\n",
    "C_diff = lambda cible: np.vectorize( lambda y : 2*(y-cible) )\n",
    "# données \n",
    "Xd1 = Xd0.T\n",
    "Yd1 = Yd0"
   ]
  },
  {
   "cell_type": "code",
   "execution_count": 148,
   "metadata": {},
   "outputs": [],
   "source": [
    "# grad stoch\n",
    "m = Xd1.shape[1]  # 442 en principe\n",
    "rn.zero_gradient()\n",
    "batch_size = 100\n",
    "\n",
    "for epoch in range(50000):\n",
    "    i = epoch % m\n",
    "    x = Xd1[:,[i]] #donnee a traiter\n",
    "    rn.propag_avant(x)\n",
    "    cdif = C_diff(Yd1[i])\n",
    "    rn.propag_arriere(cdif)\n",
    "    if epoch % batch_size==0:\n",
    "        rn.pas_gradient(.01,lambada=0)\n",
    "        rn.zero_gradient()\n",
    "    #if i%10000 == 0:\n",
    "    #    Yd1_pred = np.array([rn.propag_avant(X[:,[i]], log = False) for i in range(M)])\n",
    "    #    print(np.array([C(y[i])(y_pred[i]) for i in range(M)]).mean(),sep= \" \")"
   ]
  },
  {
   "cell_type": "code",
   "execution_count": 149,
   "metadata": {},
   "outputs": [],
   "source": [
    "Yd1_pred = np.array([rn.propag_avant(Xd1[:,[i]], log = False) for i in range(m)])"
   ]
  },
  {
   "cell_type": "code",
   "execution_count": 150,
   "metadata": {},
   "outputs": [
    {
     "data": {
      "text/plain": [
       "29074.481900452487"
      ]
     },
     "execution_count": 150,
     "metadata": {},
     "output_type": "execute_result"
    }
   ],
   "source": [
    "MSE1 = ((Yd1_pred - Yd1)**2).mean()\n",
    "MSE1"
   ]
  },
  {
   "cell_type": "code",
   "execution_count": null,
   "metadata": {},
   "outputs": [],
   "source": []
  },
  {
   "cell_type": "markdown",
   "metadata": {},
   "source": [
    "## tests de q-learning"
   ]
  },
  {
   "cell_type": "markdown",
   "metadata": {},
   "source": [
    "### moutain car"
   ]
  },
  {
   "cell_type": "code",
   "execution_count": 8,
   "metadata": {},
   "outputs": [
    {
     "data": {
      "text/plain": [
       "array([-0.58200467,  0.        ])"
      ]
     },
     "execution_count": 8,
     "metadata": {},
     "output_type": "execute_result"
    }
   ],
   "source": [
    "env = gym.make('MountainCar-v0') ; env.reset()"
   ]
  },
  {
   "cell_type": "code",
   "execution_count": 297,
   "metadata": {},
   "outputs": [
    {
     "data": {
      "text/plain": [
       "(2,)"
      ]
     },
     "execution_count": 297,
     "metadata": {},
     "output_type": "execute_result"
    }
   ],
   "source": [
    "env.observation_space.shape"
   ]
  },
  {
   "cell_type": "code",
   "execution_count": 298,
   "metadata": {},
   "outputs": [
    {
     "data": {
      "text/plain": [
       "Discrete(3)"
      ]
     },
     "execution_count": 298,
     "metadata": {},
     "output_type": "execute_result"
    }
   ],
   "source": [
    "env.action_space"
   ]
  },
  {
   "cell_type": "code",
   "execution_count": null,
   "metadata": {},
   "outputs": [],
   "source": []
  },
  {
   "cell_type": "code",
   "execution_count": 339,
   "metadata": {},
   "outputs": [],
   "source": [
    "qa_approximator = Reseau_Neurones(4)\n",
    "#entrée : 2 dimensions pour l'espace et 2 pour l'action G/D représentée par 1,0 et 0,1\n",
    "# on ne tiendra pas compte du 1 qui est ne pas pousser\n",
    "qa_approximator.ajout_couche(5, relu, diff_relu)\n",
    "qa_approximator.ajout_couche(1, identite, identite_diff)"
   ]
  },
  {
   "cell_type": "code",
   "execution_count": 340,
   "metadata": {},
   "outputs": [],
   "source": [
    "def eval_qa(machine, state, action1, action2, log=False):\n",
    "    state_action = np.concatenate([state, np.array([[ action1],[ action2]])],axis=0)\n",
    "    #print(state_action)\n",
    "    return machine.propag_avant(state_action, log=log)\n",
    "\n",
    "def epsilon_greedy(state, epsilon):\n",
    "    r = np.random.random() \n",
    "    if r < epsilon/2:\n",
    "        return 0\n",
    "    elif r < epsilon:\n",
    "        return 2\n",
    "    else:\n",
    "        vg = eval_qa(qa_approximator,  state, 1, 0, log=False)\n",
    "        vd = eval_qa(qa_approximator,  state, 0, 1, log=False)\n",
    "        #print(vg,vd)\n",
    "        #print(state_action)\n",
    "        #input(\"\")\n",
    "        if vg > vd:\n",
    "            return 0\n",
    "        else:\n",
    "            return 2"
   ]
  },
  {
   "cell_type": "code",
   "execution_count": 345,
   "metadata": {},
   "outputs": [
    {
     "name": "stdout",
     "output_type": "stream",
     "text": [
      "-200.0 "
     ]
    }
   ],
   "source": [
    "alpha = 0.01\n",
    "gamma = 0.8\n",
    "nb_episodes = 500\n",
    "old_cptr = 0\n",
    "best_reward = -1000\n",
    "for n in range(nb_episodes):\n",
    "    #debut episode\n",
    "    state = env.reset()\n",
    "    state = state.reshape((2,1))\n",
    "    terminal = False\n",
    "    total_reward = 0\n",
    "\n",
    "    while not terminal:\n",
    "        \n",
    "        if n % 100==0:\n",
    "            #env.render()\n",
    "            pass\n",
    "        action = epsilon_greedy(state, 0.1)\n",
    "        new_state, reward, terminal, info = env.step(action)\n",
    "        total_reward += reward\n",
    "        new_state = new_state.reshape((2,1))\n",
    "        #update\n",
    "        action1, action2 = [ (1,0), None, (0,1)][action]\n",
    "        state_action = np.concatenate([state, np.array([[ action1],[ action2]])],axis=0)\n",
    "        \n",
    "        old_qa = qa_approximator.propag_avant(state_action, log=True)\n",
    "        \n",
    "        max_qa_new_state = np.max([ eval_qa(qa_approximator,  new_state, 1,0, log=False), \n",
    "                                  eval_qa(qa_approximator,  new_state, 0,1, log=False)] )\n",
    "        #new_qa = (1-alpha)*old_qa + alpha*(reward + gamma*max_qa_new_state)\n",
    "        #reward =  state[1]\n",
    "        new_qa = reward + gamma*max_qa_new_state\n",
    "        #if n%100==0:\n",
    "        #    print(new_qa)\n",
    "        \n",
    "        cdif = C_diff(new_qa)\n",
    "        old_qa = qa_approximator.propag_avant(state_action, log=True)\n",
    "        qa_approximator.propag_arriere(cdif)\n",
    "        qa_approximator.pas_gradient(pas = 0.01, lambada = 0.01)\n",
    "        \n",
    "        #debug\n",
    "        \"\"\"\n",
    "        newold = eval_qa(qa_approximator, state, action)\n",
    "        print(f\"oldqa {old_qa} cible {new_qa} progress {newold} \")\n",
    "        input()\"\"\"\n",
    "        cptr += 1\n",
    "    \n",
    "    if total_reward >  best_reward:\n",
    "        best_reward = total_reward\n",
    "        print (total_reward, end=\" \")\n",
    "    "
   ]
  },
  {
   "cell_type": "code",
   "execution_count": 346,
   "metadata": {
    "scrolled": true
   },
   "outputs": [
    {
     "name": "stdout",
     "output_type": "stream",
     "text": [
      "[[-0.42926371]\n",
      " [ 0.        ]]\n"
     ]
    },
    {
     "data": {
      "text/plain": [
       "(-4.878048877529293, -4.878048877529293)"
      ]
     },
     "execution_count": 346,
     "metadata": {},
     "output_type": "execute_result"
    }
   ],
   "source": [
    "state = env.reset()\n",
    "state = state.reshape((2,1))\n",
    "print(state)\n",
    "eval_qa(qa_approximator, state, 1,0), eval_qa(qa_approximator, state, 0,1)"
   ]
  },
  {
   "cell_type": "code",
   "execution_count": 347,
   "metadata": {},
   "outputs": [
    {
     "data": {
      "text/plain": [
       "[None,\n",
       " array([[ 5.27134334e-02,  9.94071692e-14, -3.07141370e-02,\n",
       "         -4.30664725e-02],\n",
       "        [ 2.17695046e-02, -7.11906236e-15, -1.07663222e-02,\n",
       "         -9.91137478e-03],\n",
       "        [ 6.91271202e-02, -9.84137783e-14, -1.06350966e-01,\n",
       "         -1.80918819e-02],\n",
       "        [ 9.72995650e-03,  2.14608079e-13, -1.53071463e-02,\n",
       "          6.72434465e-14],\n",
       "        [ 4.49517626e-02, -3.84687330e-14, -4.53885475e-02,\n",
       "         -2.16655385e-02]]),\n",
       " array([[0.04921623, 0.04527806, 0.02349738, 0.01177756, 0.08128992]])]"
      ]
     },
     "execution_count": 347,
     "metadata": {},
     "output_type": "execute_result"
    }
   ],
   "source": [
    "qa_approximator.W"
   ]
  },
  {
   "cell_type": "code",
   "execution_count": 25,
   "metadata": {},
   "outputs": [],
   "source": [
    "##test de marde\n",
    "state = env.reset()\n",
    "terminal = False\n",
    "while not terminal:\n",
    "    env.render()\n",
    "    if state[1] <0 :\n",
    "        action = 0\n",
    "    else:\n",
    "        action=2\n",
    "    state, reward, terminal, info = env.step(action)\n"
   ]
  },
  {
   "cell_type": "code",
   "execution_count": 26,
   "metadata": {},
   "outputs": [],
   "source": [
    "env.close()"
   ]
  },
  {
   "cell_type": "code",
   "execution_count": null,
   "metadata": {},
   "outputs": [],
   "source": []
  },
  {
   "cell_type": "code",
   "execution_count": null,
   "metadata": {},
   "outputs": [],
   "source": []
  },
  {
   "cell_type": "markdown",
   "metadata": {},
   "source": [
    "### cartpole"
   ]
  },
  {
   "cell_type": "code",
   "execution_count": 6,
   "metadata": {},
   "outputs": [],
   "source": []
  },
  {
   "cell_type": "code",
   "execution_count": 6,
   "metadata": {},
   "outputs": [
    {
     "data": {
      "text/plain": [
       "array([-0.00906005,  0.04729921,  0.02697162, -0.0251919 ])"
      ]
     },
     "execution_count": 6,
     "metadata": {},
     "output_type": "execute_result"
    }
   ],
   "source": [
    "if not env:\n",
    "    env = gym.make('CartPole-v1') ; env.reset()"
   ]
  },
  {
   "cell_type": "code",
   "execution_count": 7,
   "metadata": {},
   "outputs": [
    {
     "data": {
      "text/plain": [
       "(4,)"
      ]
     },
     "execution_count": 7,
     "metadata": {},
     "output_type": "execute_result"
    }
   ],
   "source": [
    "env.observation_space.shape"
   ]
  },
  {
   "cell_type": "code",
   "execution_count": 81,
   "metadata": {},
   "outputs": [
    {
     "data": {
      "text/plain": [
       "Discrete(2)"
      ]
     },
     "execution_count": 81,
     "metadata": {},
     "output_type": "execute_result"
    }
   ],
   "source": [
    "env.action_space"
   ]
  },
  {
   "cell_type": "code",
   "execution_count": 113,
   "metadata": {},
   "outputs": [],
   "source": [
    "qa_approximator = Reseau_Neurones(4)\n",
    "qa_approximator.ajout_couche(3, relu, diff_relu)\n",
    "qa_approximator.ajout_couche(2, identite, identite_diff)"
   ]
  },
  {
   "cell_type": "code",
   "execution_count": 149,
   "metadata": {},
   "outputs": [
    {
     "data": {
      "text/plain": [
       "array([[ 1.05827475],\n",
       "       [-3.9143706 ]])"
      ]
     },
     "execution_count": 149,
     "metadata": {},
     "output_type": "execute_result"
    }
   ],
   "source": [
    "state = env.reset().reshape((4,1))\n",
    "res = qa_approximator.propag_avant(state, log=True)\n",
    "res"
   ]
  },
  {
   "cell_type": "code",
   "execution_count": 160,
   "metadata": {},
   "outputs": [
    {
     "data": {
      "text/plain": [
       "1.0582747501414753"
      ]
     },
     "execution_count": 160,
     "metadata": {},
     "output_type": "execute_result"
    }
   ],
   "source": [
    "cdif = CG(val_cible=2)\n",
    "res[0][0]"
   ]
  },
  {
   "cell_type": "code",
   "execution_count": 165,
   "metadata": {},
   "outputs": [],
   "source": [
    "cdif = CD_diff(2)"
   ]
  },
  {
   "cell_type": "code",
   "execution_count": 166,
   "metadata": {},
   "outputs": [],
   "source": [
    "qa_approximator.propag_arriere(cdif)"
   ]
  },
  {
   "cell_type": "code",
   "execution_count": 167,
   "metadata": {},
   "outputs": [],
   "source": [
    "qa_approximator.pas_gradient(pas=0.01)"
   ]
  },
  {
   "cell_type": "code",
   "execution_count": 127,
   "metadata": {},
   "outputs": [
    {
     "data": {
      "text/plain": [
       "1.1044522400492573"
      ]
     },
     "execution_count": 127,
     "metadata": {},
     "output_type": "execute_result"
    }
   ],
   "source": [
    "np.max( qa_approximator.propag_avant(state, log=False)[:,0]) "
   ]
  },
  {
   "cell_type": "code",
   "execution_count": 157,
   "metadata": {},
   "outputs": [],
   "source": [
    "#deux couts suivant gauche ou droite car y est de dim (2,1)\n",
    "CG = lambda val_cible: np.vectorize( lambda y: (y[0][0]-cible)**2 )\n",
    "CG_diff = lambda val_cible: lambda y : np.array([[2*(y[0][0]-val_cible)], [0]])\n",
    "CD_diff = lambda val_cible: lambda y : np.array([[0],[2*(y[0][0]-val_cible)]])\n",
    "\n",
    "import copy"
   ]
  },
  {
   "cell_type": "code",
   "execution_count": 120,
   "metadata": {},
   "outputs": [],
   "source": [
    "def epsilon_greedy(state, epsilon):\n",
    "    r = np.random.random() \n",
    "    if r < epsilon/2:\n",
    "        return 0\n",
    "    elif r < epsilon:\n",
    "        return 1\n",
    "    else:\n",
    "        y = qa_approximator.propag_avant(state, log=False)\n",
    "        vg = y[0][0]\n",
    "        vd = y[1][0]\n",
    "        #print(vg,vd)\n",
    "        #print(state_action)\n",
    "        #input(\"\")\n",
    "        if vg > vd:\n",
    "            return 0\n",
    "        else:\n",
    "            return 1"
   ]
  },
  {
   "cell_type": "code",
   "execution_count": 174,
   "metadata": {},
   "outputs": [
    {
     "name": "stdout",
     "output_type": "stream",
     "text": [
      "10.0 12.0 13.0 14.0 15.0 16.0 19.0 22.0 23.0 "
     ]
    }
   ],
   "source": [
    "alpha = 0.01\n",
    "gamma = 0.9\n",
    "nb_episodes = 50000\n",
    "old_cptr = 0\n",
    "best_reward = -1000\n",
    "update_cptr = 0\n",
    "list_rewards = []\n",
    "history = []\n",
    "max_history_length = 40000\n",
    "\n",
    "target_rn = copy.deepcopy(qa_approximator)\n",
    "\n",
    "\n",
    "for n in range(nb_episodes):\n",
    "    #debut episode\n",
    "    state = env.reset()\n",
    "    state = state.reshape((4,1))\n",
    "    terminal = False\n",
    "    total_reward = 0\n",
    "\n",
    "    while not terminal:\n",
    "        update_cptr += 1\n",
    "        \n",
    "        if n % 100==0:\n",
    "            #env.render()\n",
    "            pass\n",
    "        action = epsilon_greedy(state, 0.1)\n",
    "        new_state, reward, terminal, info = env.step(action)\n",
    "        new_state = new_state.reshape((4,1))\n",
    "        \n",
    "        if len(history)<max_history_length:\n",
    "            history.append((state, action, reward, new_state))\n",
    "        else:\n",
    "            history[update_cptr%max_history_length] = (state, action, reward, new_state)\n",
    "        \n",
    "        total_reward += reward\n",
    "        \n",
    "        #sample_history et update\n",
    "        state, action, reward, new_state = history[np.random.randint(0,len(history))]\n",
    "              \n",
    "        old_qa = qa_approximator.propag_avant(state, log=True)[action][0]\n",
    "        \n",
    "        max_qa_new_state = np.max( target_rn.propag_avant(new_state, log=False)[:,0])                            \n",
    "        \n",
    "        new_qa = reward + gamma*max_qa_new_state\n",
    "        \n",
    "        if action==0:\n",
    "            cdif = CG_diff(new_qa)\n",
    "        else:\n",
    "            cdif = CD_diff(new_qa)\n",
    "        #old_qa = qa_approximator.propag_avant(state_action, log=True)\n",
    "        qa_approximator.propag_arriere(cdif)\n",
    "        \n",
    "        #if update_cptr%25==0:\n",
    "        qa_approximator.pas_gradient(pas = 0.001, lambada = 0.01)\n",
    "        qa_approximator.zero_gradient()\n",
    "        if update_cptr%5000==0:\n",
    "                target_rn = copy.deepcopy(qa_approximator)\n",
    "        \n",
    "        #debug\n",
    "        \"\"\"\n",
    "        newold = eval_qa(qa_approximator, state, action)\n",
    "        print(f\"oldqa {old_qa} cible {new_qa} progress {newold} \")\n",
    "        input()\"\"\"\n",
    "        #cptr += 1\n",
    "    list_rewards.append(total_reward)\n",
    "    if total_reward >  best_reward:\n",
    "        best_reward = total_reward\n",
    "        print (total_reward, end=\" \")\n"
   ]
  },
  {
   "cell_type": "code",
   "execution_count": 175,
   "metadata": {},
   "outputs": [
    {
     "data": {
      "text/plain": [
       "[<matplotlib.lines.Line2D at 0x7f7730de5e80>]"
      ]
     },
     "execution_count": 175,
     "metadata": {},
     "output_type": "execute_result"
    },
    {
     "data": {
      "image/png": "[encoded data removed]",
      "text/plain": [
       "<Figure size 432x288 with 1 Axes>"
      ]
     },
     "metadata": {
      "needs_background": "light"
     },
     "output_type": "display_data"
    }
   ],
   "source": [
    "p = int(len(list_rewards)/100)\n",
    "moyennes = [sum(list_rewards[i:i+p])/p for i in range(len(list_rewards)-p) ]\n",
    "plt.plot(moyennes[::5])"
   ]
  },
  {
   "cell_type": "code",
   "execution_count": 70,
   "metadata": {},
   "outputs": [
    {
     "name": "stdout",
     "output_type": "stream",
     "text": [
      "[[-0.02655295]\n",
      " [ 0.03970998]\n",
      " [-0.01319909]\n",
      " [-0.00065207]]\n"
     ]
    },
    {
     "data": {
      "text/plain": [
       "(9.95503472800184, 9.97517644597179)"
      ]
     },
     "execution_count": 70,
     "metadata": {},
     "output_type": "execute_result"
    }
   ],
   "source": [
    "    \n",
    "\n",
    "state = env.reset()\n",
    "state = state.reshape((4,1))\n",
    "print(state)\n",
    "eval_qa(qa_approximator, state, 1,0), eval_qa(qa_approximator, state, 0,1)"
   ]
  },
  {
   "cell_type": "code",
   "execution_count": 53,
   "metadata": {},
   "outputs": [
    {
     "data": {
      "text/plain": [
       "[None,\n",
       " array([[-3.34428718e-04,  8.05455023e-04,  1.11876599e-03,\n",
       "         -2.23801606e-03, -5.45729950e-02, -2.05602221e-02],\n",
       "        [ 1.55135745e-05,  3.41634906e-06, -1.58219075e-06,\n",
       "         -3.22641179e-05, -9.43562573e-04, -2.51113969e-04],\n",
       "        [-3.50934065e-03,  5.07263512e-03,  7.54932772e-03,\n",
       "         -1.72788403e-02, -3.65111077e-01, -1.64123328e-01],\n",
       "        [ 9.57232206e-05, -5.36461190e-06, -2.03268731e-05,\n",
       "         -3.80519440e-06, -2.20584149e-05, -6.99234544e-05],\n",
       "        [ 3.99916062e-05,  8.18962489e-05, -5.35569626e-05,\n",
       "          1.81208546e-05, -1.20626308e-04, -1.72955537e-04]]),\n",
       " array([[-5.81314678e-02,  5.37986417e-04, -8.04386378e-01,\n",
       "         -2.51729075e-06, -3.15854026e-05]])]"
      ]
     },
     "execution_count": 53,
     "metadata": {},
     "output_type": "execute_result"
    }
   ],
   "source": [
    "qa_approximator.W"
   ]
  },
  {
   "cell_type": "markdown",
   "metadata": {},
   "source": [
    "## toy environnement"
   ]
  },
  {
   "cell_type": "code",
   "execution_count": 247,
   "metadata": {},
   "outputs": [],
   "source": [
    "class Toy():\n",
    "    def __init__(self,n, hasard=0.1):\n",
    "        self.n = n\n",
    "        self.hasard = hasard\n",
    "        self.state = 0\n",
    "        \n",
    "    def reset(self):\n",
    "        self.state = 0\n",
    "        return np.array(0)\n",
    "        \n",
    "    def step(self, action):\n",
    "        r = np.random.random()\n",
    "        if r < self.hasard /2:\n",
    "            transition = -1\n",
    "        elif r < self.hasard:\n",
    "            transition = 1\n",
    "        else:\n",
    "            transition = 2*action-1\n",
    "        \n",
    "        self.state += transition\n",
    "        \n",
    "        if self.state >= self.n :\n",
    "            terminal = True\n",
    "            reward = 1\n",
    "        elif self.state<= -self.n:\n",
    "            terminal = True\n",
    "            reward = 0\n",
    "        else:\n",
    "            terminal = False\n",
    "            reward = 0\n",
    "        \n",
    "        return np.array(self.state), reward, terminal, \"yo\""
   ]
  },
  {
   "cell_type": "code",
   "execution_count": 248,
   "metadata": {},
   "outputs": [],
   "source": [
    "env = Toy(5)"
   ]
  },
  {
   "cell_type": "code",
   "execution_count": 249,
   "metadata": {},
   "outputs": [
    {
     "data": {
      "text/plain": [
       "array(0)"
      ]
     },
     "execution_count": 249,
     "metadata": {},
     "output_type": "execute_result"
    }
   ],
   "source": [
    "env.reset()"
   ]
  },
  {
   "cell_type": "code",
   "execution_count": 250,
   "metadata": {},
   "outputs": [],
   "source": [
    "#deux couts suivant gauche ou droite car y est de dim (2,1)\n",
    "CG = lambda val_cible: np.vectorize( lambda y: (y[0][0]-cible)**2 )\n",
    "CG_diff = lambda val_cible: lambda y : np.array([[2*(y[0][0]-val_cible)], [0]])\n",
    "CD_diff = lambda val_cible: lambda y : np.array([[0],[2*(y[0][0]-val_cible)]])"
   ]
  },
  {
   "cell_type": "code",
   "execution_count": 251,
   "metadata": {},
   "outputs": [],
   "source": [
    "toy_rn= Reseau_Neurones(1)\n",
    "toy_rn.ajout_couche(2, identite, identite_diff)"
   ]
  },
  {
   "cell_type": "code",
   "execution_count": 252,
   "metadata": {},
   "outputs": [],
   "source": [
    "def epsilon_greedy(state, epsilon):\n",
    "    r = np.random.random() \n",
    "    if r < epsilon/2:\n",
    "        return 0\n",
    "    elif r < epsilon:\n",
    "        return 1\n",
    "    else:\n",
    "        y = toy_rn.propag_avant(state, log=False)\n",
    "        vg = y[0][0]\n",
    "        vd = y[1][0]\n",
    "        #print(vg,vd)\n",
    "        #print(state_action)\n",
    "        #input(\"\")\n",
    "        if vg > vd:\n",
    "            return 0\n",
    "        else:\n",
    "            return 1"
   ]
  },
  {
   "cell_type": "code",
   "execution_count": 257,
   "metadata": {},
   "outputs": [
    {
     "name": "stdout",
     "output_type": "stream",
     "text": [
      "0 1 "
     ]
    }
   ],
   "source": [
    "alpha = 0.01\n",
    "gamma = 0.9\n",
    "nb_episodes = 50000\n",
    "old_cptr = 0\n",
    "best_reward = -1000\n",
    "update_cptr = 0\n",
    "list_rewards = []\n",
    "history = []\n",
    "max_history_length = 40000\n",
    "\n",
    "target_rn = copy.deepcopy(toy_rn)\n",
    "\n",
    "\n",
    "for n in range(nb_episodes):\n",
    "    #debut episode\n",
    "    state = env.reset()\n",
    "    state = state.reshape((1,1))\n",
    "    terminal = False\n",
    "    total_reward = 0\n",
    "\n",
    "    while not terminal:\n",
    "        update_cptr += 1\n",
    "        \n",
    "        if n % 100==0:\n",
    "            #env.render()\n",
    "            pass\n",
    "        action = epsilon_greedy(state, 0.1)\n",
    "        new_state, reward, terminal, info = env.step(action)\n",
    "        new_state = new_state.reshape((1,1))\n",
    "        \n",
    "        if len(history)<max_history_length:\n",
    "            history.append((state, action, reward, new_state))\n",
    "        else:\n",
    "            history[update_cptr%max_history_length] = (state, action, reward, new_state)\n",
    "        \n",
    "        total_reward += reward\n",
    "        \n",
    "        #sample_history et update\n",
    "        state, action, reward, new_state = history[np.random.randint(0,len(history))]\n",
    "              \n",
    "        old_qa = toy_rn.propag_avant(state, log=True)[action][0]\n",
    "        \n",
    "        max_qa_new_state = np.max( target_rn.propag_avant(new_state, log=False)[:,0])                            \n",
    "        \n",
    "        new_qa = reward + gamma*max_qa_new_state\n",
    "        \n",
    "        if action==0:\n",
    "            cdif = CG_diff(new_qa)\n",
    "        else:\n",
    "            cdif = CD_diff(new_qa)\n",
    "        #old_qa = qa_approximator.propag_avant(state_action, log=True)\n",
    "        toy_rn.propag_arriere(cdif)\n",
    "        \n",
    "        #if update_cptr%25==0:\n",
    "        toy_rn.pas_gradient(pas = 0.001, lambada = 0.01)\n",
    "        toy_rn.zero_gradient()\n",
    "        if update_cptr%5000==0:\n",
    "                target_rn = copy.deepcopy(toy_rn)\n",
    "        \n",
    "\n",
    "        #cptr += 1\n",
    "    list_rewards.append(total_reward)\n",
    "    if total_reward >  best_reward:\n",
    "        best_reward = total_reward\n",
    "        print (total_reward, end=\" \")\n"
   ]
  },
  {
   "cell_type": "markdown",
   "metadata": {},
   "source": [
    "### test q - learning tabulaire"
   ]
  },
  {
   "cell_type": "code",
   "execution_count": 273,
   "metadata": {},
   "outputs": [],
   "source": [
    "def epsilon_greedy(qa, state, epsilon):\n",
    "    if (state,0) not in qa:\n",
    "        qa[(state,0)] = 0\n",
    "    if (state,1) not in qa:\n",
    "        qa[(state,1)] = 0\n",
    "    r = np.random.random() \n",
    "    if r < epsilon/2:\n",
    "        return 0\n",
    "    elif r < epsilon:\n",
    "        return 1\n",
    "    else:\n",
    "\n",
    "        vg = qa[(state,0)]\n",
    "        vd = qa[(state,1)]\n",
    "        if vg > vd:\n",
    "            return 0\n",
    "        else:\n",
    "            return 1"
   ]
  },
  {
   "cell_type": "code",
   "execution_count": 318,
   "metadata": {},
   "outputs": [
    {
     "name": "stdout",
     "output_type": "stream",
     "text": [
      "1 "
     ]
    }
   ],
   "source": [
    "qa = {}\n",
    "alpha = 0.01\n",
    "gamma = 0.9\n",
    "nb_episodes = 50000\n",
    "old_cptr = 0\n",
    "best_reward = -1000\n",
    "update_cptr = 0\n",
    "list_rewards = []\n",
    "\n",
    "for n in range(nb_episodes):\n",
    "    #debut episode\n",
    "    state = int(env.reset())\n",
    "    terminal = False\n",
    "    total_reward = 0\n",
    "\n",
    "    while not terminal:\n",
    "        update_cptr += 1\n",
    "        \n",
    "        action = epsilon_greedy(qa, state, 0.75)\n",
    "        #print((state,action), end=\" \")\n",
    "        new_state, reward, terminal, info = env.step(action)\n",
    "        new_state = int(new_state)\n",
    "        #print(new_state, reward, terminal, info)\n",
    "        \n",
    "        total_reward += reward\n",
    "        if (new_state,0) not in qa:\n",
    "            qa[(new_state,0)] = 0\n",
    "        if (new_state,1) not in qa:\n",
    "            qa[(new_state,1)] = 0\n",
    "        max_qa_new_state = max( qa[(new_state,0)], qa[(new_state,1)])\n",
    "        \n",
    "        new_qa = reward + gamma*max_qa_new_state\n",
    "        \n",
    "        qa[(state,action)] = (1-alpha)* qa[(state,action)]  + alpha*new_qa\n",
    "        \n",
    "        state = new_state\n",
    "\n",
    "\n",
    "    list_rewards.append(total_reward)\n",
    "    if total_reward >  best_reward:\n",
    "        best_reward = total_reward\n",
    "        print (total_reward, end=\" \")\n"
   ]
  },
  {
   "cell_type": "code",
   "execution_count": 319,
   "metadata": {},
   "outputs": [
    {
     "data": {
      "text/plain": [
       "5"
      ]
     },
     "execution_count": 319,
     "metadata": {},
     "output_type": "execute_result"
    }
   ],
   "source": [
    "state"
   ]
  },
  {
   "cell_type": "code",
   "execution_count": 320,
   "metadata": {},
   "outputs": [
    {
     "name": "stdout",
     "output_type": "stream",
     "text": [
      "-12.97933336476478\n",
      "-7.785152695517277\n",
      "-7.267058131813665\n",
      "-5.258878627905395\n",
      "-4.69023381903961\n",
      "-4.532301496011692\n",
      "-3.8284829243196006\n",
      "-2.2053958554246864\n",
      "-0.8644376685922772\n"
     ]
    }
   ],
   "source": [
    "for x in range(-4,5):\n",
    "    target = gamma**(5-x-1)\n",
    "    val = qa[(x,1)]\n",
    "    print((val - target)/target*100)"
   ]
  },
  {
   "cell_type": "code",
   "execution_count": 321,
   "metadata": {},
   "outputs": [
    {
     "data": {
      "text/plain": [
       "{(0, 0): 0.5054871823421291,\n",
       " (0, 1): 0.6253273759132811,\n",
       " (1, 0): 0.5708487127584061,\n",
       " (1, 1): 0.6959595220940749,\n",
       " (2, 0): 0.6385363233439915,\n",
       " (2, 1): 0.7789892883130113,\n",
       " (3, 0): 0.7127113362457235,\n",
       " (3, 1): 0.8801514373011778,\n",
       " (4, 0): 0.8112915238873188,\n",
       " (4, 1): 0.9913556233140772,\n",
       " (5, 0): 0,\n",
       " (5, 1): 0,\n",
       " (-1, 0): 0.45125699630734917,\n",
       " (-1, 1): 0.5594368475900815,\n",
       " (-2, 0): 0.4051562997082961,\n",
       " (-2, 1): 0.4928208735937082,\n",
       " (-3, 0): 0.3400028399290953,\n",
       " (-3, 1): 0.4410607559970745,\n",
       " (-4, 0): 0.013340424845094897,\n",
       " (-4, 1): 0.374595435788098,\n",
       " (-5, 0): 0,\n",
       " (-5, 1): 0}"
      ]
     },
     "execution_count": 321,
     "metadata": {},
     "output_type": "execute_result"
    }
   ],
   "source": [
    "qa"
   ]
  },
  {
   "cell_type": "code",
   "execution_count": null,
   "metadata": {},
   "outputs": [],
   "source": []
  }
 ],
 "metadata": {
  "kernelspec": {
   "display_name": "Python 3",
   "language": "python",
   "name": "python3"
  },
  "language_info": {
   "codemirror_mode": {
    "name": "ipython",
    "version": 3
   },
   "file_extension": ".py",
   "mimetype": "text/x-python",
   "name": "python",
   "nbconvert_exporter": "python",
   "pygments_lexer": "ipython3",
   "version": "3.7.6"
  },
  "toc": {
   "base_numbering": 1,
   "nav_menu": {},
   "number_sections": true,
   "sideBar": true,
   "skip_h1_title": false,
   "title_cell": "Table of Contents",
   "title_sidebar": "Contents",
   "toc_cell": false,
   "toc_position": {},
   "toc_section_display": true,
   "toc_window_display": false
  }
 },
 "nbformat": 4,
 "nbformat_minor": 4
}
